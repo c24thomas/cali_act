{
 "cells": [
  {
   "cell_type": "markdown",
   "metadata": {},
   "source": [
    "# Standardized Test Analysis"
   ]
  },
  {
   "cell_type": "markdown",
   "metadata": {},
   "source": [
    "## Problem Statement"
   ]
  },
  {
   "cell_type": "markdown",
   "metadata": {},
   "source": [
    "This project aims to identify the best- and worst-performing CA school districts on the ACT and SAT for 2019. The insights gleaned from this project will enable the state of California to not only direct resources to the districts in need, but also identify possible reasons for the disparities in performance."
   ]
  },
  {
   "cell_type": "markdown",
   "metadata": {},
   "source": [
    "### Contents:\n",
    "- [Background](#Background)\n",
    "- [Data Import & Cleaning](#Data-Import-and-Cleaning)\n",
    "- [Exploratory Data Analysis](#Exploratory-Data-Analysis)\n",
    "- [Data Visualization](#Visualize-the-Data)\n",
    "- [Conclusions and Recommendations](#Conclusions-and-Recommendations)"
   ]
  },
  {
   "cell_type": "markdown",
   "metadata": {},
   "source": [
    "## Background"
   ]
  },
  {
   "cell_type": "markdown",
   "metadata": {},
   "source": [
    "The SAT and ACT are standardized tests that many colleges and universities in the United States require for their admissions process. This score is used along with other materials such as grade point average (GPA) and essay responses to determine whether or not a potential student will be accepted to the university.\n",
    "\n",
    "The SAT has two sections of the test: Evidence-Based Reading and Writing and Math ([*source*](https://www.princetonreview.com/college/sat-sections)). The ACT has 4 sections: English, Mathematics, Reading, and Science, with an additional optional writing section ([*source*](https://www.act.org/content/act/en/products-and-services/the-act/scores/understanding-your-scores.html)). They have different score ranges, which you can read more about on their websites or additional outside sources (a quick Google search will help you understand the scores for each test):\n",
    "* [SAT](https://collegereadiness.collegeboard.org/sat)\n",
    "* [ACT](https://www.act.org/content/act/en.html)\n",
    "\n",
    "Standardized tests have long been a controversial topic for students, administrators, and legislators. Since the 1940's, an increasing number of colleges have been using scores from sudents' performances on tests like the SAT and the ACT as a measure for college readiness and aptitude ([*source*](https://www.minotdailynews.com/news/local-news/2017/04/a-brief-history-of-the-sat-and-act/)). Supporters of these tests argue that these scores can be used as an objective measure to determine college admittance. Opponents of these tests claim that these tests are not accurate measures of students potential or ability and serve as an inequitable barrier to entry. Lately, more and more schools are opting to drop the SAT/ACT requirement for their Fall 2021 applications ([*read more about this here*](https://www.cnn.com/2020/04/14/us/coronavirus-colleges-sat-act-test-trnd/index.html))."
   ]
  },
  {
   "cell_type": "markdown",
   "metadata": {},
   "source": [
    "# These are the datasets I used\n",
    "* [`act_2019_ca.csv`](./data/act_2019_ca.csv): 2019 ACT Scores in California by School\n",
    "* [`sat_2019_ca.csv`](./data/sat_2019_ca.csv): 2019 SAT Scores in California by School\n",
    "* [`ca_county_income.xlsx`](./data/ca_county_income.xlsx): 2017 Median Household Income by County (Wikipedia)"
   ]
  },
  {
   "cell_type": "markdown",
   "metadata": {},
   "source": [
    "### Outside Research"
   ]
  },
  {
   "cell_type": "markdown",
   "metadata": {},
   "source": [
    "https://reason.org/commentary/california-school-spending-goes-up/\n",
    "\n",
    "https://www.alec.org/article/increasing-education-spending-equal-higher-test-scores/\n",
    "\n",
    "https://edsource.org/2017/how-does-california-rank-in-per-pupil-spending-it-all-depends/577405\n",
    "\n",
    "https://www.latimes.com/politics/la-pol-ca-road-map-california-school-funding-shortfall-20190512-story.html\n",
    "\n",
    "\n",
    "https://en.wikipedia.org/wiki/List_of_California_locations_by_income\n",
    "\n",
    "\n",
    "Based on the above articles, there is some disagreement on whether or not increased spending on education actually benefits students (in the form of higher test scores). Additionally, I couldn't find easily accessible information on education spending by district/county, but education budgets come out of taxes, and I was able to find median household incomes for every county in California. Any further analysis is assuming a linear relationship between median income and education spending in a given county.\n",
    "\n",
    "I want to see if I can show some correlation between average income and test performance."
   ]
  },
  {
   "cell_type": "code",
   "execution_count": 1,
   "metadata": {
    "ExecuteTime": {
     "end_time": "2021-06-19T23:16:17.612441Z",
     "start_time": "2021-06-19T23:16:17.598046Z"
    }
   },
   "outputs": [],
   "source": [
    "import random as r"
   ]
  },
  {
   "cell_type": "code",
   "execution_count": 2,
   "metadata": {
    "ExecuteTime": {
     "end_time": "2021-06-19T23:16:17.627814Z",
     "start_time": "2021-06-19T23:16:17.613407Z"
    }
   },
   "outputs": [],
   "source": [
    "# Code:\n",
    "def get_mean(arr):\n",
    "    return sum(arr) / len(arr)\n",
    "\n",
    "nums = [r.randint(0, 100) for i in range(10)]"
   ]
  },
  {
   "cell_type": "code",
   "execution_count": 3,
   "metadata": {
    "ExecuteTime": {
     "end_time": "2021-06-19T23:16:17.643190Z",
     "start_time": "2021-06-19T23:16:17.629279Z"
    }
   },
   "outputs": [
    {
     "data": {
      "text/plain": [
       "[76, 45, 58, 93, 97, 64, 85, 87, 54, 33]"
      ]
     },
     "execution_count": 3,
     "metadata": {},
     "output_type": "execute_result"
    }
   ],
   "source": [
    "nums"
   ]
  },
  {
   "cell_type": "code",
   "execution_count": 4,
   "metadata": {
    "ExecuteTime": {
     "end_time": "2021-06-19T23:16:17.658566Z",
     "start_time": "2021-06-19T23:16:17.644158Z"
    }
   },
   "outputs": [
    {
     "data": {
      "text/plain": [
       "69.2"
      ]
     },
     "execution_count": 4,
     "metadata": {},
     "output_type": "execute_result"
    }
   ],
   "source": [
    "get_mean(nums)"
   ]
  },
  {
   "cell_type": "code",
   "execution_count": 5,
   "metadata": {
    "ExecuteTime": {
     "end_time": "2021-06-19T23:16:17.673941Z",
     "start_time": "2021-06-19T23:16:17.659533Z"
    }
   },
   "outputs": [],
   "source": [
    "# Code:\n",
    "def std_dev(arr):\n",
    "    try:\n",
    "        return ( sum([(i - get_mean(arr)) ** 2 for i in arr]) / (len(arr))) ** .5\n",
    "    except TypeError:\n",
    "        return 'n/a'\n",
    "# I included the try/except logic to combat a TypeError I was seeing while\n",
    "# trying to calculate standard deviation on columns with null values"
   ]
  },
  {
   "cell_type": "code",
   "execution_count": 6,
   "metadata": {
    "ExecuteTime": {
     "end_time": "2021-06-19T23:16:17.689319Z",
     "start_time": "2021-06-19T23:16:17.674911Z"
    }
   },
   "outputs": [
    {
     "data": {
      "text/plain": [
       "20.570853166555832"
      ]
     },
     "execution_count": 6,
     "metadata": {},
     "output_type": "execute_result"
    }
   ],
   "source": [
    "std_dev(nums)"
   ]
  },
  {
   "cell_type": "code",
   "execution_count": 7,
   "metadata": {
    "ExecuteTime": {
     "end_time": "2021-06-19T23:16:17.704697Z",
     "start_time": "2021-06-19T23:16:17.690285Z"
    }
   },
   "outputs": [
    {
     "data": {
      "text/plain": [
       "0.345"
      ]
     },
     "execution_count": 7,
     "metadata": {},
     "output_type": "execute_result"
    }
   ],
   "source": [
    "# Code:\n",
    "def cleaner(string):\n",
    "    return float(string[:-1]) / 100\n",
    "cleaner('34.5%')"
   ]
  },
  {
   "cell_type": "code",
   "execution_count": 8,
   "metadata": {
    "ExecuteTime": {
     "end_time": "2021-06-19T23:16:19.753300Z",
     "start_time": "2021-06-19T23:16:17.706185Z"
    }
   },
   "outputs": [],
   "source": [
    "# Imports:\n",
    "import pandas as pd\n",
    "import numpy as np\n",
    "import matplotlib.pyplot as plt\n",
    "import seaborn as sns\n",
    "%matplotlib inline"
   ]
  },
  {
   "cell_type": "markdown",
   "metadata": {},
   "source": [
    "## Data Import and Cleaning"
   ]
  },
  {
   "cell_type": "markdown",
   "metadata": {},
   "source": [
    "Display the data"
   ]
  },
  {
   "cell_type": "code",
   "execution_count": 9,
   "metadata": {
    "ExecuteTime": {
     "end_time": "2021-06-19T23:16:19.799428Z",
     "start_time": "2021-06-19T23:16:19.754819Z"
    }
   },
   "outputs": [
    {
     "data": {
      "text/html": [
       "<div>\n",
       "<style scoped>\n",
       "    .dataframe tbody tr th:only-of-type {\n",
       "        vertical-align: middle;\n",
       "    }\n",
       "\n",
       "    .dataframe tbody tr th {\n",
       "        vertical-align: top;\n",
       "    }\n",
       "\n",
       "    .dataframe thead th {\n",
       "        text-align: right;\n",
       "    }\n",
       "</style>\n",
       "<table border=\"1\" class=\"dataframe\">\n",
       "  <thead>\n",
       "    <tr style=\"text-align: right;\">\n",
       "      <th></th>\n",
       "      <th>CDS</th>\n",
       "      <th>CCode</th>\n",
       "      <th>CDCode</th>\n",
       "      <th>SCode</th>\n",
       "      <th>RType</th>\n",
       "      <th>SName</th>\n",
       "      <th>DName</th>\n",
       "      <th>CName</th>\n",
       "      <th>Enroll12</th>\n",
       "      <th>NumTSTTakr12</th>\n",
       "      <th>...</th>\n",
       "      <th>NumERWBenchmark11</th>\n",
       "      <th>PctERWBenchmark11</th>\n",
       "      <th>NumMathBenchmark11</th>\n",
       "      <th>PctMathBenchmark11</th>\n",
       "      <th>TotNumBothBenchmark12</th>\n",
       "      <th>PctBothBenchmark12</th>\n",
       "      <th>TotNumBothBenchmark11</th>\n",
       "      <th>PctBothBenchmark11</th>\n",
       "      <th>Year</th>\n",
       "      <th>Unnamed: 25</th>\n",
       "    </tr>\n",
       "  </thead>\n",
       "  <tbody>\n",
       "    <tr>\n",
       "      <th>0</th>\n",
       "      <td>6.615981e+12</td>\n",
       "      <td>6.0</td>\n",
       "      <td>661598.0</td>\n",
       "      <td>630046.0</td>\n",
       "      <td>S</td>\n",
       "      <td>Colusa Alternative Home</td>\n",
       "      <td>Colusa Unified</td>\n",
       "      <td>Colusa</td>\n",
       "      <td>18.0</td>\n",
       "      <td>0.0</td>\n",
       "      <td>...</td>\n",
       "      <td>NaN</td>\n",
       "      <td>NaN</td>\n",
       "      <td>NaN</td>\n",
       "      <td>NaN</td>\n",
       "      <td>NaN</td>\n",
       "      <td>NaN</td>\n",
       "      <td>NaN</td>\n",
       "      <td>NaN</td>\n",
       "      <td>2018-19</td>\n",
       "      <td>NaN</td>\n",
       "    </tr>\n",
       "    <tr>\n",
       "      <th>1</th>\n",
       "      <td>6.616061e+12</td>\n",
       "      <td>6.0</td>\n",
       "      <td>661606.0</td>\n",
       "      <td>634758.0</td>\n",
       "      <td>S</td>\n",
       "      <td>Maxwell Sr High</td>\n",
       "      <td>Maxwell Unified</td>\n",
       "      <td>Colusa</td>\n",
       "      <td>29.0</td>\n",
       "      <td>10.0</td>\n",
       "      <td>...</td>\n",
       "      <td>NaN</td>\n",
       "      <td>NaN</td>\n",
       "      <td>NaN</td>\n",
       "      <td>NaN</td>\n",
       "      <td>NaN</td>\n",
       "      <td>NaN</td>\n",
       "      <td>NaN</td>\n",
       "      <td>NaN</td>\n",
       "      <td>2018-19</td>\n",
       "      <td>NaN</td>\n",
       "    </tr>\n",
       "    <tr>\n",
       "      <th>2</th>\n",
       "      <td>1.964733e+13</td>\n",
       "      <td>19.0</td>\n",
       "      <td>1964733.0</td>\n",
       "      <td>1930924.0</td>\n",
       "      <td>S</td>\n",
       "      <td>Belmont Senior High</td>\n",
       "      <td>Los Angeles Unified</td>\n",
       "      <td>Los Angeles</td>\n",
       "      <td>206.0</td>\n",
       "      <td>102.0</td>\n",
       "      <td>...</td>\n",
       "      <td>42.0</td>\n",
       "      <td>24.14</td>\n",
       "      <td>12.0</td>\n",
       "      <td>6.90</td>\n",
       "      <td>14.0</td>\n",
       "      <td>13.73</td>\n",
       "      <td>11.0</td>\n",
       "      <td>6.32</td>\n",
       "      <td>2018-19</td>\n",
       "      <td>NaN</td>\n",
       "    </tr>\n",
       "    <tr>\n",
       "      <th>3</th>\n",
       "      <td>1.964733e+13</td>\n",
       "      <td>19.0</td>\n",
       "      <td>1964733.0</td>\n",
       "      <td>1931476.0</td>\n",
       "      <td>S</td>\n",
       "      <td>Canoga Park Senior High</td>\n",
       "      <td>Los Angeles Unified</td>\n",
       "      <td>Los Angeles</td>\n",
       "      <td>227.0</td>\n",
       "      <td>113.0</td>\n",
       "      <td>...</td>\n",
       "      <td>97.0</td>\n",
       "      <td>35.27</td>\n",
       "      <td>37.0</td>\n",
       "      <td>13.45</td>\n",
       "      <td>18.0</td>\n",
       "      <td>15.93</td>\n",
       "      <td>35.0</td>\n",
       "      <td>12.73</td>\n",
       "      <td>2018-19</td>\n",
       "      <td>NaN</td>\n",
       "    </tr>\n",
       "    <tr>\n",
       "      <th>4</th>\n",
       "      <td>1.964733e+13</td>\n",
       "      <td>19.0</td>\n",
       "      <td>1964733.0</td>\n",
       "      <td>1931856.0</td>\n",
       "      <td>S</td>\n",
       "      <td>Whitman Continuation</td>\n",
       "      <td>Los Angeles Unified</td>\n",
       "      <td>Los Angeles</td>\n",
       "      <td>18.0</td>\n",
       "      <td>14.0</td>\n",
       "      <td>...</td>\n",
       "      <td>NaN</td>\n",
       "      <td>NaN</td>\n",
       "      <td>NaN</td>\n",
       "      <td>NaN</td>\n",
       "      <td>NaN</td>\n",
       "      <td>NaN</td>\n",
       "      <td>NaN</td>\n",
       "      <td>NaN</td>\n",
       "      <td>2018-19</td>\n",
       "      <td>NaN</td>\n",
       "    </tr>\n",
       "  </tbody>\n",
       "</table>\n",
       "<p>5 rows × 26 columns</p>\n",
       "</div>"
      ],
      "text/plain": [
       "            CDS  CCode     CDCode      SCode RType                    SName  \\\n",
       "0  6.615981e+12    6.0   661598.0   630046.0     S  Colusa Alternative Home   \n",
       "1  6.616061e+12    6.0   661606.0   634758.0     S          Maxwell Sr High   \n",
       "2  1.964733e+13   19.0  1964733.0  1930924.0     S      Belmont Senior High   \n",
       "3  1.964733e+13   19.0  1964733.0  1931476.0     S  Canoga Park Senior High   \n",
       "4  1.964733e+13   19.0  1964733.0  1931856.0     S     Whitman Continuation   \n",
       "\n",
       "                 DName        CName  Enroll12  NumTSTTakr12  ...  \\\n",
       "0       Colusa Unified       Colusa      18.0           0.0  ...   \n",
       "1      Maxwell Unified       Colusa      29.0          10.0  ...   \n",
       "2  Los Angeles Unified  Los Angeles     206.0         102.0  ...   \n",
       "3  Los Angeles Unified  Los Angeles     227.0         113.0  ...   \n",
       "4  Los Angeles Unified  Los Angeles      18.0          14.0  ...   \n",
       "\n",
       "   NumERWBenchmark11  PctERWBenchmark11  NumMathBenchmark11  \\\n",
       "0                NaN                NaN                 NaN   \n",
       "1                NaN                NaN                 NaN   \n",
       "2               42.0              24.14                12.0   \n",
       "3               97.0              35.27                37.0   \n",
       "4                NaN                NaN                 NaN   \n",
       "\n",
       "   PctMathBenchmark11  TotNumBothBenchmark12  PctBothBenchmark12  \\\n",
       "0                 NaN                    NaN                 NaN   \n",
       "1                 NaN                    NaN                 NaN   \n",
       "2                6.90                   14.0               13.73   \n",
       "3               13.45                   18.0               15.93   \n",
       "4                 NaN                    NaN                 NaN   \n",
       "\n",
       "   TotNumBothBenchmark11  PctBothBenchmark11     Year  Unnamed: 25  \n",
       "0                    NaN                 NaN  2018-19          NaN  \n",
       "1                    NaN                 NaN  2018-19          NaN  \n",
       "2                   11.0                6.32  2018-19          NaN  \n",
       "3                   35.0               12.73  2018-19          NaN  \n",
       "4                    NaN                 NaN  2018-19          NaN  \n",
       "\n",
       "[5 rows x 26 columns]"
      ]
     },
     "execution_count": 9,
     "metadata": {},
     "output_type": "execute_result"
    }
   ],
   "source": [
    "sat = pd.read_csv('../data/sat_2019_ca.csv', na_values=['*'])\n",
    "sat.head()"
   ]
  },
  {
   "cell_type": "markdown",
   "metadata": {},
   "source": [
    "Check for missing values."
   ]
  },
  {
   "cell_type": "code",
   "execution_count": 10,
   "metadata": {
    "ExecuteTime": {
     "end_time": "2021-06-19T23:16:19.814828Z",
     "start_time": "2021-06-19T23:16:19.800916Z"
    }
   },
   "outputs": [
    {
     "data": {
      "text/plain": [
       "CDS                         1\n",
       "CCode                       1\n",
       "CDCode                      1\n",
       "SCode                       1\n",
       "RType                       1\n",
       "SName                     598\n",
       "DName                      59\n",
       "CName                       1\n",
       "Enroll12                    1\n",
       "NumTSTTakr12                1\n",
       "NumERWBenchmark12         858\n",
       "PctERWBenchmark12         858\n",
       "NumMathBenchmark12        858\n",
       "PctMathBenchmark12        858\n",
       "Enroll11                    1\n",
       "NumTSTTakr11                1\n",
       "NumERWBenchmark11         844\n",
       "PctERWBenchmark11         844\n",
       "NumMathBenchmark11        844\n",
       "PctMathBenchmark11        844\n",
       "TotNumBothBenchmark12     858\n",
       "PctBothBenchmark12        858\n",
       "TotNumBothBenchmark11     844\n",
       "PctBothBenchmark11        844\n",
       "Year                        1\n",
       "Unnamed: 25              2580\n",
       "dtype: int64"
      ]
     },
     "execution_count": 10,
     "metadata": {},
     "output_type": "execute_result"
    }
   ],
   "source": [
    "sat.isna().sum()"
   ]
  },
  {
   "cell_type": "markdown",
   "metadata": {},
   "source": [
    "Check for any obvious issues with the observations (keep in mind the minimum & maximum possible values for each test/subtest)."
   ]
  },
  {
   "cell_type": "code",
   "execution_count": 11,
   "metadata": {
    "ExecuteTime": {
     "end_time": "2021-06-19T23:16:19.830198Z",
     "start_time": "2021-06-19T23:16:19.815797Z"
    },
    "scrolled": true
   },
   "outputs": [
    {
     "name": "stdout",
     "output_type": "stream",
     "text": [
      "<class 'pandas.core.frame.DataFrame'>\n",
      "RangeIndex: 2580 entries, 0 to 2579\n",
      "Data columns (total 26 columns):\n",
      " #   Column                 Non-Null Count  Dtype  \n",
      "---  ------                 --------------  -----  \n",
      " 0   CDS                    2579 non-null   float64\n",
      " 1   CCode                  2579 non-null   float64\n",
      " 2   CDCode                 2579 non-null   float64\n",
      " 3   SCode                  2579 non-null   float64\n",
      " 4   RType                  2579 non-null   object \n",
      " 5   SName                  1982 non-null   object \n",
      " 6   DName                  2521 non-null   object \n",
      " 7   CName                  2579 non-null   object \n",
      " 8   Enroll12               2579 non-null   float64\n",
      " 9   NumTSTTakr12           2579 non-null   float64\n",
      " 10  NumERWBenchmark12      1722 non-null   float64\n",
      " 11  PctERWBenchmark12      1722 non-null   float64\n",
      " 12  NumMathBenchmark12     1722 non-null   float64\n",
      " 13  PctMathBenchmark12     1722 non-null   float64\n",
      " 14  Enroll11               2579 non-null   float64\n",
      " 15  NumTSTTakr11           2579 non-null   float64\n",
      " 16  NumERWBenchmark11      1736 non-null   float64\n",
      " 17  PctERWBenchmark11      1736 non-null   float64\n",
      " 18  NumMathBenchmark11     1736 non-null   float64\n",
      " 19  PctMathBenchmark11     1736 non-null   float64\n",
      " 20  TotNumBothBenchmark12  1722 non-null   float64\n",
      " 21  PctBothBenchmark12     1722 non-null   float64\n",
      " 22  TotNumBothBenchmark11  1736 non-null   float64\n",
      " 23  PctBothBenchmark11     1736 non-null   float64\n",
      " 24  Year                   2579 non-null   object \n",
      " 25  Unnamed: 25            0 non-null      float64\n",
      "dtypes: float64(21), object(5)\n",
      "memory usage: 524.2+ KB\n"
     ]
    }
   ],
   "source": [
    "sat.info()"
   ]
  },
  {
   "cell_type": "code",
   "execution_count": 12,
   "metadata": {
    "ExecuteTime": {
     "end_time": "2021-06-19T23:16:19.876333Z",
     "start_time": "2021-06-19T23:16:19.831669Z"
    }
   },
   "outputs": [
    {
     "data": {
      "text/html": [
       "<div>\n",
       "<style scoped>\n",
       "    .dataframe tbody tr th:only-of-type {\n",
       "        vertical-align: middle;\n",
       "    }\n",
       "\n",
       "    .dataframe tbody tr th {\n",
       "        vertical-align: top;\n",
       "    }\n",
       "\n",
       "    .dataframe thead th {\n",
       "        text-align: right;\n",
       "    }\n",
       "</style>\n",
       "<table border=\"1\" class=\"dataframe\">\n",
       "  <thead>\n",
       "    <tr style=\"text-align: right;\">\n",
       "      <th></th>\n",
       "      <th>count</th>\n",
       "      <th>mean</th>\n",
       "      <th>std</th>\n",
       "      <th>min</th>\n",
       "      <th>25%</th>\n",
       "      <th>50%</th>\n",
       "      <th>75%</th>\n",
       "      <th>max</th>\n",
       "    </tr>\n",
       "  </thead>\n",
       "  <tbody>\n",
       "    <tr>\n",
       "      <th>CDS</th>\n",
       "      <td>2579.0</td>\n",
       "      <td>2.915139e+13</td>\n",
       "      <td>1.428328e+13</td>\n",
       "      <td>0.0</td>\n",
       "      <td>1.964725e+13</td>\n",
       "      <td>3.066597e+13</td>\n",
       "      <td>3.777103e+13</td>\n",
       "      <td>5.872770e+13</td>\n",
       "    </tr>\n",
       "    <tr>\n",
       "      <th>CCode</th>\n",
       "      <td>2579.0</td>\n",
       "      <td>2.851958e+01</td>\n",
       "      <td>1.425817e+01</td>\n",
       "      <td>0.0</td>\n",
       "      <td>1.900000e+01</td>\n",
       "      <td>3.000000e+01</td>\n",
       "      <td>3.700000e+01</td>\n",
       "      <td>5.800000e+01</td>\n",
       "    </tr>\n",
       "    <tr>\n",
       "      <th>CDCode</th>\n",
       "      <td>2579.0</td>\n",
       "      <td>2.915138e+06</td>\n",
       "      <td>1.428327e+06</td>\n",
       "      <td>0.0</td>\n",
       "      <td>1.964725e+06</td>\n",
       "      <td>3.066597e+06</td>\n",
       "      <td>3.777103e+06</td>\n",
       "      <td>5.872769e+06</td>\n",
       "    </tr>\n",
       "    <tr>\n",
       "      <th>SCode</th>\n",
       "      <td>2579.0</td>\n",
       "      <td>1.544913e+06</td>\n",
       "      <td>1.812049e+06</td>\n",
       "      <td>0.0</td>\n",
       "      <td>1.025080e+05</td>\n",
       "      <td>1.377860e+05</td>\n",
       "      <td>3.037422e+06</td>\n",
       "      <td>6.120893e+06</td>\n",
       "    </tr>\n",
       "    <tr>\n",
       "      <th>Enroll12</th>\n",
       "      <td>2579.0</td>\n",
       "      <td>7.481555e+02</td>\n",
       "      <td>1.009576e+04</td>\n",
       "      <td>0.0</td>\n",
       "      <td>6.300000e+01</td>\n",
       "      <td>1.710000e+02</td>\n",
       "      <td>4.620000e+02</td>\n",
       "      <td>4.896500e+05</td>\n",
       "    </tr>\n",
       "    <tr>\n",
       "      <th>NumTSTTakr12</th>\n",
       "      <td>2579.0</td>\n",
       "      <td>2.642741e+02</td>\n",
       "      <td>3.568205e+03</td>\n",
       "      <td>0.0</td>\n",
       "      <td>5.000000e+00</td>\n",
       "      <td>5.500000e+01</td>\n",
       "      <td>1.610000e+02</td>\n",
       "      <td>1.704110e+05</td>\n",
       "    </tr>\n",
       "    <tr>\n",
       "      <th>NumERWBenchmark12</th>\n",
       "      <td>1722.0</td>\n",
       "      <td>2.695401e+02</td>\n",
       "      <td>2.956948e+03</td>\n",
       "      <td>0.0</td>\n",
       "      <td>3.300000e+01</td>\n",
       "      <td>7.900000e+01</td>\n",
       "      <td>1.610000e+02</td>\n",
       "      <td>1.165000e+05</td>\n",
       "    </tr>\n",
       "    <tr>\n",
       "      <th>PctERWBenchmark12</th>\n",
       "      <td>1722.0</td>\n",
       "      <td>6.831844e+01</td>\n",
       "      <td>2.032934e+01</td>\n",
       "      <td>0.0</td>\n",
       "      <td>5.462250e+01</td>\n",
       "      <td>7.181000e+01</td>\n",
       "      <td>8.511000e+01</td>\n",
       "      <td>1.000000e+02</td>\n",
       "    </tr>\n",
       "    <tr>\n",
       "      <th>NumMathBenchmark12</th>\n",
       "      <td>1722.0</td>\n",
       "      <td>1.888595e+02</td>\n",
       "      <td>2.063413e+03</td>\n",
       "      <td>0.0</td>\n",
       "      <td>1.700000e+01</td>\n",
       "      <td>4.850000e+01</td>\n",
       "      <td>1.177500e+02</td>\n",
       "      <td>8.155100e+04</td>\n",
       "    </tr>\n",
       "    <tr>\n",
       "      <th>PctMathBenchmark12</th>\n",
       "      <td>1722.0</td>\n",
       "      <td>4.578354e+01</td>\n",
       "      <td>2.287735e+01</td>\n",
       "      <td>0.0</td>\n",
       "      <td>2.751250e+01</td>\n",
       "      <td>4.504000e+01</td>\n",
       "      <td>6.402250e+01</td>\n",
       "      <td>1.000000e+02</td>\n",
       "    </tr>\n",
       "    <tr>\n",
       "      <th>Enroll11</th>\n",
       "      <td>2579.0</td>\n",
       "      <td>7.308655e+02</td>\n",
       "      <td>9.792971e+03</td>\n",
       "      <td>0.0</td>\n",
       "      <td>5.250000e+01</td>\n",
       "      <td>1.650000e+02</td>\n",
       "      <td>4.740000e+02</td>\n",
       "      <td>4.748430e+05</td>\n",
       "    </tr>\n",
       "    <tr>\n",
       "      <th>NumTSTTakr11</th>\n",
       "      <td>2579.0</td>\n",
       "      <td>3.204731e+02</td>\n",
       "      <td>4.396616e+03</td>\n",
       "      <td>0.0</td>\n",
       "      <td>5.000000e+00</td>\n",
       "      <td>6.200000e+01</td>\n",
       "      <td>1.800000e+02</td>\n",
       "      <td>2.066420e+05</td>\n",
       "    </tr>\n",
       "    <tr>\n",
       "      <th>NumERWBenchmark11</th>\n",
       "      <td>1736.0</td>\n",
       "      <td>3.314274e+02</td>\n",
       "      <td>3.667165e+03</td>\n",
       "      <td>0.0</td>\n",
       "      <td>3.900000e+01</td>\n",
       "      <td>8.600000e+01</td>\n",
       "      <td>1.992500e+02</td>\n",
       "      <td>1.443180e+05</td>\n",
       "    </tr>\n",
       "    <tr>\n",
       "      <th>PctERWBenchmark11</th>\n",
       "      <td>1736.0</td>\n",
       "      <td>7.192281e+01</td>\n",
       "      <td>2.283436e+01</td>\n",
       "      <td>0.0</td>\n",
       "      <td>5.839750e+01</td>\n",
       "      <td>7.778000e+01</td>\n",
       "      <td>9.045750e+01</td>\n",
       "      <td>1.000000e+02</td>\n",
       "    </tr>\n",
       "    <tr>\n",
       "      <th>NumMathBenchmark11</th>\n",
       "      <td>1736.0</td>\n",
       "      <td>2.495501e+02</td>\n",
       "      <td>2.739618e+03</td>\n",
       "      <td>0.0</td>\n",
       "      <td>2.300000e+01</td>\n",
       "      <td>6.000000e+01</td>\n",
       "      <td>1.542500e+02</td>\n",
       "      <td>1.086350e+05</td>\n",
       "    </tr>\n",
       "    <tr>\n",
       "      <th>PctMathBenchmark11</th>\n",
       "      <td>1736.0</td>\n",
       "      <td>5.391748e+01</td>\n",
       "      <td>2.717282e+01</td>\n",
       "      <td>0.0</td>\n",
       "      <td>3.090250e+01</td>\n",
       "      <td>5.714000e+01</td>\n",
       "      <td>7.648750e+01</td>\n",
       "      <td>1.000000e+02</td>\n",
       "    </tr>\n",
       "    <tr>\n",
       "      <th>TotNumBothBenchmark12</th>\n",
       "      <td>1722.0</td>\n",
       "      <td>1.787323e+02</td>\n",
       "      <td>1.951896e+03</td>\n",
       "      <td>0.0</td>\n",
       "      <td>1.600000e+01</td>\n",
       "      <td>4.450000e+01</td>\n",
       "      <td>1.130000e+02</td>\n",
       "      <td>7.717800e+04</td>\n",
       "    </tr>\n",
       "    <tr>\n",
       "      <th>PctBothBenchmark12</th>\n",
       "      <td>1722.0</td>\n",
       "      <td>4.337171e+01</td>\n",
       "      <td>2.289274e+01</td>\n",
       "      <td>0.0</td>\n",
       "      <td>2.500000e+01</td>\n",
       "      <td>4.233000e+01</td>\n",
       "      <td>6.148250e+01</td>\n",
       "      <td>1.000000e+02</td>\n",
       "    </tr>\n",
       "    <tr>\n",
       "      <th>TotNumBothBenchmark11</th>\n",
       "      <td>1736.0</td>\n",
       "      <td>2.387005e+02</td>\n",
       "      <td>2.619044e+03</td>\n",
       "      <td>0.0</td>\n",
       "      <td>2.200000e+01</td>\n",
       "      <td>5.700000e+01</td>\n",
       "      <td>1.490000e+02</td>\n",
       "      <td>1.039150e+05</td>\n",
       "    </tr>\n",
       "    <tr>\n",
       "      <th>PctBothBenchmark11</th>\n",
       "      <td>1736.0</td>\n",
       "      <td>5.154821e+01</td>\n",
       "      <td>2.724125e+01</td>\n",
       "      <td>0.0</td>\n",
       "      <td>2.778000e+01</td>\n",
       "      <td>5.390000e+01</td>\n",
       "      <td>7.418000e+01</td>\n",
       "      <td>9.968000e+01</td>\n",
       "    </tr>\n",
       "    <tr>\n",
       "      <th>Unnamed: 25</th>\n",
       "      <td>0.0</td>\n",
       "      <td>NaN</td>\n",
       "      <td>NaN</td>\n",
       "      <td>NaN</td>\n",
       "      <td>NaN</td>\n",
       "      <td>NaN</td>\n",
       "      <td>NaN</td>\n",
       "      <td>NaN</td>\n",
       "    </tr>\n",
       "  </tbody>\n",
       "</table>\n",
       "</div>"
      ],
      "text/plain": [
       "                        count          mean           std  min           25%  \\\n",
       "CDS                    2579.0  2.915139e+13  1.428328e+13  0.0  1.964725e+13   \n",
       "CCode                  2579.0  2.851958e+01  1.425817e+01  0.0  1.900000e+01   \n",
       "CDCode                 2579.0  2.915138e+06  1.428327e+06  0.0  1.964725e+06   \n",
       "SCode                  2579.0  1.544913e+06  1.812049e+06  0.0  1.025080e+05   \n",
       "Enroll12               2579.0  7.481555e+02  1.009576e+04  0.0  6.300000e+01   \n",
       "NumTSTTakr12           2579.0  2.642741e+02  3.568205e+03  0.0  5.000000e+00   \n",
       "NumERWBenchmark12      1722.0  2.695401e+02  2.956948e+03  0.0  3.300000e+01   \n",
       "PctERWBenchmark12      1722.0  6.831844e+01  2.032934e+01  0.0  5.462250e+01   \n",
       "NumMathBenchmark12     1722.0  1.888595e+02  2.063413e+03  0.0  1.700000e+01   \n",
       "PctMathBenchmark12     1722.0  4.578354e+01  2.287735e+01  0.0  2.751250e+01   \n",
       "Enroll11               2579.0  7.308655e+02  9.792971e+03  0.0  5.250000e+01   \n",
       "NumTSTTakr11           2579.0  3.204731e+02  4.396616e+03  0.0  5.000000e+00   \n",
       "NumERWBenchmark11      1736.0  3.314274e+02  3.667165e+03  0.0  3.900000e+01   \n",
       "PctERWBenchmark11      1736.0  7.192281e+01  2.283436e+01  0.0  5.839750e+01   \n",
       "NumMathBenchmark11     1736.0  2.495501e+02  2.739618e+03  0.0  2.300000e+01   \n",
       "PctMathBenchmark11     1736.0  5.391748e+01  2.717282e+01  0.0  3.090250e+01   \n",
       "TotNumBothBenchmark12  1722.0  1.787323e+02  1.951896e+03  0.0  1.600000e+01   \n",
       "PctBothBenchmark12     1722.0  4.337171e+01  2.289274e+01  0.0  2.500000e+01   \n",
       "TotNumBothBenchmark11  1736.0  2.387005e+02  2.619044e+03  0.0  2.200000e+01   \n",
       "PctBothBenchmark11     1736.0  5.154821e+01  2.724125e+01  0.0  2.778000e+01   \n",
       "Unnamed: 25               0.0           NaN           NaN  NaN           NaN   \n",
       "\n",
       "                                50%           75%           max  \n",
       "CDS                    3.066597e+13  3.777103e+13  5.872770e+13  \n",
       "CCode                  3.000000e+01  3.700000e+01  5.800000e+01  \n",
       "CDCode                 3.066597e+06  3.777103e+06  5.872769e+06  \n",
       "SCode                  1.377860e+05  3.037422e+06  6.120893e+06  \n",
       "Enroll12               1.710000e+02  4.620000e+02  4.896500e+05  \n",
       "NumTSTTakr12           5.500000e+01  1.610000e+02  1.704110e+05  \n",
       "NumERWBenchmark12      7.900000e+01  1.610000e+02  1.165000e+05  \n",
       "PctERWBenchmark12      7.181000e+01  8.511000e+01  1.000000e+02  \n",
       "NumMathBenchmark12     4.850000e+01  1.177500e+02  8.155100e+04  \n",
       "PctMathBenchmark12     4.504000e+01  6.402250e+01  1.000000e+02  \n",
       "Enroll11               1.650000e+02  4.740000e+02  4.748430e+05  \n",
       "NumTSTTakr11           6.200000e+01  1.800000e+02  2.066420e+05  \n",
       "NumERWBenchmark11      8.600000e+01  1.992500e+02  1.443180e+05  \n",
       "PctERWBenchmark11      7.778000e+01  9.045750e+01  1.000000e+02  \n",
       "NumMathBenchmark11     6.000000e+01  1.542500e+02  1.086350e+05  \n",
       "PctMathBenchmark11     5.714000e+01  7.648750e+01  1.000000e+02  \n",
       "TotNumBothBenchmark12  4.450000e+01  1.130000e+02  7.717800e+04  \n",
       "PctBothBenchmark12     4.233000e+01  6.148250e+01  1.000000e+02  \n",
       "TotNumBothBenchmark11  5.700000e+01  1.490000e+02  1.039150e+05  \n",
       "PctBothBenchmark11     5.390000e+01  7.418000e+01  9.968000e+01  \n",
       "Unnamed: 25                     NaN           NaN           NaN  "
      ]
     },
     "execution_count": 12,
     "metadata": {},
     "output_type": "execute_result"
    }
   ],
   "source": [
    "sat.describe().T"
   ]
  },
  {
   "cell_type": "markdown",
   "metadata": {},
   "source": [
    "Fix any errors you identified in steps 2-3."
   ]
  },
  {
   "cell_type": "code",
   "execution_count": 13,
   "metadata": {
    "ExecuteTime": {
     "end_time": "2021-06-19T23:16:19.907084Z",
     "start_time": "2021-06-19T23:16:19.877301Z"
    }
   },
   "outputs": [
    {
     "data": {
      "text/html": [
       "<div>\n",
       "<style scoped>\n",
       "    .dataframe tbody tr th:only-of-type {\n",
       "        vertical-align: middle;\n",
       "    }\n",
       "\n",
       "    .dataframe tbody tr th {\n",
       "        vertical-align: top;\n",
       "    }\n",
       "\n",
       "    .dataframe thead th {\n",
       "        text-align: right;\n",
       "    }\n",
       "</style>\n",
       "<table border=\"1\" class=\"dataframe\">\n",
       "  <thead>\n",
       "    <tr style=\"text-align: right;\">\n",
       "      <th></th>\n",
       "      <th>CDS</th>\n",
       "      <th>CCode</th>\n",
       "      <th>CDCode</th>\n",
       "      <th>SCode</th>\n",
       "      <th>SName</th>\n",
       "      <th>DName</th>\n",
       "      <th>CName</th>\n",
       "      <th>Enroll12</th>\n",
       "      <th>NumTSTTakr12</th>\n",
       "      <th>NumERWBenchmark12</th>\n",
       "      <th>...</th>\n",
       "      <th>Enroll11</th>\n",
       "      <th>NumTSTTakr11</th>\n",
       "      <th>NumERWBenchmark11</th>\n",
       "      <th>PctERWBenchmark11</th>\n",
       "      <th>NumMathBenchmark11</th>\n",
       "      <th>PctMathBenchmark11</th>\n",
       "      <th>TotNumBothBenchmark12</th>\n",
       "      <th>PctBothBenchmark12</th>\n",
       "      <th>TotNumBothBenchmark11</th>\n",
       "      <th>PctBothBenchmark11</th>\n",
       "    </tr>\n",
       "  </thead>\n",
       "  <tbody>\n",
       "    <tr>\n",
       "      <th>0</th>\n",
       "      <td>6.615981e+12</td>\n",
       "      <td>6.0</td>\n",
       "      <td>661598.0</td>\n",
       "      <td>630046.0</td>\n",
       "      <td>Colusa Alternative Home</td>\n",
       "      <td>Colusa Unified</td>\n",
       "      <td>Colusa</td>\n",
       "      <td>18.0</td>\n",
       "      <td>0.0</td>\n",
       "      <td>NaN</td>\n",
       "      <td>...</td>\n",
       "      <td>18.0</td>\n",
       "      <td>0.0</td>\n",
       "      <td>NaN</td>\n",
       "      <td>NaN</td>\n",
       "      <td>NaN</td>\n",
       "      <td>NaN</td>\n",
       "      <td>NaN</td>\n",
       "      <td>NaN</td>\n",
       "      <td>NaN</td>\n",
       "      <td>NaN</td>\n",
       "    </tr>\n",
       "    <tr>\n",
       "      <th>1</th>\n",
       "      <td>6.616061e+12</td>\n",
       "      <td>6.0</td>\n",
       "      <td>661606.0</td>\n",
       "      <td>634758.0</td>\n",
       "      <td>Maxwell Sr High</td>\n",
       "      <td>Maxwell Unified</td>\n",
       "      <td>Colusa</td>\n",
       "      <td>29.0</td>\n",
       "      <td>10.0</td>\n",
       "      <td>NaN</td>\n",
       "      <td>...</td>\n",
       "      <td>26.0</td>\n",
       "      <td>6.0</td>\n",
       "      <td>NaN</td>\n",
       "      <td>NaN</td>\n",
       "      <td>NaN</td>\n",
       "      <td>NaN</td>\n",
       "      <td>NaN</td>\n",
       "      <td>NaN</td>\n",
       "      <td>NaN</td>\n",
       "      <td>NaN</td>\n",
       "    </tr>\n",
       "    <tr>\n",
       "      <th>2</th>\n",
       "      <td>1.964733e+13</td>\n",
       "      <td>19.0</td>\n",
       "      <td>1964733.0</td>\n",
       "      <td>1930924.0</td>\n",
       "      <td>Belmont Senior High</td>\n",
       "      <td>Los Angeles Unified</td>\n",
       "      <td>Los Angeles</td>\n",
       "      <td>206.0</td>\n",
       "      <td>102.0</td>\n",
       "      <td>31.0</td>\n",
       "      <td>...</td>\n",
       "      <td>219.0</td>\n",
       "      <td>174.0</td>\n",
       "      <td>42.0</td>\n",
       "      <td>24.14</td>\n",
       "      <td>12.0</td>\n",
       "      <td>6.90</td>\n",
       "      <td>14.0</td>\n",
       "      <td>13.73</td>\n",
       "      <td>11.0</td>\n",
       "      <td>6.32</td>\n",
       "    </tr>\n",
       "    <tr>\n",
       "      <th>3</th>\n",
       "      <td>1.964733e+13</td>\n",
       "      <td>19.0</td>\n",
       "      <td>1964733.0</td>\n",
       "      <td>1931476.0</td>\n",
       "      <td>Canoga Park Senior High</td>\n",
       "      <td>Los Angeles Unified</td>\n",
       "      <td>Los Angeles</td>\n",
       "      <td>227.0</td>\n",
       "      <td>113.0</td>\n",
       "      <td>54.0</td>\n",
       "      <td>...</td>\n",
       "      <td>333.0</td>\n",
       "      <td>275.0</td>\n",
       "      <td>97.0</td>\n",
       "      <td>35.27</td>\n",
       "      <td>37.0</td>\n",
       "      <td>13.45</td>\n",
       "      <td>18.0</td>\n",
       "      <td>15.93</td>\n",
       "      <td>35.0</td>\n",
       "      <td>12.73</td>\n",
       "    </tr>\n",
       "    <tr>\n",
       "      <th>4</th>\n",
       "      <td>1.964733e+13</td>\n",
       "      <td>19.0</td>\n",
       "      <td>1964733.0</td>\n",
       "      <td>1931856.0</td>\n",
       "      <td>Whitman Continuation</td>\n",
       "      <td>Los Angeles Unified</td>\n",
       "      <td>Los Angeles</td>\n",
       "      <td>18.0</td>\n",
       "      <td>14.0</td>\n",
       "      <td>NaN</td>\n",
       "      <td>...</td>\n",
       "      <td>17.0</td>\n",
       "      <td>5.0</td>\n",
       "      <td>NaN</td>\n",
       "      <td>NaN</td>\n",
       "      <td>NaN</td>\n",
       "      <td>NaN</td>\n",
       "      <td>NaN</td>\n",
       "      <td>NaN</td>\n",
       "      <td>NaN</td>\n",
       "      <td>NaN</td>\n",
       "    </tr>\n",
       "  </tbody>\n",
       "</table>\n",
       "<p>5 rows × 23 columns</p>\n",
       "</div>"
      ],
      "text/plain": [
       "            CDS  CCode     CDCode      SCode                    SName  \\\n",
       "0  6.615981e+12    6.0   661598.0   630046.0  Colusa Alternative Home   \n",
       "1  6.616061e+12    6.0   661606.0   634758.0          Maxwell Sr High   \n",
       "2  1.964733e+13   19.0  1964733.0  1930924.0      Belmont Senior High   \n",
       "3  1.964733e+13   19.0  1964733.0  1931476.0  Canoga Park Senior High   \n",
       "4  1.964733e+13   19.0  1964733.0  1931856.0     Whitman Continuation   \n",
       "\n",
       "                 DName        CName  Enroll12  NumTSTTakr12  \\\n",
       "0       Colusa Unified       Colusa      18.0           0.0   \n",
       "1      Maxwell Unified       Colusa      29.0          10.0   \n",
       "2  Los Angeles Unified  Los Angeles     206.0         102.0   \n",
       "3  Los Angeles Unified  Los Angeles     227.0         113.0   \n",
       "4  Los Angeles Unified  Los Angeles      18.0          14.0   \n",
       "\n",
       "   NumERWBenchmark12  ...  Enroll11  NumTSTTakr11  NumERWBenchmark11  \\\n",
       "0                NaN  ...      18.0           0.0                NaN   \n",
       "1                NaN  ...      26.0           6.0                NaN   \n",
       "2               31.0  ...     219.0         174.0               42.0   \n",
       "3               54.0  ...     333.0         275.0               97.0   \n",
       "4                NaN  ...      17.0           5.0                NaN   \n",
       "\n",
       "   PctERWBenchmark11  NumMathBenchmark11  PctMathBenchmark11  \\\n",
       "0                NaN                 NaN                 NaN   \n",
       "1                NaN                 NaN                 NaN   \n",
       "2              24.14                12.0                6.90   \n",
       "3              35.27                37.0               13.45   \n",
       "4                NaN                 NaN                 NaN   \n",
       "\n",
       "   TotNumBothBenchmark12  PctBothBenchmark12  TotNumBothBenchmark11  \\\n",
       "0                    NaN                 NaN                    NaN   \n",
       "1                    NaN                 NaN                    NaN   \n",
       "2                   14.0               13.73                   11.0   \n",
       "3                   18.0               15.93                   35.0   \n",
       "4                    NaN                 NaN                    NaN   \n",
       "\n",
       "   PctBothBenchmark11  \n",
       "0                 NaN  \n",
       "1                 NaN  \n",
       "2                6.32  \n",
       "3               12.73  \n",
       "4                 NaN  \n",
       "\n",
       "[5 rows x 23 columns]"
      ]
     },
     "execution_count": 13,
     "metadata": {},
     "output_type": "execute_result"
    }
   ],
   "source": [
    "sat.drop(columns=['RType', 'Year', 'Unnamed: 25'], inplace=True)\n",
    "sat.head()"
   ]
  },
  {
   "cell_type": "markdown",
   "metadata": {},
   "source": [
    "Since the testing benchmarks were the target data, and there was a large percentage of null values, I decided to drop all the nulls rather than replace them with an average. Since the school and district names weren't of the utmost importance, and I had a full set of the county information, I elected to keep the null state/district names.\n",
    "Also, I had a full complement of school and district codes (that I could cross-reference), in case I wanted to see specific relationships."
   ]
  },
  {
   "cell_type": "code",
   "execution_count": 14,
   "metadata": {
    "ExecuteTime": {
     "end_time": "2021-06-19T23:16:20.060762Z",
     "start_time": "2021-06-19T23:16:19.909044Z"
    }
   },
   "outputs": [
    {
     "data": {
      "text/plain": [
       "CDS                        0\n",
       "CCode                      0\n",
       "CDCode                     0\n",
       "SCode                      0\n",
       "SName                    440\n",
       "DName                     54\n",
       "CName                      0\n",
       "Enroll12                   0\n",
       "NumTSTTakr12               0\n",
       "NumERWBenchmark12          0\n",
       "PctERWBenchmark12          0\n",
       "NumMathBenchmark12         0\n",
       "PctMathBenchmark12         0\n",
       "Enroll11                   0\n",
       "NumTSTTakr11               0\n",
       "NumERWBenchmark11          0\n",
       "PctERWBenchmark11          0\n",
       "NumMathBenchmark11         0\n",
       "PctMathBenchmark11         0\n",
       "TotNumBothBenchmark12      0\n",
       "PctBothBenchmark12         0\n",
       "TotNumBothBenchmark11      0\n",
       "PctBothBenchmark11         0\n",
       "dtype: int64"
      ]
     },
     "execution_count": 14,
     "metadata": {},
     "output_type": "execute_result"
    }
   ],
   "source": [
    "sat.dropna(axis=0, subset=['NumERWBenchmark12'], inplace=True)\n",
    "sat.dropna(axis=0, subset=['NumERWBenchmark11'], inplace=True)\n",
    "\n",
    "sat.isna().sum()"
   ]
  },
  {
   "cell_type": "code",
   "execution_count": 15,
   "metadata": {
    "ExecuteTime": {
     "end_time": "2021-06-19T23:16:20.091541Z",
     "start_time": "2021-06-19T23:16:20.062250Z"
    }
   },
   "outputs": [
    {
     "data": {
      "text/html": [
       "<div>\n",
       "<style scoped>\n",
       "    .dataframe tbody tr th:only-of-type {\n",
       "        vertical-align: middle;\n",
       "    }\n",
       "\n",
       "    .dataframe tbody tr th {\n",
       "        vertical-align: top;\n",
       "    }\n",
       "\n",
       "    .dataframe thead th {\n",
       "        text-align: right;\n",
       "    }\n",
       "</style>\n",
       "<table border=\"1\" class=\"dataframe\">\n",
       "  <thead>\n",
       "    <tr style=\"text-align: right;\">\n",
       "      <th></th>\n",
       "      <th>CDS</th>\n",
       "      <th>CCode</th>\n",
       "      <th>CDCode</th>\n",
       "      <th>SCode</th>\n",
       "      <th>SName</th>\n",
       "      <th>DName</th>\n",
       "      <th>CName</th>\n",
       "      <th>Enroll12</th>\n",
       "      <th>NumTSTTakr12</th>\n",
       "      <th>NumERWBenchmark12</th>\n",
       "      <th>...</th>\n",
       "      <th>Enroll11</th>\n",
       "      <th>NumTSTTakr11</th>\n",
       "      <th>NumERWBenchmark11</th>\n",
       "      <th>PctERWBenchmark11</th>\n",
       "      <th>NumMathBenchmark11</th>\n",
       "      <th>PctMathBenchmark11</th>\n",
       "      <th>TotNumBothBenchmark12</th>\n",
       "      <th>PctBothBenchmark12</th>\n",
       "      <th>TotNumBothBenchmark11</th>\n",
       "      <th>PctBothBenchmark11</th>\n",
       "    </tr>\n",
       "  </thead>\n",
       "  <tbody>\n",
       "    <tr>\n",
       "      <th>2</th>\n",
       "      <td>1.964733e+13</td>\n",
       "      <td>19.0</td>\n",
       "      <td>1964733.0</td>\n",
       "      <td>1930924.0</td>\n",
       "      <td>Belmont Senior High</td>\n",
       "      <td>Los Angeles Unified</td>\n",
       "      <td>Los Angeles</td>\n",
       "      <td>206.0</td>\n",
       "      <td>102.0</td>\n",
       "      <td>31.0</td>\n",
       "      <td>...</td>\n",
       "      <td>219.0</td>\n",
       "      <td>174.0</td>\n",
       "      <td>42.0</td>\n",
       "      <td>24.14</td>\n",
       "      <td>12.0</td>\n",
       "      <td>6.90</td>\n",
       "      <td>14.0</td>\n",
       "      <td>13.73</td>\n",
       "      <td>11.0</td>\n",
       "      <td>6.32</td>\n",
       "    </tr>\n",
       "    <tr>\n",
       "      <th>3</th>\n",
       "      <td>1.964733e+13</td>\n",
       "      <td>19.0</td>\n",
       "      <td>1964733.0</td>\n",
       "      <td>1931476.0</td>\n",
       "      <td>Canoga Park Senior High</td>\n",
       "      <td>Los Angeles Unified</td>\n",
       "      <td>Los Angeles</td>\n",
       "      <td>227.0</td>\n",
       "      <td>113.0</td>\n",
       "      <td>54.0</td>\n",
       "      <td>...</td>\n",
       "      <td>333.0</td>\n",
       "      <td>275.0</td>\n",
       "      <td>97.0</td>\n",
       "      <td>35.27</td>\n",
       "      <td>37.0</td>\n",
       "      <td>13.45</td>\n",
       "      <td>18.0</td>\n",
       "      <td>15.93</td>\n",
       "      <td>35.0</td>\n",
       "      <td>12.73</td>\n",
       "    </tr>\n",
       "    <tr>\n",
       "      <th>5</th>\n",
       "      <td>1.964734e+13</td>\n",
       "      <td>19.0</td>\n",
       "      <td>1964733.0</td>\n",
       "      <td>6061451.0</td>\n",
       "      <td>Foshay Learning Center</td>\n",
       "      <td>Los Angeles Unified</td>\n",
       "      <td>Los Angeles</td>\n",
       "      <td>166.0</td>\n",
       "      <td>106.0</td>\n",
       "      <td>68.0</td>\n",
       "      <td>...</td>\n",
       "      <td>187.0</td>\n",
       "      <td>183.0</td>\n",
       "      <td>91.0</td>\n",
       "      <td>49.73</td>\n",
       "      <td>47.0</td>\n",
       "      <td>25.68</td>\n",
       "      <td>36.0</td>\n",
       "      <td>33.96</td>\n",
       "      <td>44.0</td>\n",
       "      <td>24.04</td>\n",
       "    </tr>\n",
       "    <tr>\n",
       "      <th>6</th>\n",
       "      <td>3.073635e+13</td>\n",
       "      <td>30.0</td>\n",
       "      <td>3073635.0</td>\n",
       "      <td>3034956.0</td>\n",
       "      <td>Mission Viejo High</td>\n",
       "      <td>Saddleback Valley Unified</td>\n",
       "      <td>Orange</td>\n",
       "      <td>562.0</td>\n",
       "      <td>190.0</td>\n",
       "      <td>161.0</td>\n",
       "      <td>...</td>\n",
       "      <td>503.0</td>\n",
       "      <td>223.0</td>\n",
       "      <td>206.0</td>\n",
       "      <td>92.38</td>\n",
       "      <td>176.0</td>\n",
       "      <td>78.92</td>\n",
       "      <td>132.0</td>\n",
       "      <td>69.47</td>\n",
       "      <td>172.0</td>\n",
       "      <td>77.13</td>\n",
       "    </tr>\n",
       "    <tr>\n",
       "      <th>9</th>\n",
       "      <td>1.964733e+13</td>\n",
       "      <td>19.0</td>\n",
       "      <td>1964733.0</td>\n",
       "      <td>119685.0</td>\n",
       "      <td>New Open World Academy K-12</td>\n",
       "      <td>Los Angeles Unified</td>\n",
       "      <td>Los Angeles</td>\n",
       "      <td>85.0</td>\n",
       "      <td>68.0</td>\n",
       "      <td>17.0</td>\n",
       "      <td>...</td>\n",
       "      <td>79.0</td>\n",
       "      <td>79.0</td>\n",
       "      <td>22.0</td>\n",
       "      <td>27.85</td>\n",
       "      <td>10.0</td>\n",
       "      <td>12.66</td>\n",
       "      <td>6.0</td>\n",
       "      <td>8.82</td>\n",
       "      <td>6.0</td>\n",
       "      <td>7.59</td>\n",
       "    </tr>\n",
       "  </tbody>\n",
       "</table>\n",
       "<p>5 rows × 23 columns</p>\n",
       "</div>"
      ],
      "text/plain": [
       "            CDS  CCode     CDCode      SCode                        SName  \\\n",
       "2  1.964733e+13   19.0  1964733.0  1930924.0          Belmont Senior High   \n",
       "3  1.964733e+13   19.0  1964733.0  1931476.0      Canoga Park Senior High   \n",
       "5  1.964734e+13   19.0  1964733.0  6061451.0       Foshay Learning Center   \n",
       "6  3.073635e+13   30.0  3073635.0  3034956.0           Mission Viejo High   \n",
       "9  1.964733e+13   19.0  1964733.0   119685.0  New Open World Academy K-12   \n",
       "\n",
       "                       DName        CName  Enroll12  NumTSTTakr12  \\\n",
       "2        Los Angeles Unified  Los Angeles     206.0         102.0   \n",
       "3        Los Angeles Unified  Los Angeles     227.0         113.0   \n",
       "5        Los Angeles Unified  Los Angeles     166.0         106.0   \n",
       "6  Saddleback Valley Unified       Orange     562.0         190.0   \n",
       "9        Los Angeles Unified  Los Angeles      85.0          68.0   \n",
       "\n",
       "   NumERWBenchmark12  ...  Enroll11  NumTSTTakr11  NumERWBenchmark11  \\\n",
       "2               31.0  ...     219.0         174.0               42.0   \n",
       "3               54.0  ...     333.0         275.0               97.0   \n",
       "5               68.0  ...     187.0         183.0               91.0   \n",
       "6              161.0  ...     503.0         223.0              206.0   \n",
       "9               17.0  ...      79.0          79.0               22.0   \n",
       "\n",
       "   PctERWBenchmark11  NumMathBenchmark11  PctMathBenchmark11  \\\n",
       "2              24.14                12.0                6.90   \n",
       "3              35.27                37.0               13.45   \n",
       "5              49.73                47.0               25.68   \n",
       "6              92.38               176.0               78.92   \n",
       "9              27.85                10.0               12.66   \n",
       "\n",
       "   TotNumBothBenchmark12  PctBothBenchmark12  TotNumBothBenchmark11  \\\n",
       "2                   14.0               13.73                   11.0   \n",
       "3                   18.0               15.93                   35.0   \n",
       "5                   36.0               33.96                   44.0   \n",
       "6                  132.0               69.47                  172.0   \n",
       "9                    6.0                8.82                    6.0   \n",
       "\n",
       "   PctBothBenchmark11  \n",
       "2                6.32  \n",
       "3               12.73  \n",
       "5               24.04  \n",
       "6               77.13  \n",
       "9                7.59  \n",
       "\n",
       "[5 rows x 23 columns]"
      ]
     },
     "execution_count": 15,
     "metadata": {},
     "output_type": "execute_result"
    }
   ],
   "source": [
    "sat.head()"
   ]
  },
  {
   "cell_type": "markdown",
   "metadata": {},
   "source": [
    "Display the data types of each feature."
   ]
  },
  {
   "cell_type": "code",
   "execution_count": 16,
   "metadata": {
    "ExecuteTime": {
     "end_time": "2021-06-19T23:16:20.106891Z",
     "start_time": "2021-06-19T23:16:20.092507Z"
    },
    "scrolled": true
   },
   "outputs": [
    {
     "data": {
      "text/plain": [
       "CDS                      float64\n",
       "CCode                    float64\n",
       "CDCode                   float64\n",
       "SCode                    float64\n",
       "SName                     object\n",
       "DName                     object\n",
       "CName                     object\n",
       "Enroll12                 float64\n",
       "NumTSTTakr12             float64\n",
       "NumERWBenchmark12        float64\n",
       "PctERWBenchmark12        float64\n",
       "NumMathBenchmark12       float64\n",
       "PctMathBenchmark12       float64\n",
       "Enroll11                 float64\n",
       "NumTSTTakr11             float64\n",
       "NumERWBenchmark11        float64\n",
       "PctERWBenchmark11        float64\n",
       "NumMathBenchmark11       float64\n",
       "PctMathBenchmark11       float64\n",
       "TotNumBothBenchmark12    float64\n",
       "PctBothBenchmark12       float64\n",
       "TotNumBothBenchmark11    float64\n",
       "PctBothBenchmark11       float64\n",
       "dtype: object"
      ]
     },
     "execution_count": 16,
     "metadata": {},
     "output_type": "execute_result"
    }
   ],
   "source": [
    "sat.dtypes"
   ]
  },
  {
   "cell_type": "markdown",
   "metadata": {},
   "source": [
    "Rename columns to lowercase with underscores"
   ]
  },
  {
   "cell_type": "code",
   "execution_count": 17,
   "metadata": {
    "ExecuteTime": {
     "end_time": "2021-06-19T23:16:20.122266Z",
     "start_time": "2021-06-19T23:16:20.107882Z"
    }
   },
   "outputs": [],
   "source": [
    "sat.rename(columns={\n",
    "    'CDS': 'uid_code',\n",
    "    'CCode': 'county_code',\n",
    "    'CDCode': 'district_code',\n",
    "    'SCode': 'school_code',\n",
    "    'SName': 'school_name',\n",
    "    'DName': 'district_name',\n",
    "    'CName': 'county_name',\n",
    "    'Enroll12': 'enrolled_grade_12',\n",
    "    'NumTSTTakr12': 'num_testers_grade_12',\n",
    "    'PctERWBenchmark12': 'pct_erw_pass_12',\n",
    "    'PctMathBenchmark12': 'pct_math_pass_12',\n",
    "    'Enroll11': 'enrolled_grade_11',\n",
    "    'NumTSTTakr11': 'num_testers_grade_11',\n",
    "    'PctERWBenchmark11': 'pct_erw_pass_11',\n",
    "    'PctMathBenchmark11': 'pct_math_pass_11',\n",
    "    'PctBothBenchmark12': 'pct_both_pass_12',\n",
    "    'PctBothBenchmark11': 'pct_both_pass_11'\n",
    "}, inplace=True)"
   ]
  },
  {
   "cell_type": "markdown",
   "metadata": {},
   "source": [
    "I elected to drop the benchmark numbers and work with just the benchmark percents."
   ]
  },
  {
   "cell_type": "code",
   "execution_count": 18,
   "metadata": {
    "ExecuteTime": {
     "end_time": "2021-06-19T23:16:20.137667Z",
     "start_time": "2021-06-19T23:16:20.123754Z"
    }
   },
   "outputs": [],
   "source": [
    "sat.drop(columns=['NumERWBenchmark12', 'NumMathBenchmark12', 'NumERWBenchmark11', \n",
    "                  'NumMathBenchmark11', 'TotNumBothBenchmark12', 'TotNumBothBenchmark11'], inplace=True)\n"
   ]
  },
  {
   "cell_type": "code",
   "execution_count": 19,
   "metadata": {
    "ExecuteTime": {
     "end_time": "2021-06-19T23:16:20.168418Z",
     "start_time": "2021-06-19T23:16:20.139130Z"
    }
   },
   "outputs": [],
   "source": [
    "sat.to_csv('../data/cali_sat.csv', index=False)"
   ]
  },
  {
   "cell_type": "markdown",
   "metadata": {},
   "source": [
    "This begins cleaning and EDA of the ACT data"
   ]
  },
  {
   "cell_type": "code",
   "execution_count": 20,
   "metadata": {
    "ExecuteTime": {
     "end_time": "2021-06-19T23:16:20.183794Z",
     "start_time": "2021-06-19T23:16:20.169884Z"
    }
   },
   "outputs": [],
   "source": [
    "df = pd.read_csv('../data/act_2019_ca.csv', na_values=['*'])"
   ]
  },
  {
   "cell_type": "code",
   "execution_count": 21,
   "metadata": {
    "ExecuteTime": {
     "end_time": "2021-06-19T23:16:20.214553Z",
     "start_time": "2021-06-19T23:16:20.184786Z"
    }
   },
   "outputs": [
    {
     "data": {
      "text/html": [
       "<div>\n",
       "<style scoped>\n",
       "    .dataframe tbody tr th:only-of-type {\n",
       "        vertical-align: middle;\n",
       "    }\n",
       "\n",
       "    .dataframe tbody tr th {\n",
       "        vertical-align: top;\n",
       "    }\n",
       "\n",
       "    .dataframe thead th {\n",
       "        text-align: right;\n",
       "    }\n",
       "</style>\n",
       "<table border=\"1\" class=\"dataframe\">\n",
       "  <thead>\n",
       "    <tr style=\"text-align: right;\">\n",
       "      <th></th>\n",
       "      <th>CDS</th>\n",
       "      <th>CCode</th>\n",
       "      <th>CDCode</th>\n",
       "      <th>SCode</th>\n",
       "      <th>RType</th>\n",
       "      <th>SName</th>\n",
       "      <th>DName</th>\n",
       "      <th>CName</th>\n",
       "      <th>Enroll12</th>\n",
       "      <th>NumTstTakr</th>\n",
       "      <th>AvgScrRead</th>\n",
       "      <th>AvgScrEng</th>\n",
       "      <th>AvgScrMath</th>\n",
       "      <th>AvgScrSci</th>\n",
       "      <th>NumGE21</th>\n",
       "      <th>PctGE21</th>\n",
       "      <th>Year</th>\n",
       "      <th>Unnamed: 17</th>\n",
       "    </tr>\n",
       "  </thead>\n",
       "  <tbody>\n",
       "    <tr>\n",
       "      <th>0</th>\n",
       "      <td>3.366993e+13</td>\n",
       "      <td>33.0</td>\n",
       "      <td>3366993.0</td>\n",
       "      <td>129882.0</td>\n",
       "      <td>S</td>\n",
       "      <td>21st Century Learning Institute</td>\n",
       "      <td>Beaumont Unified</td>\n",
       "      <td>Riverside</td>\n",
       "      <td>18.0</td>\n",
       "      <td>0.0</td>\n",
       "      <td>NaN</td>\n",
       "      <td>NaN</td>\n",
       "      <td>NaN</td>\n",
       "      <td>NaN</td>\n",
       "      <td>NaN</td>\n",
       "      <td>NaN</td>\n",
       "      <td>2018-19</td>\n",
       "      <td>NaN</td>\n",
       "    </tr>\n",
       "    <tr>\n",
       "      <th>1</th>\n",
       "      <td>1.964212e+13</td>\n",
       "      <td>19.0</td>\n",
       "      <td>1964212.0</td>\n",
       "      <td>1995596.0</td>\n",
       "      <td>S</td>\n",
       "      <td>ABC Secondary (Alternative)</td>\n",
       "      <td>ABC Unified</td>\n",
       "      <td>Los Angeles</td>\n",
       "      <td>58.0</td>\n",
       "      <td>0.0</td>\n",
       "      <td>NaN</td>\n",
       "      <td>NaN</td>\n",
       "      <td>NaN</td>\n",
       "      <td>NaN</td>\n",
       "      <td>NaN</td>\n",
       "      <td>NaN</td>\n",
       "      <td>2018-19</td>\n",
       "      <td>NaN</td>\n",
       "    </tr>\n",
       "    <tr>\n",
       "      <th>2</th>\n",
       "      <td>1.563776e+13</td>\n",
       "      <td>15.0</td>\n",
       "      <td>1563776.0</td>\n",
       "      <td>1530377.0</td>\n",
       "      <td>S</td>\n",
       "      <td>Abraham Lincoln Alternative</td>\n",
       "      <td>Southern Kern Unified</td>\n",
       "      <td>Kern</td>\n",
       "      <td>18.0</td>\n",
       "      <td>0.0</td>\n",
       "      <td>NaN</td>\n",
       "      <td>NaN</td>\n",
       "      <td>NaN</td>\n",
       "      <td>NaN</td>\n",
       "      <td>NaN</td>\n",
       "      <td>NaN</td>\n",
       "      <td>2018-19</td>\n",
       "      <td>NaN</td>\n",
       "    </tr>\n",
       "    <tr>\n",
       "      <th>3</th>\n",
       "      <td>4.369666e+13</td>\n",
       "      <td>43.0</td>\n",
       "      <td>4369666.0</td>\n",
       "      <td>4333795.0</td>\n",
       "      <td>S</td>\n",
       "      <td>Abraham Lincoln High</td>\n",
       "      <td>San Jose Unified</td>\n",
       "      <td>Santa Clara</td>\n",
       "      <td>463.0</td>\n",
       "      <td>53.0</td>\n",
       "      <td>23.0</td>\n",
       "      <td>22.0</td>\n",
       "      <td>22.0</td>\n",
       "      <td>23.0</td>\n",
       "      <td>34.0</td>\n",
       "      <td>64.15</td>\n",
       "      <td>2018-19</td>\n",
       "      <td>NaN</td>\n",
       "    </tr>\n",
       "    <tr>\n",
       "      <th>4</th>\n",
       "      <td>1.964733e+13</td>\n",
       "      <td>19.0</td>\n",
       "      <td>1964733.0</td>\n",
       "      <td>1935121.0</td>\n",
       "      <td>S</td>\n",
       "      <td>Abraham Lincoln Senior High</td>\n",
       "      <td>Los Angeles Unified</td>\n",
       "      <td>Los Angeles</td>\n",
       "      <td>226.0</td>\n",
       "      <td>19.0</td>\n",
       "      <td>21.0</td>\n",
       "      <td>20.0</td>\n",
       "      <td>23.0</td>\n",
       "      <td>22.0</td>\n",
       "      <td>11.0</td>\n",
       "      <td>57.89</td>\n",
       "      <td>2018-19</td>\n",
       "      <td>NaN</td>\n",
       "    </tr>\n",
       "  </tbody>\n",
       "</table>\n",
       "</div>"
      ],
      "text/plain": [
       "            CDS  CCode     CDCode      SCode RType  \\\n",
       "0  3.366993e+13   33.0  3366993.0   129882.0     S   \n",
       "1  1.964212e+13   19.0  1964212.0  1995596.0     S   \n",
       "2  1.563776e+13   15.0  1563776.0  1530377.0     S   \n",
       "3  4.369666e+13   43.0  4369666.0  4333795.0     S   \n",
       "4  1.964733e+13   19.0  1964733.0  1935121.0     S   \n",
       "\n",
       "                             SName                  DName        CName  \\\n",
       "0  21st Century Learning Institute       Beaumont Unified    Riverside   \n",
       "1      ABC Secondary (Alternative)            ABC Unified  Los Angeles   \n",
       "2      Abraham Lincoln Alternative  Southern Kern Unified         Kern   \n",
       "3             Abraham Lincoln High       San Jose Unified  Santa Clara   \n",
       "4      Abraham Lincoln Senior High    Los Angeles Unified  Los Angeles   \n",
       "\n",
       "   Enroll12  NumTstTakr  AvgScrRead  AvgScrEng  AvgScrMath  AvgScrSci  \\\n",
       "0      18.0         0.0         NaN        NaN         NaN        NaN   \n",
       "1      58.0         0.0         NaN        NaN         NaN        NaN   \n",
       "2      18.0         0.0         NaN        NaN         NaN        NaN   \n",
       "3     463.0        53.0        23.0       22.0        22.0       23.0   \n",
       "4     226.0        19.0        21.0       20.0        23.0       22.0   \n",
       "\n",
       "   NumGE21  PctGE21     Year  Unnamed: 17  \n",
       "0      NaN      NaN  2018-19          NaN  \n",
       "1      NaN      NaN  2018-19          NaN  \n",
       "2      NaN      NaN  2018-19          NaN  \n",
       "3     34.0    64.15  2018-19          NaN  \n",
       "4     11.0    57.89  2018-19          NaN  "
      ]
     },
     "execution_count": 21,
     "metadata": {},
     "output_type": "execute_result"
    }
   ],
   "source": [
    "df.head()"
   ]
  },
  {
   "cell_type": "markdown",
   "metadata": {},
   "source": [
    "Again, I decided to drop the incomplete testing data instead of substituting."
   ]
  },
  {
   "cell_type": "code",
   "execution_count": 22,
   "metadata": {
    "ExecuteTime": {
     "end_time": "2021-06-19T23:16:20.229926Z",
     "start_time": "2021-06-19T23:16:20.216011Z"
    }
   },
   "outputs": [
    {
     "data": {
      "text/plain": [
       "CDS               0\n",
       "CCode             0\n",
       "CDCode            0\n",
       "SCode           350\n",
       "RType             0\n",
       "SName           404\n",
       "DName            54\n",
       "CName             0\n",
       "Enroll12          0\n",
       "NumTstTakr        0\n",
       "AvgScrRead        0\n",
       "AvgScrEng         0\n",
       "AvgScrMath        0\n",
       "AvgScrSci         0\n",
       "NumGE21           0\n",
       "PctGE21           0\n",
       "Year              0\n",
       "Unnamed: 17    1421\n",
       "dtype: int64"
      ]
     },
     "execution_count": 22,
     "metadata": {},
     "output_type": "execute_result"
    }
   ],
   "source": [
    "df.dropna(subset=['AvgScrRead'], inplace=True)\n",
    "df.isna().sum()\n"
   ]
  },
  {
   "cell_type": "markdown",
   "metadata": {},
   "source": [
    "And again, I wanted to work with just the benchmark percents."
   ]
  },
  {
   "cell_type": "code",
   "execution_count": 23,
   "metadata": {
    "ExecuteTime": {
     "end_time": "2021-06-19T23:16:20.245303Z",
     "start_time": "2021-06-19T23:16:20.231387Z"
    }
   },
   "outputs": [
    {
     "data": {
      "text/html": [
       "<div>\n",
       "<style scoped>\n",
       "    .dataframe tbody tr th:only-of-type {\n",
       "        vertical-align: middle;\n",
       "    }\n",
       "\n",
       "    .dataframe tbody tr th {\n",
       "        vertical-align: top;\n",
       "    }\n",
       "\n",
       "    .dataframe thead th {\n",
       "        text-align: right;\n",
       "    }\n",
       "</style>\n",
       "<table border=\"1\" class=\"dataframe\">\n",
       "  <thead>\n",
       "    <tr style=\"text-align: right;\">\n",
       "      <th></th>\n",
       "      <th>CDS</th>\n",
       "      <th>CCode</th>\n",
       "      <th>CDCode</th>\n",
       "      <th>SCode</th>\n",
       "      <th>RType</th>\n",
       "      <th>SName</th>\n",
       "      <th>DName</th>\n",
       "      <th>CName</th>\n",
       "      <th>Enroll12</th>\n",
       "      <th>NumTstTakr</th>\n",
       "      <th>PctGE21</th>\n",
       "    </tr>\n",
       "  </thead>\n",
       "  <tbody>\n",
       "    <tr>\n",
       "      <th>3</th>\n",
       "      <td>4.369666e+13</td>\n",
       "      <td>43.0</td>\n",
       "      <td>4369666.0</td>\n",
       "      <td>4333795.0</td>\n",
       "      <td>S</td>\n",
       "      <td>Abraham Lincoln High</td>\n",
       "      <td>San Jose Unified</td>\n",
       "      <td>Santa Clara</td>\n",
       "      <td>463.0</td>\n",
       "      <td>53.0</td>\n",
       "      <td>64.15</td>\n",
       "    </tr>\n",
       "    <tr>\n",
       "      <th>4</th>\n",
       "      <td>1.964733e+13</td>\n",
       "      <td>19.0</td>\n",
       "      <td>1964733.0</td>\n",
       "      <td>1935121.0</td>\n",
       "      <td>S</td>\n",
       "      <td>Abraham Lincoln Senior High</td>\n",
       "      <td>Los Angeles Unified</td>\n",
       "      <td>Los Angeles</td>\n",
       "      <td>226.0</td>\n",
       "      <td>19.0</td>\n",
       "      <td>57.89</td>\n",
       "    </tr>\n",
       "    <tr>\n",
       "      <th>5</th>\n",
       "      <td>1.976968e+13</td>\n",
       "      <td>19.0</td>\n",
       "      <td>1976968.0</td>\n",
       "      <td>109926.0</td>\n",
       "      <td>S</td>\n",
       "      <td>Academia Avance Charter</td>\n",
       "      <td>SBE - Academia Avance Charter</td>\n",
       "      <td>Los Angeles</td>\n",
       "      <td>65.0</td>\n",
       "      <td>33.0</td>\n",
       "      <td>9.09</td>\n",
       "    </tr>\n",
       "    <tr>\n",
       "      <th>6</th>\n",
       "      <td>1.964733e+13</td>\n",
       "      <td>19.0</td>\n",
       "      <td>1964733.0</td>\n",
       "      <td>126615.0</td>\n",
       "      <td>S</td>\n",
       "      <td>Academies of Education and Empowerment at Cars...</td>\n",
       "      <td>Los Angeles Unified</td>\n",
       "      <td>Los Angeles</td>\n",
       "      <td>126.0</td>\n",
       "      <td>16.0</td>\n",
       "      <td>31.25</td>\n",
       "    </tr>\n",
       "    <tr>\n",
       "      <th>13</th>\n",
       "      <td>1.965136e+13</td>\n",
       "      <td>19.0</td>\n",
       "      <td>1965136.0</td>\n",
       "      <td>1996321.0</td>\n",
       "      <td>S</td>\n",
       "      <td>Academy of the Canyons</td>\n",
       "      <td>William S. Hart Union High</td>\n",
       "      <td>Los Angeles</td>\n",
       "      <td>104.0</td>\n",
       "      <td>36.0</td>\n",
       "      <td>94.44</td>\n",
       "    </tr>\n",
       "  </tbody>\n",
       "</table>\n",
       "</div>"
      ],
      "text/plain": [
       "             CDS  CCode     CDCode      SCode RType  \\\n",
       "3   4.369666e+13   43.0  4369666.0  4333795.0     S   \n",
       "4   1.964733e+13   19.0  1964733.0  1935121.0     S   \n",
       "5   1.976968e+13   19.0  1976968.0   109926.0     S   \n",
       "6   1.964733e+13   19.0  1964733.0   126615.0     S   \n",
       "13  1.965136e+13   19.0  1965136.0  1996321.0     S   \n",
       "\n",
       "                                                SName  \\\n",
       "3                                Abraham Lincoln High   \n",
       "4                         Abraham Lincoln Senior High   \n",
       "5                             Academia Avance Charter   \n",
       "6   Academies of Education and Empowerment at Cars...   \n",
       "13                             Academy of the Canyons   \n",
       "\n",
       "                            DName        CName  Enroll12  NumTstTakr  PctGE21  \n",
       "3                San Jose Unified  Santa Clara     463.0        53.0    64.15  \n",
       "4             Los Angeles Unified  Los Angeles     226.0        19.0    57.89  \n",
       "5   SBE - Academia Avance Charter  Los Angeles      65.0        33.0     9.09  \n",
       "6             Los Angeles Unified  Los Angeles     126.0        16.0    31.25  \n",
       "13     William S. Hart Union High  Los Angeles     104.0        36.0    94.44  "
      ]
     },
     "execution_count": 23,
     "metadata": {},
     "output_type": "execute_result"
    }
   ],
   "source": [
    "df.drop(columns=['AvgScrRead', 'AvgScrEng', 'AvgScrMath', \n",
    "                 'AvgScrSci', 'NumGE21', 'Year', 'Unnamed: 17'], inplace=True)\n",
    "\n",
    "df.head()"
   ]
  },
  {
   "cell_type": "code",
   "execution_count": 24,
   "metadata": {
    "ExecuteTime": {
     "end_time": "2021-06-19T23:16:20.260679Z",
     "start_time": "2021-06-19T23:16:20.246763Z"
    },
    "scrolled": true
   },
   "outputs": [
    {
     "data": {
      "text/html": [
       "<div>\n",
       "<style scoped>\n",
       "    .dataframe tbody tr th:only-of-type {\n",
       "        vertical-align: middle;\n",
       "    }\n",
       "\n",
       "    .dataframe tbody tr th {\n",
       "        vertical-align: top;\n",
       "    }\n",
       "\n",
       "    .dataframe thead th {\n",
       "        text-align: right;\n",
       "    }\n",
       "</style>\n",
       "<table border=\"1\" class=\"dataframe\">\n",
       "  <thead>\n",
       "    <tr style=\"text-align: right;\">\n",
       "      <th></th>\n",
       "      <th>CDS</th>\n",
       "      <th>CCode</th>\n",
       "      <th>CDCode</th>\n",
       "      <th>SCode</th>\n",
       "      <th>SName</th>\n",
       "      <th>DName</th>\n",
       "      <th>CName</th>\n",
       "      <th>Enroll12</th>\n",
       "      <th>NumTstTakr</th>\n",
       "      <th>PctGE21</th>\n",
       "    </tr>\n",
       "  </thead>\n",
       "  <tbody>\n",
       "    <tr>\n",
       "      <th>3</th>\n",
       "      <td>4.369666e+13</td>\n",
       "      <td>43.0</td>\n",
       "      <td>4369666.0</td>\n",
       "      <td>4333795.0</td>\n",
       "      <td>Abraham Lincoln High</td>\n",
       "      <td>San Jose Unified</td>\n",
       "      <td>Santa Clara</td>\n",
       "      <td>463.0</td>\n",
       "      <td>53.0</td>\n",
       "      <td>64.15</td>\n",
       "    </tr>\n",
       "    <tr>\n",
       "      <th>4</th>\n",
       "      <td>1.964733e+13</td>\n",
       "      <td>19.0</td>\n",
       "      <td>1964733.0</td>\n",
       "      <td>1935121.0</td>\n",
       "      <td>Abraham Lincoln Senior High</td>\n",
       "      <td>Los Angeles Unified</td>\n",
       "      <td>Los Angeles</td>\n",
       "      <td>226.0</td>\n",
       "      <td>19.0</td>\n",
       "      <td>57.89</td>\n",
       "    </tr>\n",
       "    <tr>\n",
       "      <th>5</th>\n",
       "      <td>1.976968e+13</td>\n",
       "      <td>19.0</td>\n",
       "      <td>1976968.0</td>\n",
       "      <td>109926.0</td>\n",
       "      <td>Academia Avance Charter</td>\n",
       "      <td>SBE - Academia Avance Charter</td>\n",
       "      <td>Los Angeles</td>\n",
       "      <td>65.0</td>\n",
       "      <td>33.0</td>\n",
       "      <td>9.09</td>\n",
       "    </tr>\n",
       "    <tr>\n",
       "      <th>6</th>\n",
       "      <td>1.964733e+13</td>\n",
       "      <td>19.0</td>\n",
       "      <td>1964733.0</td>\n",
       "      <td>126615.0</td>\n",
       "      <td>Academies of Education and Empowerment at Cars...</td>\n",
       "      <td>Los Angeles Unified</td>\n",
       "      <td>Los Angeles</td>\n",
       "      <td>126.0</td>\n",
       "      <td>16.0</td>\n",
       "      <td>31.25</td>\n",
       "    </tr>\n",
       "    <tr>\n",
       "      <th>13</th>\n",
       "      <td>1.965136e+13</td>\n",
       "      <td>19.0</td>\n",
       "      <td>1965136.0</td>\n",
       "      <td>1996321.0</td>\n",
       "      <td>Academy of the Canyons</td>\n",
       "      <td>William S. Hart Union High</td>\n",
       "      <td>Los Angeles</td>\n",
       "      <td>104.0</td>\n",
       "      <td>36.0</td>\n",
       "      <td>94.44</td>\n",
       "    </tr>\n",
       "  </tbody>\n",
       "</table>\n",
       "</div>"
      ],
      "text/plain": [
       "             CDS  CCode     CDCode      SCode  \\\n",
       "3   4.369666e+13   43.0  4369666.0  4333795.0   \n",
       "4   1.964733e+13   19.0  1964733.0  1935121.0   \n",
       "5   1.976968e+13   19.0  1976968.0   109926.0   \n",
       "6   1.964733e+13   19.0  1964733.0   126615.0   \n",
       "13  1.965136e+13   19.0  1965136.0  1996321.0   \n",
       "\n",
       "                                                SName  \\\n",
       "3                                Abraham Lincoln High   \n",
       "4                         Abraham Lincoln Senior High   \n",
       "5                             Academia Avance Charter   \n",
       "6   Academies of Education and Empowerment at Cars...   \n",
       "13                             Academy of the Canyons   \n",
       "\n",
       "                            DName        CName  Enroll12  NumTstTakr  PctGE21  \n",
       "3                San Jose Unified  Santa Clara     463.0        53.0    64.15  \n",
       "4             Los Angeles Unified  Los Angeles     226.0        19.0    57.89  \n",
       "5   SBE - Academia Avance Charter  Los Angeles      65.0        33.0     9.09  \n",
       "6             Los Angeles Unified  Los Angeles     126.0        16.0    31.25  \n",
       "13     William S. Hart Union High  Los Angeles     104.0        36.0    94.44  "
      ]
     },
     "execution_count": 24,
     "metadata": {},
     "output_type": "execute_result"
    }
   ],
   "source": [
    "df.drop(columns=['RType'], inplace=True)\n",
    "df.head()"
   ]
  },
  {
   "cell_type": "code",
   "execution_count": 25,
   "metadata": {
    "ExecuteTime": {
     "end_time": "2021-06-19T23:16:20.276026Z",
     "start_time": "2021-06-19T23:16:20.261681Z"
    }
   },
   "outputs": [
    {
     "data": {
      "text/html": [
       "<div>\n",
       "<style scoped>\n",
       "    .dataframe tbody tr th:only-of-type {\n",
       "        vertical-align: middle;\n",
       "    }\n",
       "\n",
       "    .dataframe tbody tr th {\n",
       "        vertical-align: top;\n",
       "    }\n",
       "\n",
       "    .dataframe thead th {\n",
       "        text-align: right;\n",
       "    }\n",
       "</style>\n",
       "<table border=\"1\" class=\"dataframe\">\n",
       "  <thead>\n",
       "    <tr style=\"text-align: right;\">\n",
       "      <th></th>\n",
       "      <th>uid_code</th>\n",
       "      <th>county_code</th>\n",
       "      <th>district_code</th>\n",
       "      <th>school_code</th>\n",
       "      <th>school_name</th>\n",
       "      <th>district_name</th>\n",
       "      <th>county_name</th>\n",
       "      <th>num_enrolled_grade_12</th>\n",
       "      <th>num_testers_grade_12</th>\n",
       "      <th>pct_above_21_comp</th>\n",
       "    </tr>\n",
       "  </thead>\n",
       "  <tbody>\n",
       "    <tr>\n",
       "      <th>3</th>\n",
       "      <td>4.369666e+13</td>\n",
       "      <td>43.0</td>\n",
       "      <td>4369666.0</td>\n",
       "      <td>4333795.0</td>\n",
       "      <td>Abraham Lincoln High</td>\n",
       "      <td>San Jose Unified</td>\n",
       "      <td>Santa Clara</td>\n",
       "      <td>463.0</td>\n",
       "      <td>53.0</td>\n",
       "      <td>64.15</td>\n",
       "    </tr>\n",
       "    <tr>\n",
       "      <th>4</th>\n",
       "      <td>1.964733e+13</td>\n",
       "      <td>19.0</td>\n",
       "      <td>1964733.0</td>\n",
       "      <td>1935121.0</td>\n",
       "      <td>Abraham Lincoln Senior High</td>\n",
       "      <td>Los Angeles Unified</td>\n",
       "      <td>Los Angeles</td>\n",
       "      <td>226.0</td>\n",
       "      <td>19.0</td>\n",
       "      <td>57.89</td>\n",
       "    </tr>\n",
       "    <tr>\n",
       "      <th>5</th>\n",
       "      <td>1.976968e+13</td>\n",
       "      <td>19.0</td>\n",
       "      <td>1976968.0</td>\n",
       "      <td>109926.0</td>\n",
       "      <td>Academia Avance Charter</td>\n",
       "      <td>SBE - Academia Avance Charter</td>\n",
       "      <td>Los Angeles</td>\n",
       "      <td>65.0</td>\n",
       "      <td>33.0</td>\n",
       "      <td>9.09</td>\n",
       "    </tr>\n",
       "    <tr>\n",
       "      <th>6</th>\n",
       "      <td>1.964733e+13</td>\n",
       "      <td>19.0</td>\n",
       "      <td>1964733.0</td>\n",
       "      <td>126615.0</td>\n",
       "      <td>Academies of Education and Empowerment at Cars...</td>\n",
       "      <td>Los Angeles Unified</td>\n",
       "      <td>Los Angeles</td>\n",
       "      <td>126.0</td>\n",
       "      <td>16.0</td>\n",
       "      <td>31.25</td>\n",
       "    </tr>\n",
       "    <tr>\n",
       "      <th>13</th>\n",
       "      <td>1.965136e+13</td>\n",
       "      <td>19.0</td>\n",
       "      <td>1965136.0</td>\n",
       "      <td>1996321.0</td>\n",
       "      <td>Academy of the Canyons</td>\n",
       "      <td>William S. Hart Union High</td>\n",
       "      <td>Los Angeles</td>\n",
       "      <td>104.0</td>\n",
       "      <td>36.0</td>\n",
       "      <td>94.44</td>\n",
       "    </tr>\n",
       "  </tbody>\n",
       "</table>\n",
       "</div>"
      ],
      "text/plain": [
       "        uid_code  county_code  district_code  school_code  \\\n",
       "3   4.369666e+13         43.0      4369666.0    4333795.0   \n",
       "4   1.964733e+13         19.0      1964733.0    1935121.0   \n",
       "5   1.976968e+13         19.0      1976968.0     109926.0   \n",
       "6   1.964733e+13         19.0      1964733.0     126615.0   \n",
       "13  1.965136e+13         19.0      1965136.0    1996321.0   \n",
       "\n",
       "                                          school_name  \\\n",
       "3                                Abraham Lincoln High   \n",
       "4                         Abraham Lincoln Senior High   \n",
       "5                             Academia Avance Charter   \n",
       "6   Academies of Education and Empowerment at Cars...   \n",
       "13                             Academy of the Canyons   \n",
       "\n",
       "                    district_name  county_name  num_enrolled_grade_12  \\\n",
       "3                San Jose Unified  Santa Clara                  463.0   \n",
       "4             Los Angeles Unified  Los Angeles                  226.0   \n",
       "5   SBE - Academia Avance Charter  Los Angeles                   65.0   \n",
       "6             Los Angeles Unified  Los Angeles                  126.0   \n",
       "13     William S. Hart Union High  Los Angeles                  104.0   \n",
       "\n",
       "    num_testers_grade_12  pct_above_21_comp  \n",
       "3                   53.0              64.15  \n",
       "4                   19.0              57.89  \n",
       "5                   33.0               9.09  \n",
       "6                   16.0              31.25  \n",
       "13                  36.0              94.44  "
      ]
     },
     "execution_count": 25,
     "metadata": {},
     "output_type": "execute_result"
    }
   ],
   "source": [
    "df.rename(columns={\n",
    "    'CDS': 'uid_code',\n",
    "    'CCode': 'county_code',\n",
    "    'CDCode': 'district_code',\n",
    "    'SCode': 'school_code',\n",
    "    'SName': 'school_name',\n",
    "    'DName': 'district_name',\n",
    "    'CName': 'county_name',\n",
    "    'Enroll12': 'num_enrolled_grade_12',\n",
    "    'NumTstTakr': 'num_testers_grade_12',\n",
    "    'PctGE21': 'pct_above_21_comp'\n",
    "}, inplace=True)\n",
    "df.head()"
   ]
  },
  {
   "cell_type": "code",
   "execution_count": 26,
   "metadata": {
    "ExecuteTime": {
     "end_time": "2021-06-19T23:16:20.291403Z",
     "start_time": "2021-06-19T23:16:20.277043Z"
    }
   },
   "outputs": [],
   "source": [
    "df.to_csv('../data/cali_act.csv', index=False)"
   ]
  },
  {
   "cell_type": "code",
   "execution_count": 27,
   "metadata": {
    "ExecuteTime": {
     "end_time": "2021-06-19T23:16:20.306806Z",
     "start_time": "2021-06-19T23:16:20.292394Z"
    }
   },
   "outputs": [
    {
     "data": {
      "text/html": [
       "<div>\n",
       "<style scoped>\n",
       "    .dataframe tbody tr th:only-of-type {\n",
       "        vertical-align: middle;\n",
       "    }\n",
       "\n",
       "    .dataframe tbody tr th {\n",
       "        vertical-align: top;\n",
       "    }\n",
       "\n",
       "    .dataframe thead th {\n",
       "        text-align: right;\n",
       "    }\n",
       "</style>\n",
       "<table border=\"1\" class=\"dataframe\">\n",
       "  <thead>\n",
       "    <tr style=\"text-align: right;\">\n",
       "      <th></th>\n",
       "      <th>uid_code</th>\n",
       "      <th>county_code</th>\n",
       "      <th>district_code</th>\n",
       "      <th>school_code</th>\n",
       "      <th>school_name</th>\n",
       "      <th>district_name</th>\n",
       "      <th>county_name</th>\n",
       "      <th>num_enrolled_grade_12</th>\n",
       "      <th>num_testers_grade_12</th>\n",
       "      <th>pct_above_21_comp</th>\n",
       "    </tr>\n",
       "  </thead>\n",
       "  <tbody>\n",
       "    <tr>\n",
       "      <th>0</th>\n",
       "      <td>4.369666e+13</td>\n",
       "      <td>43.0</td>\n",
       "      <td>4369666.0</td>\n",
       "      <td>4333795.0</td>\n",
       "      <td>Abraham Lincoln High</td>\n",
       "      <td>San Jose Unified</td>\n",
       "      <td>Santa Clara</td>\n",
       "      <td>463.0</td>\n",
       "      <td>53.0</td>\n",
       "      <td>64.15</td>\n",
       "    </tr>\n",
       "    <tr>\n",
       "      <th>1</th>\n",
       "      <td>1.964733e+13</td>\n",
       "      <td>19.0</td>\n",
       "      <td>1964733.0</td>\n",
       "      <td>1935121.0</td>\n",
       "      <td>Abraham Lincoln Senior High</td>\n",
       "      <td>Los Angeles Unified</td>\n",
       "      <td>Los Angeles</td>\n",
       "      <td>226.0</td>\n",
       "      <td>19.0</td>\n",
       "      <td>57.89</td>\n",
       "    </tr>\n",
       "    <tr>\n",
       "      <th>2</th>\n",
       "      <td>1.976968e+13</td>\n",
       "      <td>19.0</td>\n",
       "      <td>1976968.0</td>\n",
       "      <td>109926.0</td>\n",
       "      <td>Academia Avance Charter</td>\n",
       "      <td>SBE - Academia Avance Charter</td>\n",
       "      <td>Los Angeles</td>\n",
       "      <td>65.0</td>\n",
       "      <td>33.0</td>\n",
       "      <td>9.09</td>\n",
       "    </tr>\n",
       "    <tr>\n",
       "      <th>3</th>\n",
       "      <td>1.964733e+13</td>\n",
       "      <td>19.0</td>\n",
       "      <td>1964733.0</td>\n",
       "      <td>126615.0</td>\n",
       "      <td>Academies of Education and Empowerment at Cars...</td>\n",
       "      <td>Los Angeles Unified</td>\n",
       "      <td>Los Angeles</td>\n",
       "      <td>126.0</td>\n",
       "      <td>16.0</td>\n",
       "      <td>31.25</td>\n",
       "    </tr>\n",
       "    <tr>\n",
       "      <th>4</th>\n",
       "      <td>1.965136e+13</td>\n",
       "      <td>19.0</td>\n",
       "      <td>1965136.0</td>\n",
       "      <td>1996321.0</td>\n",
       "      <td>Academy of the Canyons</td>\n",
       "      <td>William S. Hart Union High</td>\n",
       "      <td>Los Angeles</td>\n",
       "      <td>104.0</td>\n",
       "      <td>36.0</td>\n",
       "      <td>94.44</td>\n",
       "    </tr>\n",
       "  </tbody>\n",
       "</table>\n",
       "</div>"
      ],
      "text/plain": [
       "       uid_code  county_code  district_code  school_code  \\\n",
       "0  4.369666e+13         43.0      4369666.0    4333795.0   \n",
       "1  1.964733e+13         19.0      1964733.0    1935121.0   \n",
       "2  1.976968e+13         19.0      1976968.0     109926.0   \n",
       "3  1.964733e+13         19.0      1964733.0     126615.0   \n",
       "4  1.965136e+13         19.0      1965136.0    1996321.0   \n",
       "\n",
       "                                         school_name  \\\n",
       "0                               Abraham Lincoln High   \n",
       "1                        Abraham Lincoln Senior High   \n",
       "2                            Academia Avance Charter   \n",
       "3  Academies of Education and Empowerment at Cars...   \n",
       "4                             Academy of the Canyons   \n",
       "\n",
       "                   district_name  county_name  num_enrolled_grade_12  \\\n",
       "0               San Jose Unified  Santa Clara                  463.0   \n",
       "1            Los Angeles Unified  Los Angeles                  226.0   \n",
       "2  SBE - Academia Avance Charter  Los Angeles                   65.0   \n",
       "3            Los Angeles Unified  Los Angeles                  126.0   \n",
       "4     William S. Hart Union High  Los Angeles                  104.0   \n",
       "\n",
       "   num_testers_grade_12  pct_above_21_comp  \n",
       "0                  53.0              64.15  \n",
       "1                  19.0              57.89  \n",
       "2                  33.0               9.09  \n",
       "3                  16.0              31.25  \n",
       "4                  36.0              94.44  "
      ]
     },
     "execution_count": 27,
     "metadata": {},
     "output_type": "execute_result"
    }
   ],
   "source": [
    "df = pd.read_csv('../data/cali_act.csv')\n",
    "df.head()"
   ]
  },
  {
   "cell_type": "markdown",
   "metadata": {},
   "source": [
    "|Feature|Type|Dataset|Description|\n",
    "|---|---|---|---|\n",
    "|**uid_code**|*float*|Cali ACT|A unique identifying code for each school, combining the county, district, and school codes.|\n",
    "|**county_code**|*float*|Cali ACT|The county identifier|\n",
    "|**district_code**|*float*|Cali ACT|The district identifier|  \n",
    "|**school_code**|*float*|Cali ACT|The school identifier|\n",
    "|**school_name**|*object*|Cali ACT|The name of the school. If the name is n/a, the record is from the district/county/state|\n",
    "|**district_name**|*object*|Cali ACT|The name of the district. If the name is n/a, the record is from the county/state|\n",
    "|**county_name**|*object*|Cali ACT|The name of the county.|\n",
    "|**num_enrolled_grade_12**|*float*|Cali ACT|Number of students enrolled in grade 12|\n",
    "|**num_testers_grade_12**|*float*|Cali ACT|Number of students in grade 12 who tested|\n",
    "|**pct_above_21_comp**|*float*|Cali ACT|Percent of students who tested who achieved higher than a 21 composite score|\n",
    "|**population**|*float*|Cali County Income|County population|\n",
    "|**population_density**|*float*|Cali County Income|County population density|\n",
    "|**median_household_income**|*float*|Cali County Income|County median household income|\n",
    "|----------------------------|------|-------|----------------|\n",
    "|**uid_code**|*float*|Cali SAT|A unique identifying code for each school, combining the county, district, and school codes.|\n",
    "|**county_code**|*float*|Cali SAT|The county identifier|\n",
    "|**district_code**|*float*|Cali SAT|The district identifier|  \n",
    "|**school_code**|*float*|Cali SAT|The school identifier|\n",
    "|**school_name**|*object*|Cali SAT|The name of the school. If the name is n/a, the record is from the district/county/state|\n",
    "|**district_name**|*object*|Cali SAT|The name of the district. If the name is n/a, the record is from the county/state|\n",
    "|**county_name**|*object*|Cali SAT|The name of the county.|\n",
    "|**enrolled_grade_12**|*float*|Cali SAT|Number of students enrolled in grade 12|\n",
    "|**num_testers_grade_12**|*float*|Cali SAT|Number of students in grade 12 who tested|\n",
    "|**pct_erw_pass_12**|*float*|Cali SAT|Percent of students in grade 12 who took the SAT and achieved higher than 480 (College Board benchmark) in Evidence-based Reading and Writing|\n",
    "|**pct_math_pass_12**|*float*|Cali SAT|Percent of students in grade 12 who took the SAT and achieved higher than 530 (College Board benchmark) in Math|\n",
    "|**enrolled_grade_11**|*float*|Cali SAT|Number of students enrolled in grade 11|\n",
    "|**num_testers_grade_11**|*float*|Cali SAT|Number of students in grade 11 who tested|\n",
    "|**pct_erw_pass_11**|*float*|Cali SAT|Percent of students in grade 11 who took the SAT and achieved higher than 460 (College Board benchmark) in Evidence-based Reading and Writing|\n",
    "|**pct_math_pass_11**|*float*|Cali SAT|Percent of students in grade 11 who took the SAT and achieved higher than 510 (College Board benchmark) in Math|\n",
    "|**pct_both_pass_12**|*float*|Cali SAT|Percent of students grade 12 who passed both benchmarks (480 in ERW, 530 in Math)|\n",
    "|**pct_both_pass_11**|*float*|Cali SAT|Percent of students grade 11 who passed both benchmarks (460 in ERW, 510 in Math)|\n",
    "|**population**|*float*|Cali County Income|County population|\n",
    "|**population_density**|*float*|Cali County Income|County population density|\n",
    "|**median_household_income**|*float*|Cali County Income|County median household income|\n"
   ]
  },
  {
   "cell_type": "markdown",
   "metadata": {},
   "source": [
    "Getting the standard deviation of relevant columns"
   ]
  },
  {
   "cell_type": "code",
   "execution_count": 28,
   "metadata": {
    "ExecuteTime": {
     "end_time": "2021-06-19T23:16:20.322178Z",
     "start_time": "2021-06-19T23:16:20.307799Z"
    }
   },
   "outputs": [],
   "source": [
    "df.describe().T.round(2)\n",
    "act_nums = ['num_enrolled_grade_12', 'num_testers_grade_12', 'pct_above_21_comp']\n",
    "# ^^^ the numeric columns for which I wanted the standard deviation"
   ]
  },
  {
   "cell_type": "code",
   "execution_count": 29,
   "metadata": {
    "ExecuteTime": {
     "end_time": "2021-06-19T23:16:20.675905Z",
     "start_time": "2021-06-19T23:16:20.323643Z"
    }
   },
   "outputs": [
    {
     "data": {
      "text/plain": [
       "{'num_enrolled_grade_12': 13574.53,\n",
       " 'num_testers_grade_12': 2310.78,\n",
       " 'pct_above_21_comp': 25.57}"
      ]
     },
     "execution_count": 29,
     "metadata": {},
     "output_type": "execute_result"
    }
   ],
   "source": [
    "sd_act = {name: round(std_dev(df[name]),2) for name in df.columns if name in act_nums}\n",
    "sd_act\n"
   ]
  },
  {
   "cell_type": "code",
   "execution_count": 30,
   "metadata": {
    "ExecuteTime": {
     "end_time": "2021-06-19T23:16:20.706651Z",
     "start_time": "2021-06-19T23:16:20.676892Z"
    }
   },
   "outputs": [
    {
     "data": {
      "text/html": [
       "<div>\n",
       "<style scoped>\n",
       "    .dataframe tbody tr th:only-of-type {\n",
       "        vertical-align: middle;\n",
       "    }\n",
       "\n",
       "    .dataframe tbody tr th {\n",
       "        vertical-align: top;\n",
       "    }\n",
       "\n",
       "    .dataframe thead th {\n",
       "        text-align: right;\n",
       "    }\n",
       "</style>\n",
       "<table border=\"1\" class=\"dataframe\">\n",
       "  <thead>\n",
       "    <tr style=\"text-align: right;\">\n",
       "      <th></th>\n",
       "      <th>uid_code</th>\n",
       "      <th>county_code</th>\n",
       "      <th>district_code</th>\n",
       "      <th>school_code</th>\n",
       "      <th>school_name</th>\n",
       "      <th>district_name</th>\n",
       "      <th>county_name</th>\n",
       "      <th>enrolled_grade_12</th>\n",
       "      <th>num_testers_grade_12</th>\n",
       "      <th>pct_erw_pass_12</th>\n",
       "      <th>pct_math_pass_12</th>\n",
       "      <th>enrolled_grade_11</th>\n",
       "      <th>num_testers_grade_11</th>\n",
       "      <th>pct_erw_pass_11</th>\n",
       "      <th>pct_math_pass_11</th>\n",
       "      <th>pct_both_pass_12</th>\n",
       "      <th>pct_both_pass_11</th>\n",
       "    </tr>\n",
       "  </thead>\n",
       "  <tbody>\n",
       "    <tr>\n",
       "      <th>0</th>\n",
       "      <td>1.964733e+13</td>\n",
       "      <td>19.0</td>\n",
       "      <td>1964733.0</td>\n",
       "      <td>1930924.0</td>\n",
       "      <td>Belmont Senior High</td>\n",
       "      <td>Los Angeles Unified</td>\n",
       "      <td>Los Angeles</td>\n",
       "      <td>206.0</td>\n",
       "      <td>102.0</td>\n",
       "      <td>30.39</td>\n",
       "      <td>13.73</td>\n",
       "      <td>219.0</td>\n",
       "      <td>174.0</td>\n",
       "      <td>24.14</td>\n",
       "      <td>6.90</td>\n",
       "      <td>13.73</td>\n",
       "      <td>6.32</td>\n",
       "    </tr>\n",
       "    <tr>\n",
       "      <th>1</th>\n",
       "      <td>1.964733e+13</td>\n",
       "      <td>19.0</td>\n",
       "      <td>1964733.0</td>\n",
       "      <td>1931476.0</td>\n",
       "      <td>Canoga Park Senior High</td>\n",
       "      <td>Los Angeles Unified</td>\n",
       "      <td>Los Angeles</td>\n",
       "      <td>227.0</td>\n",
       "      <td>113.0</td>\n",
       "      <td>47.79</td>\n",
       "      <td>15.93</td>\n",
       "      <td>333.0</td>\n",
       "      <td>275.0</td>\n",
       "      <td>35.27</td>\n",
       "      <td>13.45</td>\n",
       "      <td>15.93</td>\n",
       "      <td>12.73</td>\n",
       "    </tr>\n",
       "    <tr>\n",
       "      <th>2</th>\n",
       "      <td>1.964734e+13</td>\n",
       "      <td>19.0</td>\n",
       "      <td>1964733.0</td>\n",
       "      <td>6061451.0</td>\n",
       "      <td>Foshay Learning Center</td>\n",
       "      <td>Los Angeles Unified</td>\n",
       "      <td>Los Angeles</td>\n",
       "      <td>166.0</td>\n",
       "      <td>106.0</td>\n",
       "      <td>64.15</td>\n",
       "      <td>33.96</td>\n",
       "      <td>187.0</td>\n",
       "      <td>183.0</td>\n",
       "      <td>49.73</td>\n",
       "      <td>25.68</td>\n",
       "      <td>33.96</td>\n",
       "      <td>24.04</td>\n",
       "    </tr>\n",
       "    <tr>\n",
       "      <th>3</th>\n",
       "      <td>3.073635e+13</td>\n",
       "      <td>30.0</td>\n",
       "      <td>3073635.0</td>\n",
       "      <td>3034956.0</td>\n",
       "      <td>Mission Viejo High</td>\n",
       "      <td>Saddleback Valley Unified</td>\n",
       "      <td>Orange</td>\n",
       "      <td>562.0</td>\n",
       "      <td>190.0</td>\n",
       "      <td>84.74</td>\n",
       "      <td>72.63</td>\n",
       "      <td>503.0</td>\n",
       "      <td>223.0</td>\n",
       "      <td>92.38</td>\n",
       "      <td>78.92</td>\n",
       "      <td>69.47</td>\n",
       "      <td>77.13</td>\n",
       "    </tr>\n",
       "    <tr>\n",
       "      <th>4</th>\n",
       "      <td>1.964733e+13</td>\n",
       "      <td>19.0</td>\n",
       "      <td>1964733.0</td>\n",
       "      <td>119685.0</td>\n",
       "      <td>New Open World Academy K-12</td>\n",
       "      <td>Los Angeles Unified</td>\n",
       "      <td>Los Angeles</td>\n",
       "      <td>85.0</td>\n",
       "      <td>68.0</td>\n",
       "      <td>25.00</td>\n",
       "      <td>8.82</td>\n",
       "      <td>79.0</td>\n",
       "      <td>79.0</td>\n",
       "      <td>27.85</td>\n",
       "      <td>12.66</td>\n",
       "      <td>8.82</td>\n",
       "      <td>7.59</td>\n",
       "    </tr>\n",
       "  </tbody>\n",
       "</table>\n",
       "</div>"
      ],
      "text/plain": [
       "       uid_code  county_code  district_code  school_code  \\\n",
       "0  1.964733e+13         19.0      1964733.0    1930924.0   \n",
       "1  1.964733e+13         19.0      1964733.0    1931476.0   \n",
       "2  1.964734e+13         19.0      1964733.0    6061451.0   \n",
       "3  3.073635e+13         30.0      3073635.0    3034956.0   \n",
       "4  1.964733e+13         19.0      1964733.0     119685.0   \n",
       "\n",
       "                   school_name              district_name  county_name  \\\n",
       "0          Belmont Senior High        Los Angeles Unified  Los Angeles   \n",
       "1      Canoga Park Senior High        Los Angeles Unified  Los Angeles   \n",
       "2       Foshay Learning Center        Los Angeles Unified  Los Angeles   \n",
       "3           Mission Viejo High  Saddleback Valley Unified       Orange   \n",
       "4  New Open World Academy K-12        Los Angeles Unified  Los Angeles   \n",
       "\n",
       "   enrolled_grade_12  num_testers_grade_12  pct_erw_pass_12  pct_math_pass_12  \\\n",
       "0              206.0                 102.0            30.39             13.73   \n",
       "1              227.0                 113.0            47.79             15.93   \n",
       "2              166.0                 106.0            64.15             33.96   \n",
       "3              562.0                 190.0            84.74             72.63   \n",
       "4               85.0                  68.0            25.00              8.82   \n",
       "\n",
       "   enrolled_grade_11  num_testers_grade_11  pct_erw_pass_11  pct_math_pass_11  \\\n",
       "0              219.0                 174.0            24.14              6.90   \n",
       "1              333.0                 275.0            35.27             13.45   \n",
       "2              187.0                 183.0            49.73             25.68   \n",
       "3              503.0                 223.0            92.38             78.92   \n",
       "4               79.0                  79.0            27.85             12.66   \n",
       "\n",
       "   pct_both_pass_12  pct_both_pass_11  \n",
       "0             13.73              6.32  \n",
       "1             15.93             12.73  \n",
       "2             33.96             24.04  \n",
       "3             69.47             77.13  \n",
       "4              8.82              7.59  "
      ]
     },
     "execution_count": 30,
     "metadata": {},
     "output_type": "execute_result"
    }
   ],
   "source": [
    "df2 = pd.read_csv('../data/cali_sat.csv')\n",
    "df2.head()"
   ]
  },
  {
   "cell_type": "code",
   "execution_count": 31,
   "metadata": {
    "ExecuteTime": {
     "end_time": "2021-06-19T23:16:22.198144Z",
     "start_time": "2021-06-19T23:16:20.710100Z"
    }
   },
   "outputs": [
    {
     "data": {
      "text/plain": [
       "{'enrolled_grade_12': 12645.14,\n",
       " 'num_testers_grade_12': 4468.34,\n",
       " 'pct_erw_pass_12': 19.6,\n",
       " 'pct_math_pass_12': 22.68,\n",
       " 'enrolled_grade_11': 12265.11,\n",
       " 'num_testers_grade_11': 5505.97,\n",
       " 'pct_erw_pass_11': 20.88,\n",
       " 'pct_math_pass_11': 26.16,\n",
       " 'pct_both_pass_12': 22.72,\n",
       " 'pct_both_pass_11': 26.36}"
      ]
     },
     "execution_count": 31,
     "metadata": {},
     "output_type": "execute_result"
    }
   ],
   "source": [
    "sat_nums = [name for name in df2.columns[-10:]]\n",
    "sd_sat = {name: round(std_dev(df2[name]),2) for name in df2.columns if name in sat_nums}\n",
    "sd_sat"
   ]
  },
  {
   "cell_type": "code",
   "execution_count": null,
   "metadata": {
    "ExecuteTime": {
     "end_time": "2021-03-31T23:39:35.722276Z",
     "start_time": "2021-03-31T23:39:35.702905Z"
    }
   },
   "outputs": [],
   "source": []
  },
  {
   "cell_type": "markdown",
   "metadata": {},
   "source": [
    "These are the top ten districts based on percentage of ACT testers achieving above a 21 composite score for 2019"
   ]
  },
  {
   "cell_type": "code",
   "execution_count": 32,
   "metadata": {
    "ExecuteTime": {
     "end_time": "2021-06-19T23:16:22.213548Z",
     "start_time": "2021-06-19T23:16:22.200128Z"
    }
   },
   "outputs": [
    {
     "data": {
      "text/plain": [
       "district_name                          county_name\n",
       "Lakeside Union Elementary              San Diego      100.000\n",
       "Los Gatos-Saratoga Joint Union High    Santa Clara     96.170\n",
       "Piedmont City Unified                  Alameda         96.065\n",
       "Santa Cruz County Office of Education  Santa Cruz      95.830\n",
       "La Canada Unified                      Los Angeles     94.200\n",
       "Oak Park Unified                       Ventura         93.855\n",
       "Davis Joint Unified                    Yolo            93.350\n",
       "Sierra Sands Unified                   Kern            93.330\n",
       "Fremont Union High                     Santa Clara     92.910\n",
       "Irvine Unified                         Orange          91.674\n",
       "Name: pct_above_21_comp, dtype: float64"
      ]
     },
     "execution_count": 32,
     "metadata": {},
     "output_type": "execute_result"
    }
   ],
   "source": [
    "top_districts_act = df.groupby(['district_name', 'county_name'])['pct_above_21_comp'].mean().sort_values(ascending=False)\n",
    "top_districts_act.head(10)\n"
   ]
  },
  {
   "cell_type": "markdown",
   "metadata": {},
   "source": [
    "These are the worst-performing ten districts based on percentage of ACT testers achieving above a 21 composite score for 2019"
   ]
  },
  {
   "cell_type": "code",
   "execution_count": 33,
   "metadata": {
    "ExecuteTime": {
     "end_time": "2021-06-19T23:16:22.228897Z",
     "start_time": "2021-06-19T23:16:22.214512Z"
    }
   },
   "outputs": [
    {
     "data": {
      "text/plain": [
       "district_name                                                  county_name   \n",
       "Golden Plains Unified                                          Fresno            0.00000\n",
       "Reef-Sunset Unified                                            Kings             3.57000\n",
       "Tulelake Basin Joint Unified                                   Modoc             6.67000\n",
       "California School for the Deaf-Riverside (State Special Schl)  Riverside         7.69000\n",
       "Washington Unified                                             Fresno            8.26000\n",
       "Mendota Unified                                                Fresno            8.54000\n",
       "Mojave Unified                                                 Kern              8.54500\n",
       "Fontana Unified                                                San Bernardino    8.85875\n",
       "SBE - Academia Avance Charter                                  Los Angeles       9.09000\n",
       "California School for the Deaf-Fremont (State Special Schl)    Alameda           9.52000\n",
       "Name: pct_above_21_comp, dtype: float64"
      ]
     },
     "execution_count": 33,
     "metadata": {},
     "output_type": "execute_result"
    }
   ],
   "source": [
    "worst_districts_act = df.groupby(['district_name', 'county_name'])['pct_above_21_comp'].mean().sort_values(ascending=True)\n",
    "worst_districts_act.head(10)"
   ]
  },
  {
   "cell_type": "markdown",
   "metadata": {},
   "source": [
    "These are the top ten *counties* based on percentage of ACT testers achieving above a 21 composite score for 2019"
   ]
  },
  {
   "cell_type": "code",
   "execution_count": 34,
   "metadata": {
    "ExecuteTime": {
     "end_time": "2021-06-19T23:16:22.244299Z",
     "start_time": "2021-06-19T23:16:22.230385Z"
    }
   },
   "outputs": [
    {
     "data": {
      "text/plain": [
       "county_name\n",
       "Calaveras      85.173333\n",
       "Mono           79.300000\n",
       "Amador         78.970000\n",
       "Tuolumne       78.260000\n",
       "Marin          76.794545\n",
       "Placer         75.232000\n",
       "Shasta         74.837500\n",
       "Nevada         74.695000\n",
       "Trinity        73.330000\n",
       "Santa Clara    70.945614\n",
       "Name: pct_above_21_comp, dtype: float64"
      ]
     },
     "execution_count": 34,
     "metadata": {},
     "output_type": "execute_result"
    }
   ],
   "source": [
    "top_counties_act = df.groupby(['county_name'])['pct_above_21_comp'].mean().sort_values(ascending=False)\n",
    "top_counties_act.head(10)"
   ]
  },
  {
   "cell_type": "markdown",
   "metadata": {},
   "source": [
    "These are the worst-performing ten *counties* based on percentage of ACT testers achieving above a 21 composite score for 2019"
   ]
  },
  {
   "cell_type": "code",
   "execution_count": 35,
   "metadata": {
    "ExecuteTime": {
     "end_time": "2021-06-19T23:16:22.259676Z",
     "start_time": "2021-06-19T23:16:22.245264Z"
    }
   },
   "outputs": [
    {
     "data": {
      "text/plain": [
       "county_name\n",
       "Modoc       16.668000\n",
       "Merced      30.820526\n",
       "Kings       30.920000\n",
       "Tehama      31.995714\n",
       "Colusa      32.373333\n",
       "Lake        33.543333\n",
       "Glenn       34.656000\n",
       "Fresno      34.744146\n",
       "Tulare      35.955600\n",
       "Monterey    38.968182\n",
       "Name: pct_above_21_comp, dtype: float64"
      ]
     },
     "execution_count": 35,
     "metadata": {},
     "output_type": "execute_result"
    }
   ],
   "source": [
    "worst_counties_act = df.groupby(['county_name'])['pct_above_21_comp'].mean().sort_values(ascending=True)\n",
    "worst_counties_act.head(10)"
   ]
  },
  {
   "cell_type": "code",
   "execution_count": null,
   "metadata": {
    "ExecuteTime": {
     "end_time": "2021-03-31T23:40:27.615451Z",
     "start_time": "2021-03-31T23:40:27.603547Z"
    }
   },
   "outputs": [],
   "source": []
  },
  {
   "cell_type": "markdown",
   "metadata": {},
   "source": [
    "These are the top ten districts based on percentage of SAT testers in grade 12 passing both College Board benchmarks (480 in ERW, 530 in Math)"
   ]
  },
  {
   "cell_type": "code",
   "execution_count": 36,
   "metadata": {
    "ExecuteTime": {
     "end_time": "2021-06-19T23:16:22.275025Z",
     "start_time": "2021-06-19T23:16:22.261138Z"
    }
   },
   "outputs": [
    {
     "data": {
      "text/plain": [
       "district_name                        county_name\n",
       "La Canada Unified                    Los Angeles    91.760000\n",
       "San Marino Unified                   Los Angeles    91.670000\n",
       "Los Gatos-Saratoga Joint Union High  Santa Clara    91.430000\n",
       "Palo Alto Unified                    Santa Clara    90.466667\n",
       "Oak Park Unified                     Ventura        87.965000\n",
       "Irvine Unified                       Orange         87.924000\n",
       "South Pasadena Unified               Los Angeles    87.850000\n",
       "Manhattan Beach Unified              Los Angeles    87.320000\n",
       "Fremont Union High                   Santa Clara    86.930000\n",
       "Davis Joint Unified                  Yolo           85.020000\n",
       "Name: pct_both_pass_12, dtype: float64"
      ]
     },
     "execution_count": 36,
     "metadata": {},
     "output_type": "execute_result"
    }
   ],
   "source": [
    "top_districts_sat = df2.groupby(['district_name', 'county_name'])['pct_both_pass_12'].mean().sort_values(ascending=False)\n",
    "top_districts_sat.head(10)\n"
   ]
  },
  {
   "cell_type": "markdown",
   "metadata": {},
   "source": [
    "These are the worst-performing ten districts based on percentage of SAT testers in grade 12 passing both College Board benchmarks (480 in ERW, 530 in Math)"
   ]
  },
  {
   "cell_type": "code",
   "execution_count": 37,
   "metadata": {
    "ExecuteTime": {
     "end_time": "2021-06-19T23:16:22.290429Z",
     "start_time": "2021-06-19T23:16:22.276513Z"
    }
   },
   "outputs": [
    {
     "data": {
      "text/plain": [
       "district_name                            county_name\n",
       "Golden Plains Unified                    Fresno          0.000000\n",
       "Williams Unified                         Colusa          0.000000\n",
       "Firebaugh-Las Deltas Unified             Fresno          5.950000\n",
       "McFarland Unified                        Kern            9.090000\n",
       "Cloverdale Unified                       Sonoma          9.520000\n",
       "Washington Unified                       Fresno          9.760000\n",
       "San Pasqual Valley Unified               Imperial       10.530000\n",
       "Farmersville Unified                     Tulare         10.645000\n",
       "Paramount Unified                        Los Angeles    10.916667\n",
       "SBE - The School of Arts and Enterprise  Los Angeles    11.590000\n",
       "Name: pct_both_pass_12, dtype: float64"
      ]
     },
     "execution_count": 37,
     "metadata": {},
     "output_type": "execute_result"
    }
   ],
   "source": [
    "worst_districts_sat = df2.groupby(['district_name', 'county_name'])['pct_both_pass_12'].mean().sort_values(ascending=True)\n",
    "worst_districts_sat.head(10)\n"
   ]
  },
  {
   "cell_type": "markdown",
   "metadata": {},
   "source": [
    "These are the top ten *counties* based on percentage of SAT testers in grade 12 passing both College Board benchmarks (480 in ERW, 530 in Math)"
   ]
  },
  {
   "cell_type": "code",
   "execution_count": 38,
   "metadata": {
    "ExecuteTime": {
     "end_time": "2021-06-19T23:16:22.305777Z",
     "start_time": "2021-06-19T23:16:22.291391Z"
    }
   },
   "outputs": [
    {
     "data": {
      "text/plain": [
       "county_name\n",
       "Nevada             74.874000\n",
       "Mariposa           72.220000\n",
       "Marin              68.747273\n",
       "Tuolumne           67.922000\n",
       "El Dorado          67.452500\n",
       "Calaveras          66.658000\n",
       "Placer             65.351364\n",
       "Plumas             64.710000\n",
       "Amador             64.583333\n",
       "San Luis Obispo    63.050714\n",
       "Name: pct_both_pass_12, dtype: float64"
      ]
     },
     "execution_count": 38,
     "metadata": {},
     "output_type": "execute_result"
    }
   ],
   "source": [
    "top_counties_sat = df2.groupby(['county_name'])['pct_both_pass_12'].mean().sort_values(ascending=False)\n",
    "top_counties_sat.head(10)"
   ]
  },
  {
   "cell_type": "markdown",
   "metadata": {},
   "source": [
    "These are the worst-performing ten *counties* based on percentage of SAT testers in grade 12 passing both College Board benchmarks (480 in ERW, 530 in Math)"
   ]
  },
  {
   "cell_type": "code",
   "execution_count": 39,
   "metadata": {
    "ExecuteTime": {
     "end_time": "2021-06-19T23:16:22.321179Z",
     "start_time": "2021-06-19T23:16:22.306769Z"
    }
   },
   "outputs": [
    {
     "data": {
      "text/plain": [
       "county_name\n",
       "Colusa          9.500000\n",
       "Merced         25.836190\n",
       "Glenn          26.331429\n",
       "Fresno         31.194151\n",
       "Madera         31.521538\n",
       "Tulare         31.748276\n",
       "Kings          34.207500\n",
       "Imperial       34.858571\n",
       "Los Angeles    35.219398\n",
       "Monterey       35.273913\n",
       "Name: pct_both_pass_12, dtype: float64"
      ]
     },
     "execution_count": 39,
     "metadata": {},
     "output_type": "execute_result"
    }
   ],
   "source": [
    "worst_counties_sat = df2.groupby(['county_name'])['pct_both_pass_12'].mean().sort_values(ascending=True)\n",
    "worst_counties_sat.head(10)"
   ]
  },
  {
   "cell_type": "markdown",
   "metadata": {},
   "source": [
    "3 worst performing counties on the SAT (Colusa, Merced, Glenn counties):"
   ]
  },
  {
   "cell_type": "code",
   "execution_count": 40,
   "metadata": {
    "ExecuteTime": {
     "end_time": "2021-06-19T23:16:22.351932Z",
     "start_time": "2021-06-19T23:16:22.322640Z"
    }
   },
   "outputs": [
    {
     "data": {
      "text/html": [
       "<div>\n",
       "<style scoped>\n",
       "    .dataframe tbody tr th:only-of-type {\n",
       "        vertical-align: middle;\n",
       "    }\n",
       "\n",
       "    .dataframe tbody tr th {\n",
       "        vertical-align: top;\n",
       "    }\n",
       "\n",
       "    .dataframe thead th {\n",
       "        text-align: right;\n",
       "    }\n",
       "</style>\n",
       "<table border=\"1\" class=\"dataframe\">\n",
       "  <thead>\n",
       "    <tr style=\"text-align: right;\">\n",
       "      <th></th>\n",
       "      <th>uid_code</th>\n",
       "      <th>county_code</th>\n",
       "      <th>district_code</th>\n",
       "      <th>school_code</th>\n",
       "      <th>school_name</th>\n",
       "      <th>district_name</th>\n",
       "      <th>county_name</th>\n",
       "      <th>enrolled_grade_12</th>\n",
       "      <th>num_testers_grade_12</th>\n",
       "      <th>pct_erw_pass_12</th>\n",
       "      <th>pct_math_pass_12</th>\n",
       "      <th>enrolled_grade_11</th>\n",
       "      <th>num_testers_grade_11</th>\n",
       "      <th>pct_erw_pass_11</th>\n",
       "      <th>pct_math_pass_11</th>\n",
       "      <th>pct_both_pass_12</th>\n",
       "      <th>pct_both_pass_11</th>\n",
       "    </tr>\n",
       "  </thead>\n",
       "  <tbody>\n",
       "    <tr>\n",
       "      <th>42</th>\n",
       "      <td>2.465755e+13</td>\n",
       "      <td>24.0</td>\n",
       "      <td>2465755.0</td>\n",
       "      <td>2434207.0</td>\n",
       "      <td>Los Banos High</td>\n",
       "      <td>Los Banos Unified</td>\n",
       "      <td>Merced</td>\n",
       "      <td>303.0</td>\n",
       "      <td>95.0</td>\n",
       "      <td>65.26</td>\n",
       "      <td>37.89</td>\n",
       "      <td>304.0</td>\n",
       "      <td>80.0</td>\n",
       "      <td>68.75</td>\n",
       "      <td>38.75</td>\n",
       "      <td>35.79</td>\n",
       "      <td>33.75</td>\n",
       "    </tr>\n",
       "    <tr>\n",
       "      <th>48</th>\n",
       "      <td>2.465789e+13</td>\n",
       "      <td>24.0</td>\n",
       "      <td>2465789.0</td>\n",
       "      <td>127373.0</td>\n",
       "      <td>El Capitan High</td>\n",
       "      <td>Merced Union High</td>\n",
       "      <td>Merced</td>\n",
       "      <td>373.0</td>\n",
       "      <td>142.0</td>\n",
       "      <td>64.08</td>\n",
       "      <td>32.39</td>\n",
       "      <td>388.0</td>\n",
       "      <td>106.0</td>\n",
       "      <td>76.42</td>\n",
       "      <td>53.77</td>\n",
       "      <td>30.99</td>\n",
       "      <td>53.77</td>\n",
       "    </tr>\n",
       "    <tr>\n",
       "      <th>49</th>\n",
       "      <td>2.465789e+13</td>\n",
       "      <td>24.0</td>\n",
       "      <td>2465789.0</td>\n",
       "      <td>2435204.0</td>\n",
       "      <td>Merced High</td>\n",
       "      <td>Merced Union High</td>\n",
       "      <td>Merced</td>\n",
       "      <td>400.0</td>\n",
       "      <td>110.0</td>\n",
       "      <td>70.91</td>\n",
       "      <td>42.73</td>\n",
       "      <td>417.0</td>\n",
       "      <td>79.0</td>\n",
       "      <td>68.35</td>\n",
       "      <td>51.90</td>\n",
       "      <td>39.09</td>\n",
       "      <td>48.10</td>\n",
       "    </tr>\n",
       "    <tr>\n",
       "      <th>111</th>\n",
       "      <td>2.465789e+13</td>\n",
       "      <td>24.0</td>\n",
       "      <td>2465789.0</td>\n",
       "      <td>2433605.0</td>\n",
       "      <td>Livingston High</td>\n",
       "      <td>Merced Union High</td>\n",
       "      <td>Merced</td>\n",
       "      <td>291.0</td>\n",
       "      <td>91.0</td>\n",
       "      <td>62.64</td>\n",
       "      <td>34.07</td>\n",
       "      <td>325.0</td>\n",
       "      <td>82.0</td>\n",
       "      <td>68.29</td>\n",
       "      <td>36.59</td>\n",
       "      <td>32.97</td>\n",
       "      <td>34.15</td>\n",
       "    </tr>\n",
       "    <tr>\n",
       "      <th>115</th>\n",
       "      <td>6.616141e+12</td>\n",
       "      <td>6.0</td>\n",
       "      <td>661614.0</td>\n",
       "      <td>635250.0</td>\n",
       "      <td>Pierce High</td>\n",
       "      <td>Pierce Joint Unified</td>\n",
       "      <td>Colusa</td>\n",
       "      <td>103.0</td>\n",
       "      <td>21.0</td>\n",
       "      <td>52.38</td>\n",
       "      <td>14.29</td>\n",
       "      <td>103.0</td>\n",
       "      <td>38.0</td>\n",
       "      <td>68.42</td>\n",
       "      <td>44.74</td>\n",
       "      <td>14.29</td>\n",
       "      <td>44.74</td>\n",
       "    </tr>\n",
       "    <tr>\n",
       "      <th>254</th>\n",
       "      <td>2.475317e+13</td>\n",
       "      <td>24.0</td>\n",
       "      <td>2475317.0</td>\n",
       "      <td>2431203.0</td>\n",
       "      <td>Dos Palos High</td>\n",
       "      <td>Dos Palos Oro Loma Joint Unified</td>\n",
       "      <td>Merced</td>\n",
       "      <td>159.0</td>\n",
       "      <td>43.0</td>\n",
       "      <td>51.16</td>\n",
       "      <td>20.93</td>\n",
       "      <td>149.0</td>\n",
       "      <td>30.0</td>\n",
       "      <td>76.67</td>\n",
       "      <td>66.67</td>\n",
       "      <td>16.28</td>\n",
       "      <td>63.33</td>\n",
       "    </tr>\n",
       "    <tr>\n",
       "      <th>255</th>\n",
       "      <td>2.475366e+13</td>\n",
       "      <td>24.0</td>\n",
       "      <td>2475366.0</td>\n",
       "      <td>2430114.0</td>\n",
       "      <td>Delhi High</td>\n",
       "      <td>Delhi Unified</td>\n",
       "      <td>Merced</td>\n",
       "      <td>167.0</td>\n",
       "      <td>82.0</td>\n",
       "      <td>60.98</td>\n",
       "      <td>17.07</td>\n",
       "      <td>169.0</td>\n",
       "      <td>59.0</td>\n",
       "      <td>67.80</td>\n",
       "      <td>22.03</td>\n",
       "      <td>17.07</td>\n",
       "      <td>22.03</td>\n",
       "    </tr>\n",
       "    <tr>\n",
       "      <th>288</th>\n",
       "      <td>2.465789e+13</td>\n",
       "      <td>24.0</td>\n",
       "      <td>2465789.0</td>\n",
       "      <td>2430601.0</td>\n",
       "      <td>Atwater High</td>\n",
       "      <td>Merced Union High</td>\n",
       "      <td>Merced</td>\n",
       "      <td>474.0</td>\n",
       "      <td>119.0</td>\n",
       "      <td>56.30</td>\n",
       "      <td>28.57</td>\n",
       "      <td>417.0</td>\n",
       "      <td>88.0</td>\n",
       "      <td>71.59</td>\n",
       "      <td>46.59</td>\n",
       "      <td>26.05</td>\n",
       "      <td>44.32</td>\n",
       "    </tr>\n",
       "    <tr>\n",
       "      <th>440</th>\n",
       "      <td>6.616221e+12</td>\n",
       "      <td>6.0</td>\n",
       "      <td>661622.0</td>\n",
       "      <td>637504.0</td>\n",
       "      <td>Williams Junior/Senior High</td>\n",
       "      <td>Williams Unified</td>\n",
       "      <td>Colusa</td>\n",
       "      <td>78.0</td>\n",
       "      <td>29.0</td>\n",
       "      <td>37.93</td>\n",
       "      <td>3.45</td>\n",
       "      <td>89.0</td>\n",
       "      <td>32.0</td>\n",
       "      <td>59.38</td>\n",
       "      <td>37.50</td>\n",
       "      <td>0.00</td>\n",
       "      <td>31.25</td>\n",
       "    </tr>\n",
       "    <tr>\n",
       "      <th>484</th>\n",
       "      <td>2.465755e+13</td>\n",
       "      <td>24.0</td>\n",
       "      <td>2465755.0</td>\n",
       "      <td>120923.0</td>\n",
       "      <td>Pacheco High</td>\n",
       "      <td>Los Banos Unified</td>\n",
       "      <td>Merced</td>\n",
       "      <td>418.0</td>\n",
       "      <td>120.0</td>\n",
       "      <td>60.00</td>\n",
       "      <td>25.83</td>\n",
       "      <td>445.0</td>\n",
       "      <td>37.0</td>\n",
       "      <td>89.19</td>\n",
       "      <td>67.57</td>\n",
       "      <td>24.17</td>\n",
       "      <td>67.57</td>\n",
       "    </tr>\n",
       "    <tr>\n",
       "      <th>558</th>\n",
       "      <td>2.465730e+13</td>\n",
       "      <td>24.0</td>\n",
       "      <td>2465730.0</td>\n",
       "      <td>2433001.0</td>\n",
       "      <td>Le Grand High</td>\n",
       "      <td>Le Grand Union High</td>\n",
       "      <td>Merced</td>\n",
       "      <td>95.0</td>\n",
       "      <td>46.0</td>\n",
       "      <td>43.48</td>\n",
       "      <td>23.91</td>\n",
       "      <td>123.0</td>\n",
       "      <td>65.0</td>\n",
       "      <td>44.62</td>\n",
       "      <td>33.85</td>\n",
       "      <td>15.22</td>\n",
       "      <td>26.15</td>\n",
       "    </tr>\n",
       "    <tr>\n",
       "      <th>628</th>\n",
       "      <td>1.162661e+13</td>\n",
       "      <td>11.0</td>\n",
       "      <td>1162661.0</td>\n",
       "      <td>1132851.0</td>\n",
       "      <td>Willows High</td>\n",
       "      <td>Willows Unified</td>\n",
       "      <td>Glenn</td>\n",
       "      <td>115.0</td>\n",
       "      <td>27.0</td>\n",
       "      <td>51.85</td>\n",
       "      <td>22.22</td>\n",
       "      <td>121.0</td>\n",
       "      <td>30.0</td>\n",
       "      <td>80.00</td>\n",
       "      <td>56.67</td>\n",
       "      <td>18.52</td>\n",
       "      <td>50.00</td>\n",
       "    </tr>\n",
       "    <tr>\n",
       "      <th>675</th>\n",
       "      <td>2.465789e+13</td>\n",
       "      <td>24.0</td>\n",
       "      <td>2465789.0</td>\n",
       "      <td>2430098.0</td>\n",
       "      <td>Golden Valley High</td>\n",
       "      <td>Merced Union High</td>\n",
       "      <td>Merced</td>\n",
       "      <td>397.0</td>\n",
       "      <td>145.0</td>\n",
       "      <td>60.00</td>\n",
       "      <td>35.17</td>\n",
       "      <td>440.0</td>\n",
       "      <td>93.0</td>\n",
       "      <td>65.59</td>\n",
       "      <td>37.63</td>\n",
       "      <td>30.34</td>\n",
       "      <td>33.33</td>\n",
       "    </tr>\n",
       "    <tr>\n",
       "      <th>721</th>\n",
       "      <td>1.176562e+13</td>\n",
       "      <td>11.0</td>\n",
       "      <td>1176562.0</td>\n",
       "      <td>1133701.0</td>\n",
       "      <td>Hamilton High</td>\n",
       "      <td>Hamilton Unified</td>\n",
       "      <td>Glenn</td>\n",
       "      <td>86.0</td>\n",
       "      <td>25.0</td>\n",
       "      <td>52.00</td>\n",
       "      <td>20.00</td>\n",
       "      <td>48.0</td>\n",
       "      <td>24.0</td>\n",
       "      <td>62.50</td>\n",
       "      <td>33.33</td>\n",
       "      <td>16.00</td>\n",
       "      <td>29.17</td>\n",
       "    </tr>\n",
       "    <tr>\n",
       "      <th>785</th>\n",
       "      <td>2.465789e+13</td>\n",
       "      <td>24.0</td>\n",
       "      <td>2465789.0</td>\n",
       "      <td>2430205.0</td>\n",
       "      <td>Buhach Colony High</td>\n",
       "      <td>Merced Union High</td>\n",
       "      <td>Merced</td>\n",
       "      <td>412.0</td>\n",
       "      <td>137.0</td>\n",
       "      <td>65.69</td>\n",
       "      <td>37.96</td>\n",
       "      <td>508.0</td>\n",
       "      <td>143.0</td>\n",
       "      <td>73.43</td>\n",
       "      <td>41.96</td>\n",
       "      <td>32.85</td>\n",
       "      <td>40.56</td>\n",
       "    </tr>\n",
       "  </tbody>\n",
       "</table>\n",
       "</div>"
      ],
      "text/plain": [
       "         uid_code  county_code  district_code  school_code  \\\n",
       "42   2.465755e+13         24.0      2465755.0    2434207.0   \n",
       "48   2.465789e+13         24.0      2465789.0     127373.0   \n",
       "49   2.465789e+13         24.0      2465789.0    2435204.0   \n",
       "111  2.465789e+13         24.0      2465789.0    2433605.0   \n",
       "115  6.616141e+12          6.0       661614.0     635250.0   \n",
       "254  2.475317e+13         24.0      2475317.0    2431203.0   \n",
       "255  2.475366e+13         24.0      2475366.0    2430114.0   \n",
       "288  2.465789e+13         24.0      2465789.0    2430601.0   \n",
       "440  6.616221e+12          6.0       661622.0     637504.0   \n",
       "484  2.465755e+13         24.0      2465755.0     120923.0   \n",
       "558  2.465730e+13         24.0      2465730.0    2433001.0   \n",
       "628  1.162661e+13         11.0      1162661.0    1132851.0   \n",
       "675  2.465789e+13         24.0      2465789.0    2430098.0   \n",
       "721  1.176562e+13         11.0      1176562.0    1133701.0   \n",
       "785  2.465789e+13         24.0      2465789.0    2430205.0   \n",
       "\n",
       "                     school_name                     district_name  \\\n",
       "42                Los Banos High                 Los Banos Unified   \n",
       "48               El Capitan High                 Merced Union High   \n",
       "49                   Merced High                 Merced Union High   \n",
       "111              Livingston High                 Merced Union High   \n",
       "115                  Pierce High              Pierce Joint Unified   \n",
       "254               Dos Palos High  Dos Palos Oro Loma Joint Unified   \n",
       "255                   Delhi High                     Delhi Unified   \n",
       "288                 Atwater High                 Merced Union High   \n",
       "440  Williams Junior/Senior High                  Williams Unified   \n",
       "484                 Pacheco High                 Los Banos Unified   \n",
       "558                Le Grand High               Le Grand Union High   \n",
       "628                 Willows High                   Willows Unified   \n",
       "675           Golden Valley High                 Merced Union High   \n",
       "721                Hamilton High                  Hamilton Unified   \n",
       "785           Buhach Colony High                 Merced Union High   \n",
       "\n",
       "    county_name  enrolled_grade_12  num_testers_grade_12  pct_erw_pass_12  \\\n",
       "42       Merced              303.0                  95.0            65.26   \n",
       "48       Merced              373.0                 142.0            64.08   \n",
       "49       Merced              400.0                 110.0            70.91   \n",
       "111      Merced              291.0                  91.0            62.64   \n",
       "115      Colusa              103.0                  21.0            52.38   \n",
       "254      Merced              159.0                  43.0            51.16   \n",
       "255      Merced              167.0                  82.0            60.98   \n",
       "288      Merced              474.0                 119.0            56.30   \n",
       "440      Colusa               78.0                  29.0            37.93   \n",
       "484      Merced              418.0                 120.0            60.00   \n",
       "558      Merced               95.0                  46.0            43.48   \n",
       "628       Glenn              115.0                  27.0            51.85   \n",
       "675      Merced              397.0                 145.0            60.00   \n",
       "721       Glenn               86.0                  25.0            52.00   \n",
       "785      Merced              412.0                 137.0            65.69   \n",
       "\n",
       "     pct_math_pass_12  enrolled_grade_11  num_testers_grade_11  \\\n",
       "42              37.89              304.0                  80.0   \n",
       "48              32.39              388.0                 106.0   \n",
       "49              42.73              417.0                  79.0   \n",
       "111             34.07              325.0                  82.0   \n",
       "115             14.29              103.0                  38.0   \n",
       "254             20.93              149.0                  30.0   \n",
       "255             17.07              169.0                  59.0   \n",
       "288             28.57              417.0                  88.0   \n",
       "440              3.45               89.0                  32.0   \n",
       "484             25.83              445.0                  37.0   \n",
       "558             23.91              123.0                  65.0   \n",
       "628             22.22              121.0                  30.0   \n",
       "675             35.17              440.0                  93.0   \n",
       "721             20.00               48.0                  24.0   \n",
       "785             37.96              508.0                 143.0   \n",
       "\n",
       "     pct_erw_pass_11  pct_math_pass_11  pct_both_pass_12  pct_both_pass_11  \n",
       "42             68.75             38.75             35.79             33.75  \n",
       "48             76.42             53.77             30.99             53.77  \n",
       "49             68.35             51.90             39.09             48.10  \n",
       "111            68.29             36.59             32.97             34.15  \n",
       "115            68.42             44.74             14.29             44.74  \n",
       "254            76.67             66.67             16.28             63.33  \n",
       "255            67.80             22.03             17.07             22.03  \n",
       "288            71.59             46.59             26.05             44.32  \n",
       "440            59.38             37.50              0.00             31.25  \n",
       "484            89.19             67.57             24.17             67.57  \n",
       "558            44.62             33.85             15.22             26.15  \n",
       "628            80.00             56.67             18.52             50.00  \n",
       "675            65.59             37.63             30.34             33.33  \n",
       "721            62.50             33.33             16.00             29.17  \n",
       "785            73.43             41.96             32.85             40.56  "
      ]
     },
     "execution_count": 40,
     "metadata": {},
     "output_type": "execute_result"
    }
   ],
   "source": [
    "df2.loc[(df2.county_name == 'Colusa') | (df2.county_name == 'Merced') | (df2.county_name == 'Glenn')].head(15)"
   ]
  },
  {
   "cell_type": "markdown",
   "metadata": {},
   "source": [
    "3 worst performing counties on the ACT (Modoc, Merced, Kings counties):"
   ]
  },
  {
   "cell_type": "code",
   "execution_count": 41,
   "metadata": {
    "ExecuteTime": {
     "end_time": "2021-06-19T23:16:22.382658Z",
     "start_time": "2021-06-19T23:16:22.352896Z"
    }
   },
   "outputs": [
    {
     "data": {
      "text/html": [
       "<div>\n",
       "<style scoped>\n",
       "    .dataframe tbody tr th:only-of-type {\n",
       "        vertical-align: middle;\n",
       "    }\n",
       "\n",
       "    .dataframe tbody tr th {\n",
       "        vertical-align: top;\n",
       "    }\n",
       "\n",
       "    .dataframe thead th {\n",
       "        text-align: right;\n",
       "    }\n",
       "</style>\n",
       "<table border=\"1\" class=\"dataframe\">\n",
       "  <thead>\n",
       "    <tr style=\"text-align: right;\">\n",
       "      <th></th>\n",
       "      <th>uid_code</th>\n",
       "      <th>county_code</th>\n",
       "      <th>district_code</th>\n",
       "      <th>school_code</th>\n",
       "      <th>school_name</th>\n",
       "      <th>district_name</th>\n",
       "      <th>county_name</th>\n",
       "      <th>num_enrolled_grade_12</th>\n",
       "      <th>num_testers_grade_12</th>\n",
       "      <th>pct_above_21_comp</th>\n",
       "    </tr>\n",
       "  </thead>\n",
       "  <tbody>\n",
       "    <tr>\n",
       "      <th>1330</th>\n",
       "      <td>2.573593e+13</td>\n",
       "      <td>25.0</td>\n",
       "      <td>2573593.0</td>\n",
       "      <td>4737250.0</td>\n",
       "      <td>Tulelake High</td>\n",
       "      <td>Tulelake Basin Joint Unified</td>\n",
       "      <td>Modoc</td>\n",
       "      <td>25.0</td>\n",
       "      <td>15.0</td>\n",
       "      <td>6.67</td>\n",
       "    </tr>\n",
       "    <tr>\n",
       "      <th>827</th>\n",
       "      <td>2.573593e+13</td>\n",
       "      <td>25.0</td>\n",
       "      <td>2573593.0</td>\n",
       "      <td>NaN</td>\n",
       "      <td>NaN</td>\n",
       "      <td>Tulelake Basin Joint Unified</td>\n",
       "      <td>Modoc</td>\n",
       "      <td>25.0</td>\n",
       "      <td>15.0</td>\n",
       "      <td>6.67</td>\n",
       "    </tr>\n",
       "    <tr>\n",
       "      <th>826</th>\n",
       "      <td>2.573585e+13</td>\n",
       "      <td>25.0</td>\n",
       "      <td>2573585.0</td>\n",
       "      <td>NaN</td>\n",
       "      <td>NaN</td>\n",
       "      <td>Modoc Joint Unified</td>\n",
       "      <td>Modoc</td>\n",
       "      <td>57.0</td>\n",
       "      <td>40.0</td>\n",
       "      <td>25.00</td>\n",
       "    </tr>\n",
       "    <tr>\n",
       "      <th>651</th>\n",
       "      <td>2.500000e+13</td>\n",
       "      <td>25.0</td>\n",
       "      <td>0.0</td>\n",
       "      <td>0.0</td>\n",
       "      <td>NaN</td>\n",
       "      <td>NaN</td>\n",
       "      <td>Modoc</td>\n",
       "      <td>87.0</td>\n",
       "      <td>55.0</td>\n",
       "      <td>20.00</td>\n",
       "    </tr>\n",
       "    <tr>\n",
       "      <th>594</th>\n",
       "      <td>2.573585e+13</td>\n",
       "      <td>25.0</td>\n",
       "      <td>2573585.0</td>\n",
       "      <td>2535409.0</td>\n",
       "      <td>Modoc High</td>\n",
       "      <td>Modoc Joint Unified</td>\n",
       "      <td>Modoc</td>\n",
       "      <td>55.0</td>\n",
       "      <td>40.0</td>\n",
       "      <td>25.00</td>\n",
       "    </tr>\n",
       "    <tr>\n",
       "      <th>569</th>\n",
       "      <td>2.465789e+13</td>\n",
       "      <td>24.0</td>\n",
       "      <td>2465789.0</td>\n",
       "      <td>2435204.0</td>\n",
       "      <td>Merced High</td>\n",
       "      <td>Merced Union High</td>\n",
       "      <td>Merced</td>\n",
       "      <td>400.0</td>\n",
       "      <td>52.0</td>\n",
       "      <td>42.31</td>\n",
       "    </tr>\n",
       "    <tr>\n",
       "      <th>1085</th>\n",
       "      <td>2.465755e+13</td>\n",
       "      <td>24.0</td>\n",
       "      <td>2465755.0</td>\n",
       "      <td>120923.0</td>\n",
       "      <td>Pacheco High</td>\n",
       "      <td>Los Banos Unified</td>\n",
       "      <td>Merced</td>\n",
       "      <td>418.0</td>\n",
       "      <td>39.0</td>\n",
       "      <td>43.59</td>\n",
       "    </tr>\n",
       "    <tr>\n",
       "      <th>825</th>\n",
       "      <td>2.475366e+13</td>\n",
       "      <td>24.0</td>\n",
       "      <td>2475366.0</td>\n",
       "      <td>NaN</td>\n",
       "      <td>NaN</td>\n",
       "      <td>Delhi Unified</td>\n",
       "      <td>Merced</td>\n",
       "      <td>167.0</td>\n",
       "      <td>68.0</td>\n",
       "      <td>22.06</td>\n",
       "    </tr>\n",
       "    <tr>\n",
       "      <th>824</th>\n",
       "      <td>2.473619e+13</td>\n",
       "      <td>24.0</td>\n",
       "      <td>2473619.0</td>\n",
       "      <td>NaN</td>\n",
       "      <td>NaN</td>\n",
       "      <td>Gustine Unified</td>\n",
       "      <td>Merced</td>\n",
       "      <td>155.0</td>\n",
       "      <td>28.0</td>\n",
       "      <td>28.57</td>\n",
       "    </tr>\n",
       "    <tr>\n",
       "      <th>823</th>\n",
       "      <td>2.465789e+13</td>\n",
       "      <td>24.0</td>\n",
       "      <td>2465789.0</td>\n",
       "      <td>NaN</td>\n",
       "      <td>NaN</td>\n",
       "      <td>Merced Union High</td>\n",
       "      <td>Merced</td>\n",
       "      <td>2577.0</td>\n",
       "      <td>379.0</td>\n",
       "      <td>30.87</td>\n",
       "    </tr>\n",
       "    <tr>\n",
       "      <th>822</th>\n",
       "      <td>2.465755e+13</td>\n",
       "      <td>24.0</td>\n",
       "      <td>2465755.0</td>\n",
       "      <td>NaN</td>\n",
       "      <td>NaN</td>\n",
       "      <td>Los Banos Unified</td>\n",
       "      <td>Merced</td>\n",
       "      <td>815.0</td>\n",
       "      <td>58.0</td>\n",
       "      <td>43.10</td>\n",
       "    </tr>\n",
       "    <tr>\n",
       "      <th>821</th>\n",
       "      <td>2.465730e+13</td>\n",
       "      <td>24.0</td>\n",
       "      <td>2465730.0</td>\n",
       "      <td>NaN</td>\n",
       "      <td>NaN</td>\n",
       "      <td>Le Grand Union High</td>\n",
       "      <td>Merced</td>\n",
       "      <td>102.0</td>\n",
       "      <td>33.0</td>\n",
       "      <td>12.12</td>\n",
       "    </tr>\n",
       "    <tr>\n",
       "      <th>820</th>\n",
       "      <td>2.465698e+13</td>\n",
       "      <td>24.0</td>\n",
       "      <td>2465698.0</td>\n",
       "      <td>NaN</td>\n",
       "      <td>NaN</td>\n",
       "      <td>Hilmar Unified</td>\n",
       "      <td>Merced</td>\n",
       "      <td>166.0</td>\n",
       "      <td>26.0</td>\n",
       "      <td>42.31</td>\n",
       "    </tr>\n",
       "    <tr>\n",
       "      <th>673</th>\n",
       "      <td>2.400000e+13</td>\n",
       "      <td>24.0</td>\n",
       "      <td>0.0</td>\n",
       "      <td>0.0</td>\n",
       "      <td>NaN</td>\n",
       "      <td>NaN</td>\n",
       "      <td>Merced</td>\n",
       "      <td>4559.0</td>\n",
       "      <td>594.0</td>\n",
       "      <td>30.30</td>\n",
       "    </tr>\n",
       "    <tr>\n",
       "      <th>84</th>\n",
       "      <td>2.465789e+13</td>\n",
       "      <td>24.0</td>\n",
       "      <td>2465789.0</td>\n",
       "      <td>2430601.0</td>\n",
       "      <td>Atwater High</td>\n",
       "      <td>Merced Union High</td>\n",
       "      <td>Merced</td>\n",
       "      <td>474.0</td>\n",
       "      <td>71.0</td>\n",
       "      <td>22.54</td>\n",
       "    </tr>\n",
       "  </tbody>\n",
       "</table>\n",
       "</div>"
      ],
      "text/plain": [
       "          uid_code  county_code  district_code  school_code    school_name  \\\n",
       "1330  2.573593e+13         25.0      2573593.0    4737250.0  Tulelake High   \n",
       "827   2.573593e+13         25.0      2573593.0          NaN            NaN   \n",
       "826   2.573585e+13         25.0      2573585.0          NaN            NaN   \n",
       "651   2.500000e+13         25.0            0.0          0.0            NaN   \n",
       "594   2.573585e+13         25.0      2573585.0    2535409.0     Modoc High   \n",
       "569   2.465789e+13         24.0      2465789.0    2435204.0    Merced High   \n",
       "1085  2.465755e+13         24.0      2465755.0     120923.0   Pacheco High   \n",
       "825   2.475366e+13         24.0      2475366.0          NaN            NaN   \n",
       "824   2.473619e+13         24.0      2473619.0          NaN            NaN   \n",
       "823   2.465789e+13         24.0      2465789.0          NaN            NaN   \n",
       "822   2.465755e+13         24.0      2465755.0          NaN            NaN   \n",
       "821   2.465730e+13         24.0      2465730.0          NaN            NaN   \n",
       "820   2.465698e+13         24.0      2465698.0          NaN            NaN   \n",
       "673   2.400000e+13         24.0            0.0          0.0            NaN   \n",
       "84    2.465789e+13         24.0      2465789.0    2430601.0   Atwater High   \n",
       "\n",
       "                     district_name county_name  num_enrolled_grade_12  \\\n",
       "1330  Tulelake Basin Joint Unified       Modoc                   25.0   \n",
       "827   Tulelake Basin Joint Unified       Modoc                   25.0   \n",
       "826            Modoc Joint Unified       Modoc                   57.0   \n",
       "651                            NaN       Modoc                   87.0   \n",
       "594            Modoc Joint Unified       Modoc                   55.0   \n",
       "569              Merced Union High      Merced                  400.0   \n",
       "1085             Los Banos Unified      Merced                  418.0   \n",
       "825                  Delhi Unified      Merced                  167.0   \n",
       "824                Gustine Unified      Merced                  155.0   \n",
       "823              Merced Union High      Merced                 2577.0   \n",
       "822              Los Banos Unified      Merced                  815.0   \n",
       "821            Le Grand Union High      Merced                  102.0   \n",
       "820                 Hilmar Unified      Merced                  166.0   \n",
       "673                            NaN      Merced                 4559.0   \n",
       "84               Merced Union High      Merced                  474.0   \n",
       "\n",
       "      num_testers_grade_12  pct_above_21_comp  \n",
       "1330                  15.0               6.67  \n",
       "827                   15.0               6.67  \n",
       "826                   40.0              25.00  \n",
       "651                   55.0              20.00  \n",
       "594                   40.0              25.00  \n",
       "569                   52.0              42.31  \n",
       "1085                  39.0              43.59  \n",
       "825                   68.0              22.06  \n",
       "824                   28.0              28.57  \n",
       "823                  379.0              30.87  \n",
       "822                   58.0              43.10  \n",
       "821                   33.0              12.12  \n",
       "820                   26.0              42.31  \n",
       "673                  594.0              30.30  \n",
       "84                    71.0              22.54  "
      ]
     },
     "execution_count": 41,
     "metadata": {},
     "output_type": "execute_result"
    }
   ],
   "source": [
    "df.loc[(df.county_name == 'Modoc') | (df.county_name == 'Merced') | (df.county_name == 'Kings')].sort_values(by='county_name', ascending=False).head(15)"
   ]
  },
  {
   "cell_type": "markdown",
   "metadata": {},
   "source": [
    "3 worst districts on the ACT (Golden Plains Unified, Reef-Sunset Unified, Tulelake Basin Joint Unified school districts):"
   ]
  },
  {
   "cell_type": "code",
   "execution_count": 42,
   "metadata": {
    "ExecuteTime": {
     "end_time": "2021-06-19T23:16:22.398067Z",
     "start_time": "2021-06-19T23:16:22.383650Z"
    }
   },
   "outputs": [
    {
     "data": {
      "text/html": [
       "<div>\n",
       "<style scoped>\n",
       "    .dataframe tbody tr th:only-of-type {\n",
       "        vertical-align: middle;\n",
       "    }\n",
       "\n",
       "    .dataframe tbody tr th {\n",
       "        vertical-align: top;\n",
       "    }\n",
       "\n",
       "    .dataframe thead th {\n",
       "        text-align: right;\n",
       "    }\n",
       "</style>\n",
       "<table border=\"1\" class=\"dataframe\">\n",
       "  <thead>\n",
       "    <tr style=\"text-align: right;\">\n",
       "      <th></th>\n",
       "      <th>uid_code</th>\n",
       "      <th>county_code</th>\n",
       "      <th>district_code</th>\n",
       "      <th>school_code</th>\n",
       "      <th>school_name</th>\n",
       "      <th>district_name</th>\n",
       "      <th>county_name</th>\n",
       "      <th>num_enrolled_grade_12</th>\n",
       "      <th>num_testers_grade_12</th>\n",
       "      <th>pct_above_21_comp</th>\n",
       "    </tr>\n",
       "  </thead>\n",
       "  <tbody>\n",
       "    <tr>\n",
       "      <th>827</th>\n",
       "      <td>2.573593e+13</td>\n",
       "      <td>25.0</td>\n",
       "      <td>2573593.0</td>\n",
       "      <td>NaN</td>\n",
       "      <td>NaN</td>\n",
       "      <td>Tulelake Basin Joint Unified</td>\n",
       "      <td>Modoc</td>\n",
       "      <td>25.0</td>\n",
       "      <td>15.0</td>\n",
       "      <td>6.67</td>\n",
       "    </tr>\n",
       "    <tr>\n",
       "      <th>1330</th>\n",
       "      <td>2.573593e+13</td>\n",
       "      <td>25.0</td>\n",
       "      <td>2573593.0</td>\n",
       "      <td>4737250.0</td>\n",
       "      <td>Tulelake High</td>\n",
       "      <td>Tulelake Basin Joint Unified</td>\n",
       "      <td>Modoc</td>\n",
       "      <td>25.0</td>\n",
       "      <td>15.0</td>\n",
       "      <td>6.67</td>\n",
       "    </tr>\n",
       "    <tr>\n",
       "      <th>87</th>\n",
       "      <td>1.673932e+13</td>\n",
       "      <td>16.0</td>\n",
       "      <td>1673932.0</td>\n",
       "      <td>1630953.0</td>\n",
       "      <td>Avenal High</td>\n",
       "      <td>Reef-Sunset Unified</td>\n",
       "      <td>Kings</td>\n",
       "      <td>149.0</td>\n",
       "      <td>112.0</td>\n",
       "      <td>3.57</td>\n",
       "    </tr>\n",
       "    <tr>\n",
       "      <th>745</th>\n",
       "      <td>1.673932e+13</td>\n",
       "      <td>16.0</td>\n",
       "      <td>1673932.0</td>\n",
       "      <td>NaN</td>\n",
       "      <td>NaN</td>\n",
       "      <td>Reef-Sunset Unified</td>\n",
       "      <td>Kings</td>\n",
       "      <td>165.0</td>\n",
       "      <td>112.0</td>\n",
       "      <td>3.57</td>\n",
       "    </tr>\n",
       "    <tr>\n",
       "      <th>719</th>\n",
       "      <td>1.075234e+13</td>\n",
       "      <td>10.0</td>\n",
       "      <td>1075234.0</td>\n",
       "      <td>NaN</td>\n",
       "      <td>NaN</td>\n",
       "      <td>Golden Plains Unified</td>\n",
       "      <td>Fresno</td>\n",
       "      <td>125.0</td>\n",
       "      <td>19.0</td>\n",
       "      <td>0.00</td>\n",
       "    </tr>\n",
       "    <tr>\n",
       "      <th>1325</th>\n",
       "      <td>1.075234e+13</td>\n",
       "      <td>10.0</td>\n",
       "      <td>1075234.0</td>\n",
       "      <td>1037456.0</td>\n",
       "      <td>Tranquillity High</td>\n",
       "      <td>Golden Plains Unified</td>\n",
       "      <td>Fresno</td>\n",
       "      <td>120.0</td>\n",
       "      <td>19.0</td>\n",
       "      <td>0.00</td>\n",
       "    </tr>\n",
       "  </tbody>\n",
       "</table>\n",
       "</div>"
      ],
      "text/plain": [
       "          uid_code  county_code  district_code  school_code  \\\n",
       "827   2.573593e+13         25.0      2573593.0          NaN   \n",
       "1330  2.573593e+13         25.0      2573593.0    4737250.0   \n",
       "87    1.673932e+13         16.0      1673932.0    1630953.0   \n",
       "745   1.673932e+13         16.0      1673932.0          NaN   \n",
       "719   1.075234e+13         10.0      1075234.0          NaN   \n",
       "1325  1.075234e+13         10.0      1075234.0    1037456.0   \n",
       "\n",
       "            school_name                 district_name county_name  \\\n",
       "827                 NaN  Tulelake Basin Joint Unified       Modoc   \n",
       "1330      Tulelake High  Tulelake Basin Joint Unified       Modoc   \n",
       "87          Avenal High           Reef-Sunset Unified       Kings   \n",
       "745                 NaN           Reef-Sunset Unified       Kings   \n",
       "719                 NaN         Golden Plains Unified      Fresno   \n",
       "1325  Tranquillity High         Golden Plains Unified      Fresno   \n",
       "\n",
       "      num_enrolled_grade_12  num_testers_grade_12  pct_above_21_comp  \n",
       "827                    25.0                  15.0               6.67  \n",
       "1330                   25.0                  15.0               6.67  \n",
       "87                    149.0                 112.0               3.57  \n",
       "745                   165.0                 112.0               3.57  \n",
       "719                   125.0                  19.0               0.00  \n",
       "1325                  120.0                  19.0               0.00  "
      ]
     },
     "execution_count": 42,
     "metadata": {},
     "output_type": "execute_result"
    }
   ],
   "source": [
    "df.loc[(df.district_name == 'Golden Plains Unified') | (df.district_name == 'Reef-Sunset Unified') | (df.district_name == 'Tulelake Basin Joint Unified')].sort_values(by='district_name', ascending=False)"
   ]
  },
  {
   "cell_type": "markdown",
   "metadata": {},
   "source": [
    "3 worst districts on the SAT (Golden Plains Unified, Williams Unified, Firebaugh-Las Deltas Unified school districts):"
   ]
  },
  {
   "cell_type": "code",
   "execution_count": 43,
   "metadata": {
    "ExecuteTime": {
     "end_time": "2021-06-19T23:16:22.428811Z",
     "start_time": "2021-06-19T23:16:22.399024Z"
    }
   },
   "outputs": [
    {
     "data": {
      "text/html": [
       "<div>\n",
       "<style scoped>\n",
       "    .dataframe tbody tr th:only-of-type {\n",
       "        vertical-align: middle;\n",
       "    }\n",
       "\n",
       "    .dataframe tbody tr th {\n",
       "        vertical-align: top;\n",
       "    }\n",
       "\n",
       "    .dataframe thead th {\n",
       "        text-align: right;\n",
       "    }\n",
       "</style>\n",
       "<table border=\"1\" class=\"dataframe\">\n",
       "  <thead>\n",
       "    <tr style=\"text-align: right;\">\n",
       "      <th></th>\n",
       "      <th>uid_code</th>\n",
       "      <th>county_code</th>\n",
       "      <th>district_code</th>\n",
       "      <th>school_code</th>\n",
       "      <th>school_name</th>\n",
       "      <th>district_name</th>\n",
       "      <th>county_name</th>\n",
       "      <th>enrolled_grade_12</th>\n",
       "      <th>num_testers_grade_12</th>\n",
       "      <th>pct_erw_pass_12</th>\n",
       "      <th>pct_math_pass_12</th>\n",
       "      <th>enrolled_grade_11</th>\n",
       "      <th>num_testers_grade_11</th>\n",
       "      <th>pct_erw_pass_11</th>\n",
       "      <th>pct_math_pass_11</th>\n",
       "      <th>pct_both_pass_12</th>\n",
       "      <th>pct_both_pass_11</th>\n",
       "    </tr>\n",
       "  </thead>\n",
       "  <tbody>\n",
       "    <tr>\n",
       "      <th>440</th>\n",
       "      <td>6.616221e+12</td>\n",
       "      <td>6.0</td>\n",
       "      <td>661622.0</td>\n",
       "      <td>637504.0</td>\n",
       "      <td>Williams Junior/Senior High</td>\n",
       "      <td>Williams Unified</td>\n",
       "      <td>Colusa</td>\n",
       "      <td>78.0</td>\n",
       "      <td>29.0</td>\n",
       "      <td>37.93</td>\n",
       "      <td>3.45</td>\n",
       "      <td>89.0</td>\n",
       "      <td>32.0</td>\n",
       "      <td>59.38</td>\n",
       "      <td>37.50</td>\n",
       "      <td>0.00</td>\n",
       "      <td>31.25</td>\n",
       "    </tr>\n",
       "    <tr>\n",
       "      <th>1475</th>\n",
       "      <td>6.616220e+12</td>\n",
       "      <td>6.0</td>\n",
       "      <td>661622.0</td>\n",
       "      <td>0.0</td>\n",
       "      <td>NaN</td>\n",
       "      <td>Williams Unified</td>\n",
       "      <td>Colusa</td>\n",
       "      <td>87.0</td>\n",
       "      <td>29.0</td>\n",
       "      <td>37.93</td>\n",
       "      <td>3.45</td>\n",
       "      <td>98.0</td>\n",
       "      <td>32.0</td>\n",
       "      <td>59.38</td>\n",
       "      <td>37.50</td>\n",
       "      <td>0.00</td>\n",
       "      <td>31.25</td>\n",
       "    </tr>\n",
       "    <tr>\n",
       "      <th>34</th>\n",
       "      <td>1.075234e+13</td>\n",
       "      <td>10.0</td>\n",
       "      <td>1075234.0</td>\n",
       "      <td>1037456.0</td>\n",
       "      <td>Tranquillity High</td>\n",
       "      <td>Golden Plains Unified</td>\n",
       "      <td>Fresno</td>\n",
       "      <td>120.0</td>\n",
       "      <td>27.0</td>\n",
       "      <td>37.04</td>\n",
       "      <td>0.00</td>\n",
       "      <td>105.0</td>\n",
       "      <td>104.0</td>\n",
       "      <td>18.27</td>\n",
       "      <td>0.96</td>\n",
       "      <td>0.00</td>\n",
       "      <td>0.96</td>\n",
       "    </tr>\n",
       "    <tr>\n",
       "      <th>1296</th>\n",
       "      <td>1.075234e+13</td>\n",
       "      <td>10.0</td>\n",
       "      <td>1075234.0</td>\n",
       "      <td>0.0</td>\n",
       "      <td>NaN</td>\n",
       "      <td>Golden Plains Unified</td>\n",
       "      <td>Fresno</td>\n",
       "      <td>125.0</td>\n",
       "      <td>27.0</td>\n",
       "      <td>37.04</td>\n",
       "      <td>0.00</td>\n",
       "      <td>109.0</td>\n",
       "      <td>104.0</td>\n",
       "      <td>18.27</td>\n",
       "      <td>0.96</td>\n",
       "      <td>0.00</td>\n",
       "      <td>0.96</td>\n",
       "    </tr>\n",
       "    <tr>\n",
       "      <th>360</th>\n",
       "      <td>1.073809e+13</td>\n",
       "      <td>10.0</td>\n",
       "      <td>1073809.0</td>\n",
       "      <td>1030121.0</td>\n",
       "      <td>Firebaugh High</td>\n",
       "      <td>Firebaugh-Las Deltas Unified</td>\n",
       "      <td>Fresno</td>\n",
       "      <td>167.0</td>\n",
       "      <td>84.0</td>\n",
       "      <td>47.62</td>\n",
       "      <td>7.14</td>\n",
       "      <td>155.0</td>\n",
       "      <td>53.0</td>\n",
       "      <td>64.15</td>\n",
       "      <td>20.75</td>\n",
       "      <td>5.95</td>\n",
       "      <td>18.87</td>\n",
       "    </tr>\n",
       "    <tr>\n",
       "      <th>1529</th>\n",
       "      <td>1.073809e+13</td>\n",
       "      <td>10.0</td>\n",
       "      <td>1073809.0</td>\n",
       "      <td>0.0</td>\n",
       "      <td>NaN</td>\n",
       "      <td>Firebaugh-Las Deltas Unified</td>\n",
       "      <td>Fresno</td>\n",
       "      <td>170.0</td>\n",
       "      <td>84.0</td>\n",
       "      <td>47.62</td>\n",
       "      <td>7.14</td>\n",
       "      <td>159.0</td>\n",
       "      <td>53.0</td>\n",
       "      <td>64.15</td>\n",
       "      <td>20.75</td>\n",
       "      <td>5.95</td>\n",
       "      <td>18.87</td>\n",
       "    </tr>\n",
       "  </tbody>\n",
       "</table>\n",
       "</div>"
      ],
      "text/plain": [
       "          uid_code  county_code  district_code  school_code  \\\n",
       "440   6.616221e+12          6.0       661622.0     637504.0   \n",
       "1475  6.616220e+12          6.0       661622.0          0.0   \n",
       "34    1.075234e+13         10.0      1075234.0    1037456.0   \n",
       "1296  1.075234e+13         10.0      1075234.0          0.0   \n",
       "360   1.073809e+13         10.0      1073809.0    1030121.0   \n",
       "1529  1.073809e+13         10.0      1073809.0          0.0   \n",
       "\n",
       "                      school_name                 district_name county_name  \\\n",
       "440   Williams Junior/Senior High              Williams Unified      Colusa   \n",
       "1475                          NaN              Williams Unified      Colusa   \n",
       "34              Tranquillity High         Golden Plains Unified      Fresno   \n",
       "1296                          NaN         Golden Plains Unified      Fresno   \n",
       "360                Firebaugh High  Firebaugh-Las Deltas Unified      Fresno   \n",
       "1529                          NaN  Firebaugh-Las Deltas Unified      Fresno   \n",
       "\n",
       "      enrolled_grade_12  num_testers_grade_12  pct_erw_pass_12  \\\n",
       "440                78.0                  29.0            37.93   \n",
       "1475               87.0                  29.0            37.93   \n",
       "34                120.0                  27.0            37.04   \n",
       "1296              125.0                  27.0            37.04   \n",
       "360               167.0                  84.0            47.62   \n",
       "1529              170.0                  84.0            47.62   \n",
       "\n",
       "      pct_math_pass_12  enrolled_grade_11  num_testers_grade_11  \\\n",
       "440               3.45               89.0                  32.0   \n",
       "1475              3.45               98.0                  32.0   \n",
       "34                0.00              105.0                 104.0   \n",
       "1296              0.00              109.0                 104.0   \n",
       "360               7.14              155.0                  53.0   \n",
       "1529              7.14              159.0                  53.0   \n",
       "\n",
       "      pct_erw_pass_11  pct_math_pass_11  pct_both_pass_12  pct_both_pass_11  \n",
       "440             59.38             37.50              0.00             31.25  \n",
       "1475            59.38             37.50              0.00             31.25  \n",
       "34              18.27              0.96              0.00              0.96  \n",
       "1296            18.27              0.96              0.00              0.96  \n",
       "360             64.15             20.75              5.95             18.87  \n",
       "1529            64.15             20.75              5.95             18.87  "
      ]
     },
     "execution_count": 43,
     "metadata": {},
     "output_type": "execute_result"
    }
   ],
   "source": [
    "df2.loc[(df2.district_name == 'Golden Plains Unified') | (df2.district_name == 'Williams Unified') | (df2.district_name == 'Firebaugh-Las Deltas Unified')].sort_values(by='district_name', ascending=False)"
   ]
  },
  {
   "cell_type": "markdown",
   "metadata": {},
   "source": [
    "This is where I imported the income data from wikipedia"
   ]
  },
  {
   "cell_type": "code",
   "execution_count": 44,
   "metadata": {
    "ExecuteTime": {
     "end_time": "2021-06-19T23:16:23.399152Z",
     "start_time": "2021-06-19T23:16:22.429776Z"
    }
   },
   "outputs": [],
   "source": [
    "income = pd.read_excel('../data/ca_county_income.xlsx')\n"
   ]
  },
  {
   "cell_type": "code",
   "execution_count": 45,
   "metadata": {
    "ExecuteTime": {
     "end_time": "2021-06-19T23:16:23.414554Z",
     "start_time": "2021-06-19T23:16:23.400174Z"
    },
    "scrolled": true
   },
   "outputs": [
    {
     "data": {
      "text/html": [
       "<div>\n",
       "<style scoped>\n",
       "    .dataframe tbody tr th:only-of-type {\n",
       "        vertical-align: middle;\n",
       "    }\n",
       "\n",
       "    .dataframe tbody tr th {\n",
       "        vertical-align: top;\n",
       "    }\n",
       "\n",
       "    .dataframe thead th {\n",
       "        text-align: right;\n",
       "    }\n",
       "</style>\n",
       "<table border=\"1\" class=\"dataframe\">\n",
       "  <thead>\n",
       "    <tr style=\"text-align: right;\">\n",
       "      <th></th>\n",
       "      <th>county</th>\n",
       "      <th>population</th>\n",
       "      <th>population_density</th>\n",
       "      <th>median_household_income</th>\n",
       "    </tr>\n",
       "  </thead>\n",
       "  <tbody>\n",
       "    <tr>\n",
       "      <th>0</th>\n",
       "      <td>NaN</td>\n",
       "      <td>NaN</td>\n",
       "      <td>NaN</td>\n",
       "      <td>NaN</td>\n",
       "    </tr>\n",
       "    <tr>\n",
       "      <th>1</th>\n",
       "      <td>Alameda</td>\n",
       "      <td>1559308.0</td>\n",
       "      <td>2109.8</td>\n",
       "      <td>73775.0</td>\n",
       "    </tr>\n",
       "    <tr>\n",
       "      <th>2</th>\n",
       "      <td>Alpine</td>\n",
       "      <td>1202.0</td>\n",
       "      <td>1.6</td>\n",
       "      <td>61343.0</td>\n",
       "    </tr>\n",
       "    <tr>\n",
       "      <th>3</th>\n",
       "      <td>Amador</td>\n",
       "      <td>37159.0</td>\n",
       "      <td>62.5</td>\n",
       "      <td>52964.0</td>\n",
       "    </tr>\n",
       "    <tr>\n",
       "      <th>4</th>\n",
       "      <td>Butte</td>\n",
       "      <td>221578.0</td>\n",
       "      <td>135.4</td>\n",
       "      <td>43165.0</td>\n",
       "    </tr>\n",
       "  </tbody>\n",
       "</table>\n",
       "</div>"
      ],
      "text/plain": [
       "    county  population  population_density  median_household_income\n",
       "0      NaN         NaN                 NaN                      NaN\n",
       "1  Alameda   1559308.0              2109.8                  73775.0\n",
       "2   Alpine      1202.0                 1.6                  61343.0\n",
       "3   Amador     37159.0                62.5                  52964.0\n",
       "4    Butte    221578.0               135.4                  43165.0"
      ]
     },
     "execution_count": 45,
     "metadata": {},
     "output_type": "execute_result"
    }
   ],
   "source": [
    "income.drop(columns=['Unnamed: 4', 'Unnamed: 5'], inplace=True)\n",
    "income.head()"
   ]
  },
  {
   "cell_type": "code",
   "execution_count": 46,
   "metadata": {
    "ExecuteTime": {
     "end_time": "2021-06-19T23:16:23.429906Z",
     "start_time": "2021-06-19T23:16:23.415522Z"
    }
   },
   "outputs": [
    {
     "data": {
      "text/html": [
       "<div>\n",
       "<style scoped>\n",
       "    .dataframe tbody tr th:only-of-type {\n",
       "        vertical-align: middle;\n",
       "    }\n",
       "\n",
       "    .dataframe tbody tr th {\n",
       "        vertical-align: top;\n",
       "    }\n",
       "\n",
       "    .dataframe thead th {\n",
       "        text-align: right;\n",
       "    }\n",
       "</style>\n",
       "<table border=\"1\" class=\"dataframe\">\n",
       "  <thead>\n",
       "    <tr style=\"text-align: right;\">\n",
       "      <th></th>\n",
       "      <th>county</th>\n",
       "      <th>population</th>\n",
       "      <th>population_density</th>\n",
       "      <th>median_household_income</th>\n",
       "    </tr>\n",
       "  </thead>\n",
       "  <tbody>\n",
       "    <tr>\n",
       "      <th>1</th>\n",
       "      <td>Alameda</td>\n",
       "      <td>1559308.0</td>\n",
       "      <td>2109.8</td>\n",
       "      <td>73775.0</td>\n",
       "    </tr>\n",
       "    <tr>\n",
       "      <th>2</th>\n",
       "      <td>Alpine</td>\n",
       "      <td>1202.0</td>\n",
       "      <td>1.6</td>\n",
       "      <td>61343.0</td>\n",
       "    </tr>\n",
       "    <tr>\n",
       "      <th>3</th>\n",
       "      <td>Amador</td>\n",
       "      <td>37159.0</td>\n",
       "      <td>62.5</td>\n",
       "      <td>52964.0</td>\n",
       "    </tr>\n",
       "    <tr>\n",
       "      <th>4</th>\n",
       "      <td>Butte</td>\n",
       "      <td>221578.0</td>\n",
       "      <td>135.4</td>\n",
       "      <td>43165.0</td>\n",
       "    </tr>\n",
       "    <tr>\n",
       "      <th>5</th>\n",
       "      <td>Calaveras</td>\n",
       "      <td>44921.0</td>\n",
       "      <td>44.0</td>\n",
       "      <td>54936.0</td>\n",
       "    </tr>\n",
       "  </tbody>\n",
       "</table>\n",
       "</div>"
      ],
      "text/plain": [
       "      county  population  population_density  median_household_income\n",
       "1    Alameda   1559308.0              2109.8                  73775.0\n",
       "2     Alpine      1202.0                 1.6                  61343.0\n",
       "3     Amador     37159.0                62.5                  52964.0\n",
       "4      Butte    221578.0               135.4                  43165.0\n",
       "5  Calaveras     44921.0                44.0                  54936.0"
      ]
     },
     "execution_count": 46,
     "metadata": {},
     "output_type": "execute_result"
    }
   ],
   "source": [
    "income.dropna(inplace=True)\n",
    "income.head()"
   ]
  },
  {
   "cell_type": "code",
   "execution_count": 47,
   "metadata": {
    "ExecuteTime": {
     "end_time": "2021-06-19T23:16:23.445282Z",
     "start_time": "2021-06-19T23:16:23.430898Z"
    }
   },
   "outputs": [
    {
     "data": {
      "text/html": [
       "<div>\n",
       "<style scoped>\n",
       "    .dataframe tbody tr th:only-of-type {\n",
       "        vertical-align: middle;\n",
       "    }\n",
       "\n",
       "    .dataframe tbody tr th {\n",
       "        vertical-align: top;\n",
       "    }\n",
       "\n",
       "    .dataframe thead th {\n",
       "        text-align: right;\n",
       "    }\n",
       "</style>\n",
       "<table border=\"1\" class=\"dataframe\">\n",
       "  <thead>\n",
       "    <tr style=\"text-align: right;\">\n",
       "      <th></th>\n",
       "      <th>county_name</th>\n",
       "      <th>population</th>\n",
       "      <th>population_density</th>\n",
       "      <th>median_household_income</th>\n",
       "    </tr>\n",
       "  </thead>\n",
       "  <tbody>\n",
       "    <tr>\n",
       "      <th>1</th>\n",
       "      <td>Alameda</td>\n",
       "      <td>1559308.0</td>\n",
       "      <td>2109.8</td>\n",
       "      <td>73775.0</td>\n",
       "    </tr>\n",
       "    <tr>\n",
       "      <th>2</th>\n",
       "      <td>Alpine</td>\n",
       "      <td>1202.0</td>\n",
       "      <td>1.6</td>\n",
       "      <td>61343.0</td>\n",
       "    </tr>\n",
       "    <tr>\n",
       "      <th>3</th>\n",
       "      <td>Amador</td>\n",
       "      <td>37159.0</td>\n",
       "      <td>62.5</td>\n",
       "      <td>52964.0</td>\n",
       "    </tr>\n",
       "    <tr>\n",
       "      <th>4</th>\n",
       "      <td>Butte</td>\n",
       "      <td>221578.0</td>\n",
       "      <td>135.4</td>\n",
       "      <td>43165.0</td>\n",
       "    </tr>\n",
       "    <tr>\n",
       "      <th>5</th>\n",
       "      <td>Calaveras</td>\n",
       "      <td>44921.0</td>\n",
       "      <td>44.0</td>\n",
       "      <td>54936.0</td>\n",
       "    </tr>\n",
       "  </tbody>\n",
       "</table>\n",
       "</div>"
      ],
      "text/plain": [
       "  county_name  population  population_density  median_household_income\n",
       "1     Alameda   1559308.0              2109.8                  73775.0\n",
       "2      Alpine      1202.0                 1.6                  61343.0\n",
       "3      Amador     37159.0                62.5                  52964.0\n",
       "4       Butte    221578.0               135.4                  43165.0\n",
       "5   Calaveras     44921.0                44.0                  54936.0"
      ]
     },
     "execution_count": 47,
     "metadata": {},
     "output_type": "execute_result"
    }
   ],
   "source": [
    "income.rename(columns={'county': 'county_name'}, inplace=True)\n",
    "# I renamed the county column to match the county_name from my other dataframes to merge easier\n",
    "income.head()"
   ]
  },
  {
   "cell_type": "code",
   "execution_count": 48,
   "metadata": {
    "ExecuteTime": {
     "end_time": "2021-06-19T23:16:23.460682Z",
     "start_time": "2021-06-19T23:16:23.446772Z"
    }
   },
   "outputs": [],
   "source": [
    "df = pd.merge(df, income, on='county_name')\n"
   ]
  },
  {
   "cell_type": "code",
   "execution_count": 49,
   "metadata": {
    "ExecuteTime": {
     "end_time": "2021-06-19T23:16:23.491435Z",
     "start_time": "2021-06-19T23:16:23.462147Z"
    }
   },
   "outputs": [
    {
     "data": {
      "text/html": [
       "<div>\n",
       "<style scoped>\n",
       "    .dataframe tbody tr th:only-of-type {\n",
       "        vertical-align: middle;\n",
       "    }\n",
       "\n",
       "    .dataframe tbody tr th {\n",
       "        vertical-align: top;\n",
       "    }\n",
       "\n",
       "    .dataframe thead th {\n",
       "        text-align: right;\n",
       "    }\n",
       "</style>\n",
       "<table border=\"1\" class=\"dataframe\">\n",
       "  <thead>\n",
       "    <tr style=\"text-align: right;\">\n",
       "      <th></th>\n",
       "      <th>uid_code</th>\n",
       "      <th>county_code</th>\n",
       "      <th>district_code</th>\n",
       "      <th>school_code</th>\n",
       "      <th>school_name</th>\n",
       "      <th>district_name</th>\n",
       "      <th>county_name</th>\n",
       "      <th>enrolled_grade_12</th>\n",
       "      <th>num_testers_grade_12</th>\n",
       "      <th>pct_erw_pass_12</th>\n",
       "      <th>pct_math_pass_12</th>\n",
       "      <th>enrolled_grade_11</th>\n",
       "      <th>num_testers_grade_11</th>\n",
       "      <th>pct_erw_pass_11</th>\n",
       "      <th>pct_math_pass_11</th>\n",
       "      <th>pct_both_pass_12</th>\n",
       "      <th>pct_both_pass_11</th>\n",
       "      <th>population</th>\n",
       "      <th>population_density</th>\n",
       "      <th>median_household_income</th>\n",
       "    </tr>\n",
       "  </thead>\n",
       "  <tbody>\n",
       "    <tr>\n",
       "      <th>0</th>\n",
       "      <td>1.964733e+13</td>\n",
       "      <td>19.0</td>\n",
       "      <td>1964733.0</td>\n",
       "      <td>1930924.0</td>\n",
       "      <td>Belmont Senior High</td>\n",
       "      <td>Los Angeles Unified</td>\n",
       "      <td>Los Angeles</td>\n",
       "      <td>206.0</td>\n",
       "      <td>102.0</td>\n",
       "      <td>30.39</td>\n",
       "      <td>13.73</td>\n",
       "      <td>219.0</td>\n",
       "      <td>174.0</td>\n",
       "      <td>24.14</td>\n",
       "      <td>6.90</td>\n",
       "      <td>13.73</td>\n",
       "      <td>6.32</td>\n",
       "      <td>9974203.0</td>\n",
       "      <td>2457.9</td>\n",
       "      <td>55870.0</td>\n",
       "    </tr>\n",
       "    <tr>\n",
       "      <th>1</th>\n",
       "      <td>1.964733e+13</td>\n",
       "      <td>19.0</td>\n",
       "      <td>1964733.0</td>\n",
       "      <td>1931476.0</td>\n",
       "      <td>Canoga Park Senior High</td>\n",
       "      <td>Los Angeles Unified</td>\n",
       "      <td>Los Angeles</td>\n",
       "      <td>227.0</td>\n",
       "      <td>113.0</td>\n",
       "      <td>47.79</td>\n",
       "      <td>15.93</td>\n",
       "      <td>333.0</td>\n",
       "      <td>275.0</td>\n",
       "      <td>35.27</td>\n",
       "      <td>13.45</td>\n",
       "      <td>15.93</td>\n",
       "      <td>12.73</td>\n",
       "      <td>9974203.0</td>\n",
       "      <td>2457.9</td>\n",
       "      <td>55870.0</td>\n",
       "    </tr>\n",
       "    <tr>\n",
       "      <th>2</th>\n",
       "      <td>1.964734e+13</td>\n",
       "      <td>19.0</td>\n",
       "      <td>1964733.0</td>\n",
       "      <td>6061451.0</td>\n",
       "      <td>Foshay Learning Center</td>\n",
       "      <td>Los Angeles Unified</td>\n",
       "      <td>Los Angeles</td>\n",
       "      <td>166.0</td>\n",
       "      <td>106.0</td>\n",
       "      <td>64.15</td>\n",
       "      <td>33.96</td>\n",
       "      <td>187.0</td>\n",
       "      <td>183.0</td>\n",
       "      <td>49.73</td>\n",
       "      <td>25.68</td>\n",
       "      <td>33.96</td>\n",
       "      <td>24.04</td>\n",
       "      <td>9974203.0</td>\n",
       "      <td>2457.9</td>\n",
       "      <td>55870.0</td>\n",
       "    </tr>\n",
       "    <tr>\n",
       "      <th>3</th>\n",
       "      <td>1.964733e+13</td>\n",
       "      <td>19.0</td>\n",
       "      <td>1964733.0</td>\n",
       "      <td>119685.0</td>\n",
       "      <td>New Open World Academy K-12</td>\n",
       "      <td>Los Angeles Unified</td>\n",
       "      <td>Los Angeles</td>\n",
       "      <td>85.0</td>\n",
       "      <td>68.0</td>\n",
       "      <td>25.00</td>\n",
       "      <td>8.82</td>\n",
       "      <td>79.0</td>\n",
       "      <td>79.0</td>\n",
       "      <td>27.85</td>\n",
       "      <td>12.66</td>\n",
       "      <td>8.82</td>\n",
       "      <td>7.59</td>\n",
       "      <td>9974203.0</td>\n",
       "      <td>2457.9</td>\n",
       "      <td>55870.0</td>\n",
       "    </tr>\n",
       "    <tr>\n",
       "      <th>4</th>\n",
       "      <td>1.964634e+13</td>\n",
       "      <td>19.0</td>\n",
       "      <td>1964634.0</td>\n",
       "      <td>1996586.0</td>\n",
       "      <td>Animo Inglewood Charter High</td>\n",
       "      <td>Inglewood Unified</td>\n",
       "      <td>Los Angeles</td>\n",
       "      <td>145.0</td>\n",
       "      <td>68.0</td>\n",
       "      <td>66.18</td>\n",
       "      <td>44.12</td>\n",
       "      <td>163.0</td>\n",
       "      <td>122.0</td>\n",
       "      <td>59.02</td>\n",
       "      <td>29.51</td>\n",
       "      <td>42.65</td>\n",
       "      <td>29.51</td>\n",
       "      <td>9974203.0</td>\n",
       "      <td>2457.9</td>\n",
       "      <td>55870.0</td>\n",
       "    </tr>\n",
       "  </tbody>\n",
       "</table>\n",
       "</div>"
      ],
      "text/plain": [
       "       uid_code  county_code  district_code  school_code  \\\n",
       "0  1.964733e+13         19.0      1964733.0    1930924.0   \n",
       "1  1.964733e+13         19.0      1964733.0    1931476.0   \n",
       "2  1.964734e+13         19.0      1964733.0    6061451.0   \n",
       "3  1.964733e+13         19.0      1964733.0     119685.0   \n",
       "4  1.964634e+13         19.0      1964634.0    1996586.0   \n",
       "\n",
       "                    school_name        district_name  county_name  \\\n",
       "0           Belmont Senior High  Los Angeles Unified  Los Angeles   \n",
       "1       Canoga Park Senior High  Los Angeles Unified  Los Angeles   \n",
       "2        Foshay Learning Center  Los Angeles Unified  Los Angeles   \n",
       "3   New Open World Academy K-12  Los Angeles Unified  Los Angeles   \n",
       "4  Animo Inglewood Charter High    Inglewood Unified  Los Angeles   \n",
       "\n",
       "   enrolled_grade_12  num_testers_grade_12  pct_erw_pass_12  pct_math_pass_12  \\\n",
       "0              206.0                 102.0            30.39             13.73   \n",
       "1              227.0                 113.0            47.79             15.93   \n",
       "2              166.0                 106.0            64.15             33.96   \n",
       "3               85.0                  68.0            25.00              8.82   \n",
       "4              145.0                  68.0            66.18             44.12   \n",
       "\n",
       "   enrolled_grade_11  num_testers_grade_11  pct_erw_pass_11  pct_math_pass_11  \\\n",
       "0              219.0                 174.0            24.14              6.90   \n",
       "1              333.0                 275.0            35.27             13.45   \n",
       "2              187.0                 183.0            49.73             25.68   \n",
       "3               79.0                  79.0            27.85             12.66   \n",
       "4              163.0                 122.0            59.02             29.51   \n",
       "\n",
       "   pct_both_pass_12  pct_both_pass_11  population  population_density  \\\n",
       "0             13.73              6.32   9974203.0              2457.9   \n",
       "1             15.93             12.73   9974203.0              2457.9   \n",
       "2             33.96             24.04   9974203.0              2457.9   \n",
       "3              8.82              7.59   9974203.0              2457.9   \n",
       "4             42.65             29.51   9974203.0              2457.9   \n",
       "\n",
       "   median_household_income  \n",
       "0                  55870.0  \n",
       "1                  55870.0  \n",
       "2                  55870.0  \n",
       "3                  55870.0  \n",
       "4                  55870.0  "
      ]
     },
     "execution_count": 49,
     "metadata": {},
     "output_type": "execute_result"
    }
   ],
   "source": [
    "df2 = pd.merge(df2, income, on='county_name')\n",
    "df2.head()"
   ]
  },
  {
   "cell_type": "markdown",
   "metadata": {},
   "source": [
    "Visualizing realtionships in the data"
   ]
  },
  {
   "cell_type": "code",
   "execution_count": 50,
   "metadata": {
    "ExecuteTime": {
     "end_time": "2021-06-19T23:16:23.783577Z",
     "start_time": "2021-06-19T23:16:23.492431Z"
    }
   },
   "outputs": [
    {
     "data": {
      "image/png": "[encoded data removed]",
      "text/plain": [
       "<Figure size 864x864 with 2 Axes>"
      ]
     },
     "metadata": {
      "needs_background": "light"
     },
     "output_type": "display_data"
    }
   ],
   "source": [
    "# Code\n",
    "act_nums = df[['num_enrolled_grade_12', 'num_testers_grade_12', 'pct_above_21_comp', 'population', 'population_density', 'median_household_income']]\n",
    "plt.figure(figsize=(12, 12))\n",
    "sns.heatmap(act_nums.corr(), annot=True, cmap='coolwarm', vmax=1, vmin=-1);\n",
    "plt.title('''Relative correlations between numeric data, \n",
    "related to ACT scores in California, 2019''', size=16);"
   ]
  },
  {
   "cell_type": "code",
   "execution_count": 51,
   "metadata": {
    "ExecuteTime": {
     "end_time": "2021-06-19T23:16:24.044969Z",
     "start_time": "2021-06-19T23:16:23.784563Z"
    }
   },
   "outputs": [
    {
     "data": {
      "image/png": "[encoded data removed]",
      "text/plain": [
       "<Figure size 864x864 with 2 Axes>"
      ]
     },
     "metadata": {
      "needs_background": "light"
     },
     "output_type": "display_data"
    }
   ],
   "source": [
    "sat_nums = df2[[\n",
    "    'enrolled_grade_12', 'num_testers_grade_12', 'pct_both_pass_12',\n",
    "    'population', 'population_density', 'median_household_income'\n",
    "]]\n",
    "plt.figure(figsize=(12, 12))\n",
    "sns.heatmap(sat_nums.corr(), annot=True, cmap='coolwarm', vmin=-1, vmax=1);\n",
    "plt.title('''Relative correlations between numeric data, \n",
    "related to SAT scores in California, 2019''', size=16);"
   ]
  },
  {
   "cell_type": "markdown",
   "metadata": {},
   "source": [
    "No clear correlations between numbers of students or test-takers and performance on either test\n",
    "\n",
    "Highest correlation on both tests is with median household income per county at .35 for the ACT and .32 for the SAT"
   ]
  },
  {
   "cell_type": "code",
   "execution_count": 52,
   "metadata": {
    "ExecuteTime": {
     "end_time": "2021-06-19T23:16:24.168180Z",
     "start_time": "2021-06-19T23:16:24.046433Z"
    }
   },
   "outputs": [
    {
     "data": {
      "image/png": "[encoded data removed]",
      "text/plain": [
       "<Figure size 720x432 with 1 Axes>"
      ]
     },
     "metadata": {
      "needs_background": "light"
     },
     "output_type": "display_data"
    }
   ],
   "source": [
    "plt.figure(figsize=(10,6))\n",
    "sns.scatterplot(data = df, x='pct_above_21_comp', y='median_household_income', alpha=.4);\n",
    "plt.title('ACT performance vs. Median household income');"
   ]
  },
  {
   "cell_type": "code",
   "execution_count": 53,
   "metadata": {
    "ExecuteTime": {
     "end_time": "2021-06-19T23:16:24.306564Z",
     "start_time": "2021-06-19T23:16:24.169185Z"
    }
   },
   "outputs": [
    {
     "data": {
      "image/png": "[encoded data removed]",
      "text/plain": [
       "<Figure size 720x432 with 1 Axes>"
      ]
     },
     "metadata": {
      "needs_background": "light"
     },
     "output_type": "display_data"
    }
   ],
   "source": [
    "plt.figure(figsize=(10,6))\n",
    "sns.scatterplot(data=df2, x='pct_both_pass_12', y='median_household_income', alpha=.4);\n",
    "plt.title('SAT performance vs. Median household income');"
   ]
  },
  {
   "cell_type": "markdown",
   "metadata": {},
   "source": [
    "We can see the ~.35 correlation between income and test performance in these two scatter plots. They are banded like that because of variations in performance at the district level, while the income data was by county. (Each county has a number of districts)"
   ]
  },
  {
   "cell_type": "code",
   "execution_count": 54,
   "metadata": {
    "ExecuteTime": {
     "end_time": "2021-06-19T23:16:24.414266Z",
     "start_time": "2021-06-19T23:16:24.307556Z"
    }
   },
   "outputs": [
    {
     "data": {
      "image/png": "[encoded data removed]",
      "text/plain": [
       "<Figure size 432x288 with 1 Axes>"
      ]
     },
     "metadata": {
      "needs_background": "light"
     },
     "output_type": "display_data"
    }
   ],
   "source": [
    "sns.histplot(df.pct_above_21_comp);\n",
    "plt.title('''Distibution of the rate of ACT composite \n",
    "scores above 21 in California, 2019''', size=16);\n",
    "plt.xlabel(f'''Percentage of ACT composite scores above 21 \n",
    "(standard deviation = {sd_act['pct_above_21_comp']})''');"
   ]
  },
  {
   "cell_type": "markdown",
   "metadata": {},
   "source": [
    "We see a bimodal distribution, skewed slightly left"
   ]
  },
  {
   "cell_type": "code",
   "execution_count": 55,
   "metadata": {
    "ExecuteTime": {
     "end_time": "2021-06-19T23:16:24.537085Z",
     "start_time": "2021-06-19T23:16:24.415202Z"
    }
   },
   "outputs": [
    {
     "data": {
      "image/png": "[encoded data removed]",
      "text/plain": [
       "<Figure size 432x288 with 1 Axes>"
      ]
     },
     "metadata": {
      "needs_background": "light"
     },
     "output_type": "display_data"
    }
   ],
   "source": [
    "sns.histplot(df2.pct_both_pass_12)\n",
    "plt.title('''Distribution of the rate of SAT scores in California\n",
    "above College Board benchmarks, 2019''', size=16);\n",
    "plt.xlabel(f'''Percentage of SAT scores above benchmarks in both modalities \n",
    "(standard deviation = {sd_sat['pct_both_pass_12']})''');"
   ]
  },
  {
   "cell_type": "markdown",
   "metadata": {},
   "source": [
    "And here we see another bimodal distribution, this one skewed right slightly"
   ]
  },
  {
   "cell_type": "code",
   "execution_count": 56,
   "metadata": {
    "ExecuteTime": {
     "end_time": "2021-06-19T23:16:24.614201Z",
     "start_time": "2021-06-19T23:16:24.538106Z"
    }
   },
   "outputs": [
    {
     "data": {
      "image/png": "[encoded data removed]",
      "text/plain": [
       "<Figure size 432x288 with 1 Axes>"
      ]
     },
     "metadata": {
      "needs_background": "light"
     },
     "output_type": "display_data"
    }
   ],
   "source": [
    "sns.boxplot(data=df, x='pct_above_21_comp')\n",
    "plt.title('Distribution of ACT performance, 2019');"
   ]
  },
  {
   "cell_type": "code",
   "execution_count": 57,
   "metadata": {
    "ExecuteTime": {
     "end_time": "2021-06-19T23:16:24.691119Z",
     "start_time": "2021-06-19T23:16:24.615689Z"
    }
   },
   "outputs": [
    {
     "data": {
      "image/png": "[encoded data removed]",
      "text/plain": [
       "<Figure size 432x288 with 1 Axes>"
      ]
     },
     "metadata": {
      "needs_background": "light"
     },
     "output_type": "display_data"
    }
   ],
   "source": [
    "sns.violinplot(data=df, x='pct_above_21_comp');\n",
    "plt.title('Distribution of ACT performance, 2019');\n"
   ]
  },
  {
   "cell_type": "code",
   "execution_count": 58,
   "metadata": {
    "ExecuteTime": {
     "end_time": "2021-06-19T23:16:24.752419Z",
     "start_time": "2021-06-19T23:16:24.692111Z"
    }
   },
   "outputs": [
    {
     "data": {
      "image/png": "[encoded data removed]",
      "text/plain": [
       "<Figure size 432x288 with 1 Axes>"
      ]
     },
     "metadata": {
      "needs_background": "light"
     },
     "output_type": "display_data"
    }
   ],
   "source": [
    "sns.boxplot(data=df2, x='pct_both_pass_12')\n",
    "plt.title('Distribution of SAT performance, 2019');"
   ]
  },
  {
   "cell_type": "code",
   "execution_count": 59,
   "metadata": {
    "ExecuteTime": {
     "end_time": "2021-06-19T23:16:24.829298Z",
     "start_time": "2021-06-19T23:16:24.753385Z"
    }
   },
   "outputs": [
    {
     "data": {
      "image/png": "[encoded data removed]",
      "text/plain": [
       "<Figure size 432x288 with 1 Axes>"
      ]
     },
     "metadata": {
      "needs_background": "light"
     },
     "output_type": "display_data"
    }
   ],
   "source": [
    "sns.violinplot(data=df2, x='pct_both_pass_12');\n",
    "plt.title('Distribution of SAT performance, 2019');\n"
   ]
  },
  {
   "cell_type": "markdown",
   "metadata": {},
   "source": [
    "Possibly clearer representations of the above histograms in boxplot/violinplot form. The same observations hold true. The violinplots are essentially a combination of the histogram and boxplots."
   ]
  },
  {
   "cell_type": "markdown",
   "metadata": {},
   "source": [
    "## Based on my exploration of the data, I can conclude the following:\n",
    "-\n",
    "The three worst-performing counties on the ACT: \n",
    "\n",
    "|**County**|**Median Income**|**Percent ACT scores over 21**|\n",
    "|-|-|-|\n",
    "|Modoc|38,560|16.67|\n",
    "|Merced|43,066|30.82|\n",
    "|Kings|47,341|30.92|\n",
    "\n",
    "\n",
    "The three worst-performing counties on the SAT: \n",
    "\n",
    "|**County**|**Median Income**|**Percent SAT scores over benchmarks**|\n",
    "|-|-|-|\n",
    "|Colusa|50,503|9.50|\n",
    "|Merced|43,066|25.84|\n",
    "|Glenn|40,106|26.33|\n",
    "\n",
    "\n",
    "-\n",
    "The three worst-performing districts on the ACT: \n",
    "\n",
    "|**District**|**County**|**Median Income**|**Percent ACT scores over 21**|\n",
    "|-|-|-|-|\n",
    "|Golden Plains Unified|Fresno|45,201|0.00|\n",
    "|Reef-Sunset Unified|Kings|47,341|3.57|\n",
    "|Tulelake Basin Joint Unified|Modoc|38,560|6.67|\n",
    "\n",
    "\n",
    "The three worst-performing districts on the SAT: \n",
    "\n",
    "|**District**|**County**|**Median Income**|**Percent SAT scores over benchmarks**|\n",
    "|-|-|-|-|\n",
    "|Golden Plains Unified|Fresno|45,201|0.00|\n",
    "|Williams Unified|Colusa|50,503|0.00|\n",
    "|Firebaugh-Las Deltas Unified|Fresno|45,201|5.95|\n",
    "\n",
    "\n",
    "-\n",
    "The three best-performing counties on the ACT: \n",
    "\n",
    "|**County**|**Median Income**|**Percent ACT scores over 21**|\n",
    "|-|-|-|\n",
    "|Calaveras|54,936|85.17|\n",
    "|Mono|61,814|79.30|\n",
    "|Amador|52,964|78.97|\n",
    "\n",
    "\n",
    "The three best-performing counties on the SAT: \n",
    "\n",
    "|**County**|**Median Income**|**Percent SAT scores over benchmark**|\n",
    "|-|-|-|\n",
    "|Nevada|56,949|74.87|\n",
    "|Mariposa|50,560|72.22|\n",
    "|Marin|91,529|68.74|\n",
    "\n",
    "\n",
    "-\n",
    "The three best-performing districts on the ACT: \n",
    "\n",
    "|**District**|**County**|**Median Income**|**Percent ACT scores over 21**|\n",
    "|-|-|-|-|\n",
    "|Lakeside Union Elementary|San Diego|63,996|100.00|\n",
    "|Los Gatos-Saratoga Joint Union High|Santa Clara|93,854|96.17|\n",
    "|Piedmont City Unified|Alameda|73,775|96.06|\n",
    "\n",
    "\n",
    "The three best-performing districts on the SAT:\n",
    "\n",
    "|**District**|**County**|**Median Income**|**Percent SAT scores over benchmarks**|\n",
    "|-|-|-|-|\n",
    "|La Canada Unified|Los Angeles|55,870|91.76|\n",
    "|San Marino Unified|Los Angeles|55,870|91.67|\n",
    "|Los Gatos-Saratoga Joint Union High|Santa Clara|93,854|91.43|\n",
    "\n",
    "\n",
    "Our analysis has identified the most and least successful counties and districts. We have discovered that there are no meaningful correlations with test success and any other data point, save household income. The correlation between median household income and success on these tests was (~34%).\n",
    "\n",
    "Our recommendation to close the gap in test performance would be to either close the gap in education spending, or close the gap in median income. Without access to district-level spending data, we have to extrapolate from county income data what education spending looks like, which explains the uncertainty in our recommendation."
   ]
  },
  {
   "cell_type": "code",
   "execution_count": null,
   "metadata": {},
   "outputs": [],
   "source": []
  }
 ],
 "metadata": {
  "anaconda-cloud": {},
  "kernelspec": {
   "display_name": "Python 3",
   "language": "python",
   "name": "python3"
  },
  "language_info": {
   "codemirror_mode": {
    "name": "ipython",
    "version": 3
   },
   "file_extension": ".py",
   "mimetype": "text/x-python",
   "name": "python",
   "nbconvert_exporter": "python",
   "pygments_lexer": "ipython3",
   "version": "3.8.5"
  },
  "toc": {
   "base_numbering": 1,
   "nav_menu": {},
   "number_sections": true,
   "sideBar": true,
   "skip_h1_title": false,
   "title_cell": "Table of Contents",
   "title_sidebar": "Contents",
   "toc_cell": false,
   "toc_position": {},
   "toc_section_display": true,
   "toc_window_display": false
  },
  "varInspector": {
   "cols": {
    "lenName": 16,
    "lenType": 16,
    "lenVar": 40
   },
   "kernels_config": {
    "python": {
     "delete_cmd_postfix": "",
     "delete_cmd_prefix": "del ",
     "library": "var_list.py",
     "varRefreshCmd": "print(var_dic_list())"
    },
    "r": {
     "delete_cmd_postfix": ") ",
     "delete_cmd_prefix": "rm(",
     "library": "var_list.r",
     "varRefreshCmd": "cat(var_dic_list()) "
    }
   },
   "types_to_exclude": [
    "module",
    "function",
    "builtin_function_or_method",
    "instance",
    "_Feature"
   ],
   "window_display": false
  }
 },
 "nbformat": 4,
 "nbformat_minor": 4
}
