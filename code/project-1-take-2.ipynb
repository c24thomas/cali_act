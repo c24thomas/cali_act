{
 "cells": [
  {
   "cell_type": "markdown",
   "metadata": {},
   "source": [
    "<img src=\"http://imgur.com/1ZcRyrc.png\" style=\"float: left; margin: 20px; height: 55px\">\n",
    "\n",
    "# Project 1: Standardized Test Analysis"
   ]
  },
  {
   "cell_type": "markdown",
   "metadata": {},
   "source": [
    "--- \n",
    "# Part 1\n",
    "\n",
    "Part 1 requires knowledge of basic Python.\n",
    "\n",
    "---"
   ]
  },
  {
   "cell_type": "markdown",
   "metadata": {},
   "source": [
    "## Problem Statement"
   ]
  },
  {
   "cell_type": "markdown",
   "metadata": {},
   "source": [
    "This project aims to identify the best- and worst-performing CA school districts on the ACT and SAT for 2019. The insights gleaned from this project will enable the state of California to not only direct resources to the districts in need, but also identify possible reasons for the disparities in performance."
   ]
  },
  {
   "cell_type": "markdown",
   "metadata": {},
   "source": [
    "### Contents:\n",
    "- [Background](#Background)\n",
    "- [Data Import & Cleaning](#Data-Import-and-Cleaning)\n",
    "- [Exploratory Data Analysis](#Exploratory-Data-Analysis)\n",
    "- [Data Visualization](#Visualize-the-Data)\n",
    "- [Conclusions and Recommendations](#Conclusions-and-Recommendations)"
   ]
  },
  {
   "cell_type": "markdown",
   "metadata": {},
   "source": [
    "## Background"
   ]
  },
  {
   "cell_type": "markdown",
   "metadata": {},
   "source": [
    "The SAT and ACT are standardized tests that many colleges and universities in the United States require for their admissions process. This score is used along with other materials such as grade point average (GPA) and essay responses to determine whether or not a potential student will be accepted to the university.\n",
    "\n",
    "The SAT has two sections of the test: Evidence-Based Reading and Writing and Math ([*source*](https://www.princetonreview.com/college/sat-sections)). The ACT has 4 sections: English, Mathematics, Reading, and Science, with an additional optional writing section ([*source*](https://www.act.org/content/act/en/products-and-services/the-act/scores/understanding-your-scores.html)). They have different score ranges, which you can read more about on their websites or additional outside sources (a quick Google search will help you understand the scores for each test):\n",
    "* [SAT](https://collegereadiness.collegeboard.org/sat)\n",
    "* [ACT](https://www.act.org/content/act/en.html)\n",
    "\n",
    "Standardized tests have long been a controversial topic for students, administrators, and legislators. Since the 1940's, an increasing number of colleges have been using scores from sudents' performances on tests like the SAT and the ACT as a measure for college readiness and aptitude ([*source*](https://www.minotdailynews.com/news/local-news/2017/04/a-brief-history-of-the-sat-and-act/)). Supporters of these tests argue that these scores can be used as an objective measure to determine college admittance. Opponents of these tests claim that these tests are not accurate measures of students potential or ability and serve as an inequitable barrier to entry. Lately, more and more schools are opting to drop the SAT/ACT requirement for their Fall 2021 applications ([*read more about this here*](https://www.cnn.com/2020/04/14/us/coronavirus-colleges-sat-act-test-trnd/index.html))."
   ]
  },
  {
   "cell_type": "markdown",
   "metadata": {},
   "source": [
    "**To-Do:** *Fill out this cell (or edit the above cell) with any other background or information that is necessary for your problem statement.*"
   ]
  },
  {
   "cell_type": "markdown",
   "metadata": {},
   "source": [
    "### Choose your Data\n",
    "\n",
    "There are 10 datasets included in the [`data`](./data/) folder for this project. You are required to pick **at least two** of these to complete your analysis. Feel free to use more than two if you would like, or add other relevant datasets you find online.\n",
    "\n",
    "* [`act_2017.csv`](./data/act_2017.csv): 2017 ACT Scores by State\n",
    "* [`act_2018.csv`](./data/act_2018.csv): 2018 ACT Scores by State\n",
    "* [`act_2019.csv`](./data/act_2019.csv): 2019 ACT Scores by State\n",
    "* [`act_2019_ca.csv`](./data/act_2019_ca.csv): 2019 ACT Scores in California by School\n",
    "* [`sat_2017.csv`](./data/sat_2017.csv): 2017 SAT Scores by State\n",
    "* [`sat_2018.csv`](./data/sat_2018.csv): 2018 SAT Scores by State\n",
    "* [`sat_2019.csv`](./data/sat_2019.csv): 2019 SAT Scores by State\n",
    "* [`sat_2019_by_intended_college_major.csv`](./data/sat_2019_by_intended_college_major.csv): 2019 SAT Scores by Intended College Major\n",
    "* [`sat_2019_ca.csv`](./data/sat_2019_ca.csv): 2019 SAT Scores in California by School\n",
    "* [`sat_act_by_college.csv`](./data/sat_act_by_college.csv): Ranges of Accepted ACT & SAT Student Scores by Colleges"
   ]
  },
  {
   "cell_type": "markdown",
   "metadata": {},
   "source": [
    "**To-Do:** *Fill out this cell with the datasets you will use for your analysis. Write a brief description of the contents for each dataset that you choose.*"
   ]
  },
  {
   "cell_type": "markdown",
   "metadata": {},
   "source": [
    "### Outside Research"
   ]
  },
  {
   "cell_type": "markdown",
   "metadata": {},
   "source": [
    "Based on your problem statement and your chosen datasets, spend some time doing outside research on state policies or additional information that might be relevant. Summarize your findings below. If you bring in any outside tables or charts, make sure you are explicit about having borrowed them. If you quote any text, make sure that it renders as being quoted. **Make sure that you cite your sources.**"
   ]
  },
  {
   "cell_type": "markdown",
   "metadata": {},
   "source": [
    "**To-Do:** *Fill out this cell with outside research or any additional background information that will support your analysis.*"
   ]
  },
  {
   "cell_type": "markdown",
   "metadata": {},
   "source": [
    "### Coding Challenges\n",
    "\n",
    "1. Manually calculate mean:\n",
    "\n",
    "    Write a function that takes in values and returns the mean of the values. Create a list of numbers that you test on your function to check to make sure your function works!\n",
    "    \n",
    "    *Note*: Do not use any mean methods built-in to any Python libraries to do this! This should be done without importing any additional libraries."
   ]
  },
  {
   "cell_type": "code",
   "execution_count": 3,
   "metadata": {
    "ExecuteTime": {
     "end_time": "2021-03-31T18:13:41.751921Z",
     "start_time": "2021-03-31T18:13:41.745995Z"
    }
   },
   "outputs": [],
   "source": [
    "import random as r"
   ]
  },
  {
   "cell_type": "code",
   "execution_count": 4,
   "metadata": {
    "ExecuteTime": {
     "end_time": "2021-03-31T18:13:42.305218Z",
     "start_time": "2021-03-31T18:13:42.300754Z"
    }
   },
   "outputs": [],
   "source": [
    "# Code:\n",
    "def get_mean(arr):\n",
    "    return sum(arr) / len(arr)\n",
    "\n",
    "nums = [r.randint(0, 100) for i in range(10)]"
   ]
  },
  {
   "cell_type": "code",
   "execution_count": 5,
   "metadata": {
    "ExecuteTime": {
     "end_time": "2021-03-31T18:13:43.212652Z",
     "start_time": "2021-03-31T18:13:43.207693Z"
    }
   },
   "outputs": [
    {
     "data": {
      "text/plain": [
       "[47, 69, 77, 96, 41, 18, 37, 61, 21, 40]"
      ]
     },
     "execution_count": 5,
     "metadata": {},
     "output_type": "execute_result"
    }
   ],
   "source": [
    "nums"
   ]
  },
  {
   "cell_type": "code",
   "execution_count": 6,
   "metadata": {
    "ExecuteTime": {
     "end_time": "2021-03-31T18:13:43.983089Z",
     "start_time": "2021-03-31T18:13:43.964702Z"
    }
   },
   "outputs": [
    {
     "data": {
      "text/plain": [
       "50.7"
      ]
     },
     "execution_count": 6,
     "metadata": {},
     "output_type": "execute_result"
    }
   ],
   "source": [
    "get_mean(nums)"
   ]
  },
  {
   "cell_type": "markdown",
   "metadata": {},
   "source": [
    "2. Manually calculate standard deviation:\n",
    "\n",
    "    The formula for standard deviation is below:\n",
    "\n",
    "    $$\\sigma = \\sqrt{\\frac{1}{n}\\sum_{i=1}^n(x_i - \\mu)^2}$$\n",
    "\n",
    "    Where $x_i$ represents each value in the dataset, $\\mu$ represents the mean of all values in the dataset and $n$ represents the number of values in the dataset.\n",
    "\n",
    "    Write a function that takes in values and returns the standard deviation of the values using the formula above. Hint: use the function you wrote above to calculate the mean! Use the list of numbers you created above to test on your function.\n",
    "    \n",
    "    *Note*: Do not use any standard deviation methods built-in to any Python libraries to do this! This should be done without importing any additional libraries."
   ]
  },
  {
   "cell_type": "code",
   "execution_count": 28,
   "metadata": {
    "ExecuteTime": {
     "end_time": "2021-03-31T18:23:39.512636Z",
     "start_time": "2021-03-31T18:23:39.508172Z"
    }
   },
   "outputs": [],
   "source": [
    "# Code:\n",
    "def std_dev(arr):\n",
    "    try:\n",
    "        return ( sum([(i - get_mean(arr)) ** 2 for i in arr]) / (len(arr))) ** .5\n",
    "    except TypeError:\n",
    "        return 'n/a'"
   ]
  },
  {
   "cell_type": "code",
   "execution_count": 43,
   "metadata": {
    "ExecuteTime": {
     "end_time": "2021-03-31T00:56:34.428649Z",
     "start_time": "2021-03-31T00:56:34.414266Z"
    }
   },
   "outputs": [
    {
     "data": {
      "text/plain": [
       "24.454038521274967"
      ]
     },
     "execution_count": 43,
     "metadata": {},
     "output_type": "execute_result"
    }
   ],
   "source": [
    "std_dev(nums)"
   ]
  },
  {
   "cell_type": "markdown",
   "metadata": {},
   "source": [
    "3. Data cleaning function:\n",
    "    \n",
    "    Write a function that takes in a string that is a number and a percent symbol (ex. '50%', '30.5%', etc.) and converts this to a float that is the decimal approximation of the percent. For example, inputting '50%' in your function should return 0.5, '30.5%' should return 0.305, etc. Make sure to test your function to make sure it works!\n",
    "\n",
    "You will use these functions later on in the project!"
   ]
  },
  {
   "cell_type": "code",
   "execution_count": 8,
   "metadata": {
    "ExecuteTime": {
     "end_time": "2021-03-31T18:13:49.001490Z",
     "start_time": "2021-03-31T18:13:48.987075Z"
    }
   },
   "outputs": [
    {
     "data": {
      "text/plain": [
       "0.345"
      ]
     },
     "execution_count": 8,
     "metadata": {},
     "output_type": "execute_result"
    }
   ],
   "source": [
    "# Code:\n",
    "def cleaner(string):\n",
    "    return float(string[:-1]) / 100\n",
    "cleaner('34.5%')"
   ]
  },
  {
   "cell_type": "markdown",
   "metadata": {},
   "source": [
    "--- \n",
    "# Part 2\n",
    "\n",
    "Part 2 requires knowledge of Pandas, EDA, data cleaning, and data visualization.\n",
    "\n",
    "---"
   ]
  },
  {
   "cell_type": "markdown",
   "metadata": {},
   "source": [
    "*All libraries used should be added here*"
   ]
  },
  {
   "cell_type": "code",
   "execution_count": 1,
   "metadata": {
    "ExecuteTime": {
     "end_time": "2021-03-31T17:54:30.524599Z",
     "start_time": "2021-03-31T17:54:29.543154Z"
    }
   },
   "outputs": [],
   "source": [
    "# Imports:\n",
    "import pandas as pd\n",
    "import numpy as np\n",
    "import matplotlib.pyplot as plt\n",
    "import seaborn as sns\n",
    "%matplotlib inline"
   ]
  },
  {
   "cell_type": "markdown",
   "metadata": {},
   "source": [
    "## Data Import and Cleaning"
   ]
  },
  {
   "cell_type": "code",
   "execution_count": null,
   "metadata": {},
   "outputs": [],
   "source": []
  },
  {
   "cell_type": "markdown",
   "metadata": {},
   "source": [
    "### Data Import & Cleaning\n",
    "\n",
    "Import the datasets that you selected for this project and go through the following steps at a minimum. You are welcome to do further cleaning as you feel necessary:\n",
    "1. Display the data: print the first 5 rows of each dataframe to your Jupyter notebook.\n",
    "2. Check for missing values.\n",
    "3. Check for any obvious issues with the observations (keep in mind the minimum & maximum possible values for each test/subtest).\n",
    "4. Fix any errors you identified in steps 2-3.\n",
    "5. Display the data types of each feature.\n",
    "6. Fix any incorrect data types found in step 5.\n",
    "    - Fix any individual values preventing other columns from being the appropriate type.\n",
    "    - If your dataset has a column of percents (ex. '50%', '30.5%', etc.), use the function you wrote in Part 1 (coding challenges, number 3) to convert this to floats! *Hint*: use `.map()` or `.apply()`.\n",
    "7. Rename Columns.\n",
    "    - Column names should be all lowercase.\n",
    "    - Column names should not contain spaces (underscores will suffice--this allows for using the `df.column_name` method to access columns in addition to `df['column_name']`).\n",
    "    - Column names should be unique and informative.\n",
    "8. Drop unnecessary rows (if needed).\n",
    "9. Merge dataframes that can be merged.\n",
    "10. Perform any additional cleaning that you feel is necessary.\n",
    "11. Save your cleaned and merged dataframes as csv files."
   ]
  },
  {
   "cell_type": "markdown",
   "metadata": {},
   "source": [
    "#### 1. Display the data: print the first 5 rows of each dataframe to your Jupyter notebook."
   ]
  },
  {
   "cell_type": "code",
   "execution_count": 46,
   "metadata": {
    "ExecuteTime": {
     "end_time": "2021-03-31T00:56:34.490152Z",
     "start_time": "2021-03-31T00:56:34.460889Z"
    }
   },
   "outputs": [
    {
     "data": {
      "text/html": [
       "<div>\n",
       "<style scoped>\n",
       "    .dataframe tbody tr th:only-of-type {\n",
       "        vertical-align: middle;\n",
       "    }\n",
       "\n",
       "    .dataframe tbody tr th {\n",
       "        vertical-align: top;\n",
       "    }\n",
       "\n",
       "    .dataframe thead th {\n",
       "        text-align: right;\n",
       "    }\n",
       "</style>\n",
       "<table border=\"1\" class=\"dataframe\">\n",
       "  <thead>\n",
       "    <tr style=\"text-align: right;\">\n",
       "      <th></th>\n",
       "      <th>CDS</th>\n",
       "      <th>CCode</th>\n",
       "      <th>CDCode</th>\n",
       "      <th>SCode</th>\n",
       "      <th>RType</th>\n",
       "      <th>SName</th>\n",
       "      <th>DName</th>\n",
       "      <th>CName</th>\n",
       "      <th>Enroll12</th>\n",
       "      <th>NumTSTTakr12</th>\n",
       "      <th>...</th>\n",
       "      <th>NumERWBenchmark11</th>\n",
       "      <th>PctERWBenchmark11</th>\n",
       "      <th>NumMathBenchmark11</th>\n",
       "      <th>PctMathBenchmark11</th>\n",
       "      <th>TotNumBothBenchmark12</th>\n",
       "      <th>PctBothBenchmark12</th>\n",
       "      <th>TotNumBothBenchmark11</th>\n",
       "      <th>PctBothBenchmark11</th>\n",
       "      <th>Year</th>\n",
       "      <th>Unnamed: 25</th>\n",
       "    </tr>\n",
       "  </thead>\n",
       "  <tbody>\n",
       "    <tr>\n",
       "      <th>0</th>\n",
       "      <td>6.615981e+12</td>\n",
       "      <td>6.0</td>\n",
       "      <td>661598.0</td>\n",
       "      <td>630046.0</td>\n",
       "      <td>S</td>\n",
       "      <td>Colusa Alternative Home</td>\n",
       "      <td>Colusa Unified</td>\n",
       "      <td>Colusa</td>\n",
       "      <td>18.0</td>\n",
       "      <td>0.0</td>\n",
       "      <td>...</td>\n",
       "      <td>NaN</td>\n",
       "      <td>NaN</td>\n",
       "      <td>NaN</td>\n",
       "      <td>NaN</td>\n",
       "      <td>NaN</td>\n",
       "      <td>NaN</td>\n",
       "      <td>NaN</td>\n",
       "      <td>NaN</td>\n",
       "      <td>2018-19</td>\n",
       "      <td>NaN</td>\n",
       "    </tr>\n",
       "    <tr>\n",
       "      <th>1</th>\n",
       "      <td>6.616061e+12</td>\n",
       "      <td>6.0</td>\n",
       "      <td>661606.0</td>\n",
       "      <td>634758.0</td>\n",
       "      <td>S</td>\n",
       "      <td>Maxwell Sr High</td>\n",
       "      <td>Maxwell Unified</td>\n",
       "      <td>Colusa</td>\n",
       "      <td>29.0</td>\n",
       "      <td>10.0</td>\n",
       "      <td>...</td>\n",
       "      <td>NaN</td>\n",
       "      <td>NaN</td>\n",
       "      <td>NaN</td>\n",
       "      <td>NaN</td>\n",
       "      <td>NaN</td>\n",
       "      <td>NaN</td>\n",
       "      <td>NaN</td>\n",
       "      <td>NaN</td>\n",
       "      <td>2018-19</td>\n",
       "      <td>NaN</td>\n",
       "    </tr>\n",
       "    <tr>\n",
       "      <th>2</th>\n",
       "      <td>1.964733e+13</td>\n",
       "      <td>19.0</td>\n",
       "      <td>1964733.0</td>\n",
       "      <td>1930924.0</td>\n",
       "      <td>S</td>\n",
       "      <td>Belmont Senior High</td>\n",
       "      <td>Los Angeles Unified</td>\n",
       "      <td>Los Angeles</td>\n",
       "      <td>206.0</td>\n",
       "      <td>102.0</td>\n",
       "      <td>...</td>\n",
       "      <td>42.0</td>\n",
       "      <td>24.14</td>\n",
       "      <td>12.0</td>\n",
       "      <td>6.90</td>\n",
       "      <td>14.0</td>\n",
       "      <td>13.73</td>\n",
       "      <td>11.0</td>\n",
       "      <td>6.32</td>\n",
       "      <td>2018-19</td>\n",
       "      <td>NaN</td>\n",
       "    </tr>\n",
       "    <tr>\n",
       "      <th>3</th>\n",
       "      <td>1.964733e+13</td>\n",
       "      <td>19.0</td>\n",
       "      <td>1964733.0</td>\n",
       "      <td>1931476.0</td>\n",
       "      <td>S</td>\n",
       "      <td>Canoga Park Senior High</td>\n",
       "      <td>Los Angeles Unified</td>\n",
       "      <td>Los Angeles</td>\n",
       "      <td>227.0</td>\n",
       "      <td>113.0</td>\n",
       "      <td>...</td>\n",
       "      <td>97.0</td>\n",
       "      <td>35.27</td>\n",
       "      <td>37.0</td>\n",
       "      <td>13.45</td>\n",
       "      <td>18.0</td>\n",
       "      <td>15.93</td>\n",
       "      <td>35.0</td>\n",
       "      <td>12.73</td>\n",
       "      <td>2018-19</td>\n",
       "      <td>NaN</td>\n",
       "    </tr>\n",
       "    <tr>\n",
       "      <th>4</th>\n",
       "      <td>1.964733e+13</td>\n",
       "      <td>19.0</td>\n",
       "      <td>1964733.0</td>\n",
       "      <td>1931856.0</td>\n",
       "      <td>S</td>\n",
       "      <td>Whitman Continuation</td>\n",
       "      <td>Los Angeles Unified</td>\n",
       "      <td>Los Angeles</td>\n",
       "      <td>18.0</td>\n",
       "      <td>14.0</td>\n",
       "      <td>...</td>\n",
       "      <td>NaN</td>\n",
       "      <td>NaN</td>\n",
       "      <td>NaN</td>\n",
       "      <td>NaN</td>\n",
       "      <td>NaN</td>\n",
       "      <td>NaN</td>\n",
       "      <td>NaN</td>\n",
       "      <td>NaN</td>\n",
       "      <td>2018-19</td>\n",
       "      <td>NaN</td>\n",
       "    </tr>\n",
       "  </tbody>\n",
       "</table>\n",
       "<p>5 rows × 26 columns</p>\n",
       "</div>"
      ],
      "text/plain": [
       "            CDS  CCode     CDCode      SCode RType                    SName  \\\n",
       "0  6.615981e+12    6.0   661598.0   630046.0     S  Colusa Alternative Home   \n",
       "1  6.616061e+12    6.0   661606.0   634758.0     S          Maxwell Sr High   \n",
       "2  1.964733e+13   19.0  1964733.0  1930924.0     S      Belmont Senior High   \n",
       "3  1.964733e+13   19.0  1964733.0  1931476.0     S  Canoga Park Senior High   \n",
       "4  1.964733e+13   19.0  1964733.0  1931856.0     S     Whitman Continuation   \n",
       "\n",
       "                 DName        CName  Enroll12  NumTSTTakr12  ...  \\\n",
       "0       Colusa Unified       Colusa      18.0           0.0  ...   \n",
       "1      Maxwell Unified       Colusa      29.0          10.0  ...   \n",
       "2  Los Angeles Unified  Los Angeles     206.0         102.0  ...   \n",
       "3  Los Angeles Unified  Los Angeles     227.0         113.0  ...   \n",
       "4  Los Angeles Unified  Los Angeles      18.0          14.0  ...   \n",
       "\n",
       "   NumERWBenchmark11  PctERWBenchmark11  NumMathBenchmark11  \\\n",
       "0                NaN                NaN                 NaN   \n",
       "1                NaN                NaN                 NaN   \n",
       "2               42.0              24.14                12.0   \n",
       "3               97.0              35.27                37.0   \n",
       "4                NaN                NaN                 NaN   \n",
       "\n",
       "   PctMathBenchmark11  TotNumBothBenchmark12  PctBothBenchmark12  \\\n",
       "0                 NaN                    NaN                 NaN   \n",
       "1                 NaN                    NaN                 NaN   \n",
       "2                6.90                   14.0               13.73   \n",
       "3               13.45                   18.0               15.93   \n",
       "4                 NaN                    NaN                 NaN   \n",
       "\n",
       "   TotNumBothBenchmark11  PctBothBenchmark11     Year  Unnamed: 25  \n",
       "0                    NaN                 NaN  2018-19          NaN  \n",
       "1                    NaN                 NaN  2018-19          NaN  \n",
       "2                   11.0                6.32  2018-19          NaN  \n",
       "3                   35.0               12.73  2018-19          NaN  \n",
       "4                    NaN                 NaN  2018-19          NaN  \n",
       "\n",
       "[5 rows x 26 columns]"
      ]
     },
     "execution_count": 46,
     "metadata": {},
     "output_type": "execute_result"
    }
   ],
   "source": [
    "sat = pd.read_csv('../data/sat_2019_ca.csv', na_values=['*'])\n",
    "sat.head()"
   ]
  },
  {
   "cell_type": "markdown",
   "metadata": {},
   "source": [
    "#### 2. Check for missing values."
   ]
  },
  {
   "cell_type": "code",
   "execution_count": 47,
   "metadata": {
    "ExecuteTime": {
     "end_time": "2021-03-31T00:56:34.505528Z",
     "start_time": "2021-03-31T00:56:34.491145Z"
    }
   },
   "outputs": [
    {
     "data": {
      "text/plain": [
       "CDS                         1\n",
       "CCode                       1\n",
       "CDCode                      1\n",
       "SCode                       1\n",
       "RType                       1\n",
       "SName                     598\n",
       "DName                      59\n",
       "CName                       1\n",
       "Enroll12                    1\n",
       "NumTSTTakr12                1\n",
       "NumERWBenchmark12         858\n",
       "PctERWBenchmark12         858\n",
       "NumMathBenchmark12        858\n",
       "PctMathBenchmark12        858\n",
       "Enroll11                    1\n",
       "NumTSTTakr11                1\n",
       "NumERWBenchmark11         844\n",
       "PctERWBenchmark11         844\n",
       "NumMathBenchmark11        844\n",
       "PctMathBenchmark11        844\n",
       "TotNumBothBenchmark12     858\n",
       "PctBothBenchmark12        858\n",
       "TotNumBothBenchmark11     844\n",
       "PctBothBenchmark11        844\n",
       "Year                        1\n",
       "Unnamed: 25              2580\n",
       "dtype: int64"
      ]
     },
     "execution_count": 47,
     "metadata": {},
     "output_type": "execute_result"
    }
   ],
   "source": [
    "sat.isna().sum()"
   ]
  },
  {
   "cell_type": "markdown",
   "metadata": {},
   "source": [
    "#### 3. Check for any obvious issues with the observations (keep in mind the minimum & maximum possible values for each test/subtest)."
   ]
  },
  {
   "cell_type": "code",
   "execution_count": 48,
   "metadata": {
    "ExecuteTime": {
     "end_time": "2021-03-31T00:56:34.520925Z",
     "start_time": "2021-03-31T00:56:34.507017Z"
    }
   },
   "outputs": [
    {
     "name": "stdout",
     "output_type": "stream",
     "text": [
      "<class 'pandas.core.frame.DataFrame'>\n",
      "RangeIndex: 2580 entries, 0 to 2579\n",
      "Data columns (total 26 columns):\n",
      " #   Column                 Non-Null Count  Dtype  \n",
      "---  ------                 --------------  -----  \n",
      " 0   CDS                    2579 non-null   float64\n",
      " 1   CCode                  2579 non-null   float64\n",
      " 2   CDCode                 2579 non-null   float64\n",
      " 3   SCode                  2579 non-null   float64\n",
      " 4   RType                  2579 non-null   object \n",
      " 5   SName                  1982 non-null   object \n",
      " 6   DName                  2521 non-null   object \n",
      " 7   CName                  2579 non-null   object \n",
      " 8   Enroll12               2579 non-null   float64\n",
      " 9   NumTSTTakr12           2579 non-null   float64\n",
      " 10  NumERWBenchmark12      1722 non-null   float64\n",
      " 11  PctERWBenchmark12      1722 non-null   float64\n",
      " 12  NumMathBenchmark12     1722 non-null   float64\n",
      " 13  PctMathBenchmark12     1722 non-null   float64\n",
      " 14  Enroll11               2579 non-null   float64\n",
      " 15  NumTSTTakr11           2579 non-null   float64\n",
      " 16  NumERWBenchmark11      1736 non-null   float64\n",
      " 17  PctERWBenchmark11      1736 non-null   float64\n",
      " 18  NumMathBenchmark11     1736 non-null   float64\n",
      " 19  PctMathBenchmark11     1736 non-null   float64\n",
      " 20  TotNumBothBenchmark12  1722 non-null   float64\n",
      " 21  PctBothBenchmark12     1722 non-null   float64\n",
      " 22  TotNumBothBenchmark11  1736 non-null   float64\n",
      " 23  PctBothBenchmark11     1736 non-null   float64\n",
      " 24  Year                   2579 non-null   object \n",
      " 25  Unnamed: 25            0 non-null      float64\n",
      "dtypes: float64(21), object(5)\n",
      "memory usage: 524.2+ KB\n"
     ]
    }
   ],
   "source": [
    "sat.info()"
   ]
  },
  {
   "cell_type": "markdown",
   "metadata": {},
   "source": [
    "#### 4. Fix any errors you identified in steps 2-3."
   ]
  },
  {
   "cell_type": "code",
   "execution_count": 49,
   "metadata": {
    "ExecuteTime": {
     "end_time": "2021-03-31T00:56:34.551657Z",
     "start_time": "2021-03-31T00:56:34.522394Z"
    }
   },
   "outputs": [
    {
     "data": {
      "text/html": [
       "<div>\n",
       "<style scoped>\n",
       "    .dataframe tbody tr th:only-of-type {\n",
       "        vertical-align: middle;\n",
       "    }\n",
       "\n",
       "    .dataframe tbody tr th {\n",
       "        vertical-align: top;\n",
       "    }\n",
       "\n",
       "    .dataframe thead th {\n",
       "        text-align: right;\n",
       "    }\n",
       "</style>\n",
       "<table border=\"1\" class=\"dataframe\">\n",
       "  <thead>\n",
       "    <tr style=\"text-align: right;\">\n",
       "      <th></th>\n",
       "      <th>CDS</th>\n",
       "      <th>CCode</th>\n",
       "      <th>CDCode</th>\n",
       "      <th>SCode</th>\n",
       "      <th>SName</th>\n",
       "      <th>DName</th>\n",
       "      <th>CName</th>\n",
       "      <th>Enroll12</th>\n",
       "      <th>NumTSTTakr12</th>\n",
       "      <th>NumERWBenchmark12</th>\n",
       "      <th>...</th>\n",
       "      <th>Enroll11</th>\n",
       "      <th>NumTSTTakr11</th>\n",
       "      <th>NumERWBenchmark11</th>\n",
       "      <th>PctERWBenchmark11</th>\n",
       "      <th>NumMathBenchmark11</th>\n",
       "      <th>PctMathBenchmark11</th>\n",
       "      <th>TotNumBothBenchmark12</th>\n",
       "      <th>PctBothBenchmark12</th>\n",
       "      <th>TotNumBothBenchmark11</th>\n",
       "      <th>PctBothBenchmark11</th>\n",
       "    </tr>\n",
       "  </thead>\n",
       "  <tbody>\n",
       "    <tr>\n",
       "      <th>0</th>\n",
       "      <td>6.615981e+12</td>\n",
       "      <td>6.0</td>\n",
       "      <td>661598.0</td>\n",
       "      <td>630046.0</td>\n",
       "      <td>Colusa Alternative Home</td>\n",
       "      <td>Colusa Unified</td>\n",
       "      <td>Colusa</td>\n",
       "      <td>18.0</td>\n",
       "      <td>0.0</td>\n",
       "      <td>NaN</td>\n",
       "      <td>...</td>\n",
       "      <td>18.0</td>\n",
       "      <td>0.0</td>\n",
       "      <td>NaN</td>\n",
       "      <td>NaN</td>\n",
       "      <td>NaN</td>\n",
       "      <td>NaN</td>\n",
       "      <td>NaN</td>\n",
       "      <td>NaN</td>\n",
       "      <td>NaN</td>\n",
       "      <td>NaN</td>\n",
       "    </tr>\n",
       "    <tr>\n",
       "      <th>1</th>\n",
       "      <td>6.616061e+12</td>\n",
       "      <td>6.0</td>\n",
       "      <td>661606.0</td>\n",
       "      <td>634758.0</td>\n",
       "      <td>Maxwell Sr High</td>\n",
       "      <td>Maxwell Unified</td>\n",
       "      <td>Colusa</td>\n",
       "      <td>29.0</td>\n",
       "      <td>10.0</td>\n",
       "      <td>NaN</td>\n",
       "      <td>...</td>\n",
       "      <td>26.0</td>\n",
       "      <td>6.0</td>\n",
       "      <td>NaN</td>\n",
       "      <td>NaN</td>\n",
       "      <td>NaN</td>\n",
       "      <td>NaN</td>\n",
       "      <td>NaN</td>\n",
       "      <td>NaN</td>\n",
       "      <td>NaN</td>\n",
       "      <td>NaN</td>\n",
       "    </tr>\n",
       "    <tr>\n",
       "      <th>2</th>\n",
       "      <td>1.964733e+13</td>\n",
       "      <td>19.0</td>\n",
       "      <td>1964733.0</td>\n",
       "      <td>1930924.0</td>\n",
       "      <td>Belmont Senior High</td>\n",
       "      <td>Los Angeles Unified</td>\n",
       "      <td>Los Angeles</td>\n",
       "      <td>206.0</td>\n",
       "      <td>102.0</td>\n",
       "      <td>31.0</td>\n",
       "      <td>...</td>\n",
       "      <td>219.0</td>\n",
       "      <td>174.0</td>\n",
       "      <td>42.0</td>\n",
       "      <td>24.14</td>\n",
       "      <td>12.0</td>\n",
       "      <td>6.90</td>\n",
       "      <td>14.0</td>\n",
       "      <td>13.73</td>\n",
       "      <td>11.0</td>\n",
       "      <td>6.32</td>\n",
       "    </tr>\n",
       "    <tr>\n",
       "      <th>3</th>\n",
       "      <td>1.964733e+13</td>\n",
       "      <td>19.0</td>\n",
       "      <td>1964733.0</td>\n",
       "      <td>1931476.0</td>\n",
       "      <td>Canoga Park Senior High</td>\n",
       "      <td>Los Angeles Unified</td>\n",
       "      <td>Los Angeles</td>\n",
       "      <td>227.0</td>\n",
       "      <td>113.0</td>\n",
       "      <td>54.0</td>\n",
       "      <td>...</td>\n",
       "      <td>333.0</td>\n",
       "      <td>275.0</td>\n",
       "      <td>97.0</td>\n",
       "      <td>35.27</td>\n",
       "      <td>37.0</td>\n",
       "      <td>13.45</td>\n",
       "      <td>18.0</td>\n",
       "      <td>15.93</td>\n",
       "      <td>35.0</td>\n",
       "      <td>12.73</td>\n",
       "    </tr>\n",
       "    <tr>\n",
       "      <th>4</th>\n",
       "      <td>1.964733e+13</td>\n",
       "      <td>19.0</td>\n",
       "      <td>1964733.0</td>\n",
       "      <td>1931856.0</td>\n",
       "      <td>Whitman Continuation</td>\n",
       "      <td>Los Angeles Unified</td>\n",
       "      <td>Los Angeles</td>\n",
       "      <td>18.0</td>\n",
       "      <td>14.0</td>\n",
       "      <td>NaN</td>\n",
       "      <td>...</td>\n",
       "      <td>17.0</td>\n",
       "      <td>5.0</td>\n",
       "      <td>NaN</td>\n",
       "      <td>NaN</td>\n",
       "      <td>NaN</td>\n",
       "      <td>NaN</td>\n",
       "      <td>NaN</td>\n",
       "      <td>NaN</td>\n",
       "      <td>NaN</td>\n",
       "      <td>NaN</td>\n",
       "    </tr>\n",
       "  </tbody>\n",
       "</table>\n",
       "<p>5 rows × 23 columns</p>\n",
       "</div>"
      ],
      "text/plain": [
       "            CDS  CCode     CDCode      SCode                    SName  \\\n",
       "0  6.615981e+12    6.0   661598.0   630046.0  Colusa Alternative Home   \n",
       "1  6.616061e+12    6.0   661606.0   634758.0          Maxwell Sr High   \n",
       "2  1.964733e+13   19.0  1964733.0  1930924.0      Belmont Senior High   \n",
       "3  1.964733e+13   19.0  1964733.0  1931476.0  Canoga Park Senior High   \n",
       "4  1.964733e+13   19.0  1964733.0  1931856.0     Whitman Continuation   \n",
       "\n",
       "                 DName        CName  Enroll12  NumTSTTakr12  \\\n",
       "0       Colusa Unified       Colusa      18.0           0.0   \n",
       "1      Maxwell Unified       Colusa      29.0          10.0   \n",
       "2  Los Angeles Unified  Los Angeles     206.0         102.0   \n",
       "3  Los Angeles Unified  Los Angeles     227.0         113.0   \n",
       "4  Los Angeles Unified  Los Angeles      18.0          14.0   \n",
       "\n",
       "   NumERWBenchmark12  ...  Enroll11  NumTSTTakr11  NumERWBenchmark11  \\\n",
       "0                NaN  ...      18.0           0.0                NaN   \n",
       "1                NaN  ...      26.0           6.0                NaN   \n",
       "2               31.0  ...     219.0         174.0               42.0   \n",
       "3               54.0  ...     333.0         275.0               97.0   \n",
       "4                NaN  ...      17.0           5.0                NaN   \n",
       "\n",
       "   PctERWBenchmark11  NumMathBenchmark11  PctMathBenchmark11  \\\n",
       "0                NaN                 NaN                 NaN   \n",
       "1                NaN                 NaN                 NaN   \n",
       "2              24.14                12.0                6.90   \n",
       "3              35.27                37.0               13.45   \n",
       "4                NaN                 NaN                 NaN   \n",
       "\n",
       "   TotNumBothBenchmark12  PctBothBenchmark12  TotNumBothBenchmark11  \\\n",
       "0                    NaN                 NaN                    NaN   \n",
       "1                    NaN                 NaN                    NaN   \n",
       "2                   14.0               13.73                   11.0   \n",
       "3                   18.0               15.93                   35.0   \n",
       "4                    NaN                 NaN                    NaN   \n",
       "\n",
       "   PctBothBenchmark11  \n",
       "0                 NaN  \n",
       "1                 NaN  \n",
       "2                6.32  \n",
       "3               12.73  \n",
       "4                 NaN  \n",
       "\n",
       "[5 rows x 23 columns]"
      ]
     },
     "execution_count": 49,
     "metadata": {},
     "output_type": "execute_result"
    }
   ],
   "source": [
    "sat.drop(columns=['RType', 'Year', 'Unnamed: 25'], inplace=True)\n",
    "sat.head()"
   ]
  },
  {
   "cell_type": "code",
   "execution_count": 50,
   "metadata": {
    "ExecuteTime": {
     "end_time": "2021-03-31T00:56:34.567033Z",
     "start_time": "2021-03-31T00:56:34.553145Z"
    }
   },
   "outputs": [
    {
     "data": {
      "text/plain": [
       "CDS                        0\n",
       "CCode                      0\n",
       "CDCode                     0\n",
       "SCode                      0\n",
       "SName                    440\n",
       "DName                     54\n",
       "CName                      0\n",
       "Enroll12                   0\n",
       "NumTSTTakr12               0\n",
       "NumERWBenchmark12          0\n",
       "PctERWBenchmark12          0\n",
       "NumMathBenchmark12         0\n",
       "PctMathBenchmark12         0\n",
       "Enroll11                   0\n",
       "NumTSTTakr11               0\n",
       "NumERWBenchmark11          0\n",
       "PctERWBenchmark11          0\n",
       "NumMathBenchmark11         0\n",
       "PctMathBenchmark11         0\n",
       "TotNumBothBenchmark12      0\n",
       "PctBothBenchmark12         0\n",
       "TotNumBothBenchmark11      0\n",
       "PctBothBenchmark11         0\n",
       "dtype: int64"
      ]
     },
     "execution_count": 50,
     "metadata": {},
     "output_type": "execute_result"
    }
   ],
   "source": [
    "sat.dropna(axis=0, subset=['NumERWBenchmark12'], inplace=True)\n",
    "sat.dropna(axis=0, subset=['NumERWBenchmark11'], inplace=True)\n",
    "sat.isna().sum()"
   ]
  },
  {
   "cell_type": "code",
   "execution_count": 51,
   "metadata": {
    "ExecuteTime": {
     "end_time": "2021-03-31T00:56:34.597785Z",
     "start_time": "2021-03-31T00:56:34.568024Z"
    }
   },
   "outputs": [
    {
     "data": {
      "text/html": [
       "<div>\n",
       "<style scoped>\n",
       "    .dataframe tbody tr th:only-of-type {\n",
       "        vertical-align: middle;\n",
       "    }\n",
       "\n",
       "    .dataframe tbody tr th {\n",
       "        vertical-align: top;\n",
       "    }\n",
       "\n",
       "    .dataframe thead th {\n",
       "        text-align: right;\n",
       "    }\n",
       "</style>\n",
       "<table border=\"1\" class=\"dataframe\">\n",
       "  <thead>\n",
       "    <tr style=\"text-align: right;\">\n",
       "      <th></th>\n",
       "      <th>CDS</th>\n",
       "      <th>CCode</th>\n",
       "      <th>CDCode</th>\n",
       "      <th>SCode</th>\n",
       "      <th>SName</th>\n",
       "      <th>DName</th>\n",
       "      <th>CName</th>\n",
       "      <th>Enroll12</th>\n",
       "      <th>NumTSTTakr12</th>\n",
       "      <th>NumERWBenchmark12</th>\n",
       "      <th>...</th>\n",
       "      <th>Enroll11</th>\n",
       "      <th>NumTSTTakr11</th>\n",
       "      <th>NumERWBenchmark11</th>\n",
       "      <th>PctERWBenchmark11</th>\n",
       "      <th>NumMathBenchmark11</th>\n",
       "      <th>PctMathBenchmark11</th>\n",
       "      <th>TotNumBothBenchmark12</th>\n",
       "      <th>PctBothBenchmark12</th>\n",
       "      <th>TotNumBothBenchmark11</th>\n",
       "      <th>PctBothBenchmark11</th>\n",
       "    </tr>\n",
       "  </thead>\n",
       "  <tbody>\n",
       "    <tr>\n",
       "      <th>2</th>\n",
       "      <td>1.964733e+13</td>\n",
       "      <td>19.0</td>\n",
       "      <td>1964733.0</td>\n",
       "      <td>1930924.0</td>\n",
       "      <td>Belmont Senior High</td>\n",
       "      <td>Los Angeles Unified</td>\n",
       "      <td>Los Angeles</td>\n",
       "      <td>206.0</td>\n",
       "      <td>102.0</td>\n",
       "      <td>31.0</td>\n",
       "      <td>...</td>\n",
       "      <td>219.0</td>\n",
       "      <td>174.0</td>\n",
       "      <td>42.0</td>\n",
       "      <td>24.14</td>\n",
       "      <td>12.0</td>\n",
       "      <td>6.90</td>\n",
       "      <td>14.0</td>\n",
       "      <td>13.73</td>\n",
       "      <td>11.0</td>\n",
       "      <td>6.32</td>\n",
       "    </tr>\n",
       "    <tr>\n",
       "      <th>3</th>\n",
       "      <td>1.964733e+13</td>\n",
       "      <td>19.0</td>\n",
       "      <td>1964733.0</td>\n",
       "      <td>1931476.0</td>\n",
       "      <td>Canoga Park Senior High</td>\n",
       "      <td>Los Angeles Unified</td>\n",
       "      <td>Los Angeles</td>\n",
       "      <td>227.0</td>\n",
       "      <td>113.0</td>\n",
       "      <td>54.0</td>\n",
       "      <td>...</td>\n",
       "      <td>333.0</td>\n",
       "      <td>275.0</td>\n",
       "      <td>97.0</td>\n",
       "      <td>35.27</td>\n",
       "      <td>37.0</td>\n",
       "      <td>13.45</td>\n",
       "      <td>18.0</td>\n",
       "      <td>15.93</td>\n",
       "      <td>35.0</td>\n",
       "      <td>12.73</td>\n",
       "    </tr>\n",
       "    <tr>\n",
       "      <th>5</th>\n",
       "      <td>1.964734e+13</td>\n",
       "      <td>19.0</td>\n",
       "      <td>1964733.0</td>\n",
       "      <td>6061451.0</td>\n",
       "      <td>Foshay Learning Center</td>\n",
       "      <td>Los Angeles Unified</td>\n",
       "      <td>Los Angeles</td>\n",
       "      <td>166.0</td>\n",
       "      <td>106.0</td>\n",
       "      <td>68.0</td>\n",
       "      <td>...</td>\n",
       "      <td>187.0</td>\n",
       "      <td>183.0</td>\n",
       "      <td>91.0</td>\n",
       "      <td>49.73</td>\n",
       "      <td>47.0</td>\n",
       "      <td>25.68</td>\n",
       "      <td>36.0</td>\n",
       "      <td>33.96</td>\n",
       "      <td>44.0</td>\n",
       "      <td>24.04</td>\n",
       "    </tr>\n",
       "    <tr>\n",
       "      <th>6</th>\n",
       "      <td>3.073635e+13</td>\n",
       "      <td>30.0</td>\n",
       "      <td>3073635.0</td>\n",
       "      <td>3034956.0</td>\n",
       "      <td>Mission Viejo High</td>\n",
       "      <td>Saddleback Valley Unified</td>\n",
       "      <td>Orange</td>\n",
       "      <td>562.0</td>\n",
       "      <td>190.0</td>\n",
       "      <td>161.0</td>\n",
       "      <td>...</td>\n",
       "      <td>503.0</td>\n",
       "      <td>223.0</td>\n",
       "      <td>206.0</td>\n",
       "      <td>92.38</td>\n",
       "      <td>176.0</td>\n",
       "      <td>78.92</td>\n",
       "      <td>132.0</td>\n",
       "      <td>69.47</td>\n",
       "      <td>172.0</td>\n",
       "      <td>77.13</td>\n",
       "    </tr>\n",
       "    <tr>\n",
       "      <th>9</th>\n",
       "      <td>1.964733e+13</td>\n",
       "      <td>19.0</td>\n",
       "      <td>1964733.0</td>\n",
       "      <td>119685.0</td>\n",
       "      <td>New Open World Academy K-12</td>\n",
       "      <td>Los Angeles Unified</td>\n",
       "      <td>Los Angeles</td>\n",
       "      <td>85.0</td>\n",
       "      <td>68.0</td>\n",
       "      <td>17.0</td>\n",
       "      <td>...</td>\n",
       "      <td>79.0</td>\n",
       "      <td>79.0</td>\n",
       "      <td>22.0</td>\n",
       "      <td>27.85</td>\n",
       "      <td>10.0</td>\n",
       "      <td>12.66</td>\n",
       "      <td>6.0</td>\n",
       "      <td>8.82</td>\n",
       "      <td>6.0</td>\n",
       "      <td>7.59</td>\n",
       "    </tr>\n",
       "  </tbody>\n",
       "</table>\n",
       "<p>5 rows × 23 columns</p>\n",
       "</div>"
      ],
      "text/plain": [
       "            CDS  CCode     CDCode      SCode                        SName  \\\n",
       "2  1.964733e+13   19.0  1964733.0  1930924.0          Belmont Senior High   \n",
       "3  1.964733e+13   19.0  1964733.0  1931476.0      Canoga Park Senior High   \n",
       "5  1.964734e+13   19.0  1964733.0  6061451.0       Foshay Learning Center   \n",
       "6  3.073635e+13   30.0  3073635.0  3034956.0           Mission Viejo High   \n",
       "9  1.964733e+13   19.0  1964733.0   119685.0  New Open World Academy K-12   \n",
       "\n",
       "                       DName        CName  Enroll12  NumTSTTakr12  \\\n",
       "2        Los Angeles Unified  Los Angeles     206.0         102.0   \n",
       "3        Los Angeles Unified  Los Angeles     227.0         113.0   \n",
       "5        Los Angeles Unified  Los Angeles     166.0         106.0   \n",
       "6  Saddleback Valley Unified       Orange     562.0         190.0   \n",
       "9        Los Angeles Unified  Los Angeles      85.0          68.0   \n",
       "\n",
       "   NumERWBenchmark12  ...  Enroll11  NumTSTTakr11  NumERWBenchmark11  \\\n",
       "2               31.0  ...     219.0         174.0               42.0   \n",
       "3               54.0  ...     333.0         275.0               97.0   \n",
       "5               68.0  ...     187.0         183.0               91.0   \n",
       "6              161.0  ...     503.0         223.0              206.0   \n",
       "9               17.0  ...      79.0          79.0               22.0   \n",
       "\n",
       "   PctERWBenchmark11  NumMathBenchmark11  PctMathBenchmark11  \\\n",
       "2              24.14                12.0                6.90   \n",
       "3              35.27                37.0               13.45   \n",
       "5              49.73                47.0               25.68   \n",
       "6              92.38               176.0               78.92   \n",
       "9              27.85                10.0               12.66   \n",
       "\n",
       "   TotNumBothBenchmark12  PctBothBenchmark12  TotNumBothBenchmark11  \\\n",
       "2                   14.0               13.73                   11.0   \n",
       "3                   18.0               15.93                   35.0   \n",
       "5                   36.0               33.96                   44.0   \n",
       "6                  132.0               69.47                  172.0   \n",
       "9                    6.0                8.82                    6.0   \n",
       "\n",
       "   PctBothBenchmark11  \n",
       "2                6.32  \n",
       "3               12.73  \n",
       "5               24.04  \n",
       "6               77.13  \n",
       "9                7.59  \n",
       "\n",
       "[5 rows x 23 columns]"
      ]
     },
     "execution_count": 51,
     "metadata": {},
     "output_type": "execute_result"
    }
   ],
   "source": [
    "sat.head()"
   ]
  },
  {
   "cell_type": "code",
   "execution_count": null,
   "metadata": {
    "ExecuteTime": {
     "end_time": "2021-03-31T00:39:18.505625Z",
     "start_time": "2021-03-31T00:39:18.477849Z"
    }
   },
   "outputs": [],
   "source": []
  },
  {
   "cell_type": "markdown",
   "metadata": {},
   "source": [
    "#### 5. Display the data types of each feature."
   ]
  },
  {
   "cell_type": "code",
   "execution_count": 52,
   "metadata": {
    "ExecuteTime": {
     "end_time": "2021-03-31T00:56:34.613161Z",
     "start_time": "2021-03-31T00:56:34.599273Z"
    },
    "scrolled": true
   },
   "outputs": [
    {
     "data": {
      "text/plain": [
       "CDS                      float64\n",
       "CCode                    float64\n",
       "CDCode                   float64\n",
       "SCode                    float64\n",
       "SName                     object\n",
       "DName                     object\n",
       "CName                     object\n",
       "Enroll12                 float64\n",
       "NumTSTTakr12             float64\n",
       "NumERWBenchmark12        float64\n",
       "PctERWBenchmark12        float64\n",
       "NumMathBenchmark12       float64\n",
       "PctMathBenchmark12       float64\n",
       "Enroll11                 float64\n",
       "NumTSTTakr11             float64\n",
       "NumERWBenchmark11        float64\n",
       "PctERWBenchmark11        float64\n",
       "NumMathBenchmark11       float64\n",
       "PctMathBenchmark11       float64\n",
       "TotNumBothBenchmark12    float64\n",
       "PctBothBenchmark12       float64\n",
       "TotNumBothBenchmark11    float64\n",
       "PctBothBenchmark11       float64\n",
       "dtype: object"
      ]
     },
     "execution_count": 52,
     "metadata": {},
     "output_type": "execute_result"
    }
   ],
   "source": [
    "sat.dtypes"
   ]
  },
  {
   "cell_type": "markdown",
   "metadata": {},
   "source": [
    "#### 6. Fix any incorrect data types found in step 5.\n",
    "    - Fix any individual values preventing other columns from being the appropriate type.\n",
    "    - If your dataset has a column of percents (ex. '50%', '30.5%', etc.), use the function you wrote in Part 1 (coding challenges, number 3) to convert this to floats! *Hint*: use `.map()` or `.apply()`."
   ]
  },
  {
   "cell_type": "code",
   "execution_count": null,
   "metadata": {},
   "outputs": [],
   "source": []
  },
  {
   "cell_type": "markdown",
   "metadata": {},
   "source": [
    "#### 7. Rename Columns.\n",
    "    - Column names should be all lowercase.\n",
    "    - Column names should not contain spaces (underscores will suffice--this allows for using the `df.column_name` method to access columns in addition to `df['column_name']`).\n",
    "    - Column names should be unique and informative."
   ]
  },
  {
   "cell_type": "code",
   "execution_count": 53,
   "metadata": {
    "ExecuteTime": {
     "end_time": "2021-03-31T00:56:38.401020Z",
     "start_time": "2021-03-31T00:56:38.392091Z"
    }
   },
   "outputs": [],
   "source": [
    "sat.rename(columns={\n",
    "    'CDS': 'uid_code',\n",
    "    'CCode': 'county_code',\n",
    "    'CDCode': 'district_code',\n",
    "    'SCode': 'school_code',\n",
    "    'SName': 'school_name',\n",
    "    'DName': 'district_name',\n",
    "    'CName': 'county_name',\n",
    "    'Enroll12': 'enrolled_grade_12',\n",
    "    'NumTSTTakr12': 'num_testers_grade_12',\n",
    "    'PctERWBenchmark12': 'pct_erw_pass_12',\n",
    "    'PctMathBenchmark12': 'pct_math_pass_12',\n",
    "    'Enroll11': 'enrolled_grade_11',\n",
    "    'NumTSTTakr11': 'num_testers_grade_11',\n",
    "    'PctERWBenchmark11': 'pct_erw_pass_11',\n",
    "    'PctMathBenchmark11': 'pct_math_pass_11',\n",
    "    'PctBothBenchmark12': 'pct_both_pass_12',\n",
    "    'PctBothBenchmark11': 'pct_both_pass_11'\n",
    "}, inplace=True)"
   ]
  },
  {
   "cell_type": "code",
   "execution_count": 54,
   "metadata": {
    "ExecuteTime": {
     "end_time": "2021-03-31T00:56:39.523439Z",
     "start_time": "2021-03-31T00:56:39.516991Z"
    }
   },
   "outputs": [],
   "source": [
    "sat.drop(columns=['NumERWBenchmark12', 'NumMathBenchmark12', 'NumERWBenchmark11', \n",
    "                  'NumMathBenchmark11', 'TotNumBothBenchmark12', 'TotNumBothBenchmark11'], inplace=True)"
   ]
  },
  {
   "cell_type": "code",
   "execution_count": 56,
   "metadata": {
    "ExecuteTime": {
     "end_time": "2021-03-31T00:57:40.418354Z",
     "start_time": "2021-03-31T00:57:40.385095Z"
    }
   },
   "outputs": [],
   "source": [
    "sat.to_csv('../data/cali_sat.csv', index=False)"
   ]
  },
  {
   "cell_type": "code",
   "execution_count": 67,
   "metadata": {
    "ExecuteTime": {
     "end_time": "2021-03-31T01:04:14.295742Z",
     "start_time": "2021-03-31T01:04:14.278878Z"
    }
   },
   "outputs": [],
   "source": [
    "df = pd.read_csv('../data/act_2019_ca.csv', na_values=['*'])"
   ]
  },
  {
   "cell_type": "code",
   "execution_count": 68,
   "metadata": {
    "ExecuteTime": {
     "end_time": "2021-03-31T01:04:15.094591Z",
     "start_time": "2021-03-31T01:04:15.068772Z"
    }
   },
   "outputs": [
    {
     "data": {
      "text/html": [
       "<div>\n",
       "<style scoped>\n",
       "    .dataframe tbody tr th:only-of-type {\n",
       "        vertical-align: middle;\n",
       "    }\n",
       "\n",
       "    .dataframe tbody tr th {\n",
       "        vertical-align: top;\n",
       "    }\n",
       "\n",
       "    .dataframe thead th {\n",
       "        text-align: right;\n",
       "    }\n",
       "</style>\n",
       "<table border=\"1\" class=\"dataframe\">\n",
       "  <thead>\n",
       "    <tr style=\"text-align: right;\">\n",
       "      <th></th>\n",
       "      <th>CDS</th>\n",
       "      <th>CCode</th>\n",
       "      <th>CDCode</th>\n",
       "      <th>SCode</th>\n",
       "      <th>RType</th>\n",
       "      <th>SName</th>\n",
       "      <th>DName</th>\n",
       "      <th>CName</th>\n",
       "      <th>Enroll12</th>\n",
       "      <th>NumTstTakr</th>\n",
       "      <th>AvgScrRead</th>\n",
       "      <th>AvgScrEng</th>\n",
       "      <th>AvgScrMath</th>\n",
       "      <th>AvgScrSci</th>\n",
       "      <th>NumGE21</th>\n",
       "      <th>PctGE21</th>\n",
       "      <th>Year</th>\n",
       "      <th>Unnamed: 17</th>\n",
       "    </tr>\n",
       "  </thead>\n",
       "  <tbody>\n",
       "    <tr>\n",
       "      <th>0</th>\n",
       "      <td>3.366993e+13</td>\n",
       "      <td>33.0</td>\n",
       "      <td>3366993.0</td>\n",
       "      <td>129882.0</td>\n",
       "      <td>S</td>\n",
       "      <td>21st Century Learning Institute</td>\n",
       "      <td>Beaumont Unified</td>\n",
       "      <td>Riverside</td>\n",
       "      <td>18.0</td>\n",
       "      <td>0.0</td>\n",
       "      <td>NaN</td>\n",
       "      <td>NaN</td>\n",
       "      <td>NaN</td>\n",
       "      <td>NaN</td>\n",
       "      <td>NaN</td>\n",
       "      <td>NaN</td>\n",
       "      <td>2018-19</td>\n",
       "      <td>NaN</td>\n",
       "    </tr>\n",
       "    <tr>\n",
       "      <th>1</th>\n",
       "      <td>1.964212e+13</td>\n",
       "      <td>19.0</td>\n",
       "      <td>1964212.0</td>\n",
       "      <td>1995596.0</td>\n",
       "      <td>S</td>\n",
       "      <td>ABC Secondary (Alternative)</td>\n",
       "      <td>ABC Unified</td>\n",
       "      <td>Los Angeles</td>\n",
       "      <td>58.0</td>\n",
       "      <td>0.0</td>\n",
       "      <td>NaN</td>\n",
       "      <td>NaN</td>\n",
       "      <td>NaN</td>\n",
       "      <td>NaN</td>\n",
       "      <td>NaN</td>\n",
       "      <td>NaN</td>\n",
       "      <td>2018-19</td>\n",
       "      <td>NaN</td>\n",
       "    </tr>\n",
       "    <tr>\n",
       "      <th>2</th>\n",
       "      <td>1.563776e+13</td>\n",
       "      <td>15.0</td>\n",
       "      <td>1563776.0</td>\n",
       "      <td>1530377.0</td>\n",
       "      <td>S</td>\n",
       "      <td>Abraham Lincoln Alternative</td>\n",
       "      <td>Southern Kern Unified</td>\n",
       "      <td>Kern</td>\n",
       "      <td>18.0</td>\n",
       "      <td>0.0</td>\n",
       "      <td>NaN</td>\n",
       "      <td>NaN</td>\n",
       "      <td>NaN</td>\n",
       "      <td>NaN</td>\n",
       "      <td>NaN</td>\n",
       "      <td>NaN</td>\n",
       "      <td>2018-19</td>\n",
       "      <td>NaN</td>\n",
       "    </tr>\n",
       "    <tr>\n",
       "      <th>3</th>\n",
       "      <td>4.369666e+13</td>\n",
       "      <td>43.0</td>\n",
       "      <td>4369666.0</td>\n",
       "      <td>4333795.0</td>\n",
       "      <td>S</td>\n",
       "      <td>Abraham Lincoln High</td>\n",
       "      <td>San Jose Unified</td>\n",
       "      <td>Santa Clara</td>\n",
       "      <td>463.0</td>\n",
       "      <td>53.0</td>\n",
       "      <td>23.0</td>\n",
       "      <td>22.0</td>\n",
       "      <td>22.0</td>\n",
       "      <td>23.0</td>\n",
       "      <td>34.0</td>\n",
       "      <td>64.15</td>\n",
       "      <td>2018-19</td>\n",
       "      <td>NaN</td>\n",
       "    </tr>\n",
       "    <tr>\n",
       "      <th>4</th>\n",
       "      <td>1.964733e+13</td>\n",
       "      <td>19.0</td>\n",
       "      <td>1964733.0</td>\n",
       "      <td>1935121.0</td>\n",
       "      <td>S</td>\n",
       "      <td>Abraham Lincoln Senior High</td>\n",
       "      <td>Los Angeles Unified</td>\n",
       "      <td>Los Angeles</td>\n",
       "      <td>226.0</td>\n",
       "      <td>19.0</td>\n",
       "      <td>21.0</td>\n",
       "      <td>20.0</td>\n",
       "      <td>23.0</td>\n",
       "      <td>22.0</td>\n",
       "      <td>11.0</td>\n",
       "      <td>57.89</td>\n",
       "      <td>2018-19</td>\n",
       "      <td>NaN</td>\n",
       "    </tr>\n",
       "  </tbody>\n",
       "</table>\n",
       "</div>"
      ],
      "text/plain": [
       "            CDS  CCode     CDCode      SCode RType  \\\n",
       "0  3.366993e+13   33.0  3366993.0   129882.0     S   \n",
       "1  1.964212e+13   19.0  1964212.0  1995596.0     S   \n",
       "2  1.563776e+13   15.0  1563776.0  1530377.0     S   \n",
       "3  4.369666e+13   43.0  4369666.0  4333795.0     S   \n",
       "4  1.964733e+13   19.0  1964733.0  1935121.0     S   \n",
       "\n",
       "                             SName                  DName        CName  \\\n",
       "0  21st Century Learning Institute       Beaumont Unified    Riverside   \n",
       "1      ABC Secondary (Alternative)            ABC Unified  Los Angeles   \n",
       "2      Abraham Lincoln Alternative  Southern Kern Unified         Kern   \n",
       "3             Abraham Lincoln High       San Jose Unified  Santa Clara   \n",
       "4      Abraham Lincoln Senior High    Los Angeles Unified  Los Angeles   \n",
       "\n",
       "   Enroll12  NumTstTakr  AvgScrRead  AvgScrEng  AvgScrMath  AvgScrSci  \\\n",
       "0      18.0         0.0         NaN        NaN         NaN        NaN   \n",
       "1      58.0         0.0         NaN        NaN         NaN        NaN   \n",
       "2      18.0         0.0         NaN        NaN         NaN        NaN   \n",
       "3     463.0        53.0        23.0       22.0        22.0       23.0   \n",
       "4     226.0        19.0        21.0       20.0        23.0       22.0   \n",
       "\n",
       "   NumGE21  PctGE21     Year  Unnamed: 17  \n",
       "0      NaN      NaN  2018-19          NaN  \n",
       "1      NaN      NaN  2018-19          NaN  \n",
       "2      NaN      NaN  2018-19          NaN  \n",
       "3     34.0    64.15  2018-19          NaN  \n",
       "4     11.0    57.89  2018-19          NaN  "
      ]
     },
     "execution_count": 68,
     "metadata": {},
     "output_type": "execute_result"
    }
   ],
   "source": [
    "df.head()"
   ]
  },
  {
   "cell_type": "code",
   "execution_count": 69,
   "metadata": {
    "ExecuteTime": {
     "end_time": "2021-03-31T01:04:16.895233Z",
     "start_time": "2021-03-31T01:04:16.877392Z"
    }
   },
   "outputs": [
    {
     "data": {
      "text/plain": [
       "CDS               0\n",
       "CCode             0\n",
       "CDCode            0\n",
       "SCode           350\n",
       "RType             0\n",
       "SName           404\n",
       "DName            54\n",
       "CName             0\n",
       "Enroll12          0\n",
       "NumTstTakr        0\n",
       "AvgScrRead        0\n",
       "AvgScrEng         0\n",
       "AvgScrMath        0\n",
       "AvgScrSci         0\n",
       "NumGE21           0\n",
       "PctGE21           0\n",
       "Year              0\n",
       "Unnamed: 17    1421\n",
       "dtype: int64"
      ]
     },
     "execution_count": 69,
     "metadata": {},
     "output_type": "execute_result"
    }
   ],
   "source": [
    "df.dropna(subset=['AvgScrRead'], inplace=True)\n",
    "df.isna().sum()"
   ]
  },
  {
   "cell_type": "code",
   "execution_count": 72,
   "metadata": {
    "ExecuteTime": {
     "end_time": "2021-03-31T01:07:06.850245Z",
     "start_time": "2021-03-31T01:07:06.837818Z"
    }
   },
   "outputs": [
    {
     "data": {
      "text/html": [
       "<div>\n",
       "<style scoped>\n",
       "    .dataframe tbody tr th:only-of-type {\n",
       "        vertical-align: middle;\n",
       "    }\n",
       "\n",
       "    .dataframe tbody tr th {\n",
       "        vertical-align: top;\n",
       "    }\n",
       "\n",
       "    .dataframe thead th {\n",
       "        text-align: right;\n",
       "    }\n",
       "</style>\n",
       "<table border=\"1\" class=\"dataframe\">\n",
       "  <thead>\n",
       "    <tr style=\"text-align: right;\">\n",
       "      <th></th>\n",
       "      <th>CDS</th>\n",
       "      <th>CCode</th>\n",
       "      <th>CDCode</th>\n",
       "      <th>SCode</th>\n",
       "      <th>RType</th>\n",
       "      <th>SName</th>\n",
       "      <th>DName</th>\n",
       "      <th>CName</th>\n",
       "      <th>Enroll12</th>\n",
       "      <th>NumTstTakr</th>\n",
       "      <th>PctGE21</th>\n",
       "    </tr>\n",
       "  </thead>\n",
       "  <tbody>\n",
       "    <tr>\n",
       "      <th>3</th>\n",
       "      <td>4.369666e+13</td>\n",
       "      <td>43.0</td>\n",
       "      <td>4369666.0</td>\n",
       "      <td>4333795.0</td>\n",
       "      <td>S</td>\n",
       "      <td>Abraham Lincoln High</td>\n",
       "      <td>San Jose Unified</td>\n",
       "      <td>Santa Clara</td>\n",
       "      <td>463.0</td>\n",
       "      <td>53.0</td>\n",
       "      <td>64.15</td>\n",
       "    </tr>\n",
       "    <tr>\n",
       "      <th>4</th>\n",
       "      <td>1.964733e+13</td>\n",
       "      <td>19.0</td>\n",
       "      <td>1964733.0</td>\n",
       "      <td>1935121.0</td>\n",
       "      <td>S</td>\n",
       "      <td>Abraham Lincoln Senior High</td>\n",
       "      <td>Los Angeles Unified</td>\n",
       "      <td>Los Angeles</td>\n",
       "      <td>226.0</td>\n",
       "      <td>19.0</td>\n",
       "      <td>57.89</td>\n",
       "    </tr>\n",
       "    <tr>\n",
       "      <th>5</th>\n",
       "      <td>1.976968e+13</td>\n",
       "      <td>19.0</td>\n",
       "      <td>1976968.0</td>\n",
       "      <td>109926.0</td>\n",
       "      <td>S</td>\n",
       "      <td>Academia Avance Charter</td>\n",
       "      <td>SBE - Academia Avance Charter</td>\n",
       "      <td>Los Angeles</td>\n",
       "      <td>65.0</td>\n",
       "      <td>33.0</td>\n",
       "      <td>9.09</td>\n",
       "    </tr>\n",
       "    <tr>\n",
       "      <th>6</th>\n",
       "      <td>1.964733e+13</td>\n",
       "      <td>19.0</td>\n",
       "      <td>1964733.0</td>\n",
       "      <td>126615.0</td>\n",
       "      <td>S</td>\n",
       "      <td>Academies of Education and Empowerment at Cars...</td>\n",
       "      <td>Los Angeles Unified</td>\n",
       "      <td>Los Angeles</td>\n",
       "      <td>126.0</td>\n",
       "      <td>16.0</td>\n",
       "      <td>31.25</td>\n",
       "    </tr>\n",
       "    <tr>\n",
       "      <th>13</th>\n",
       "      <td>1.965136e+13</td>\n",
       "      <td>19.0</td>\n",
       "      <td>1965136.0</td>\n",
       "      <td>1996321.0</td>\n",
       "      <td>S</td>\n",
       "      <td>Academy of the Canyons</td>\n",
       "      <td>William S. Hart Union High</td>\n",
       "      <td>Los Angeles</td>\n",
       "      <td>104.0</td>\n",
       "      <td>36.0</td>\n",
       "      <td>94.44</td>\n",
       "    </tr>\n",
       "  </tbody>\n",
       "</table>\n",
       "</div>"
      ],
      "text/plain": [
       "             CDS  CCode     CDCode      SCode RType  \\\n",
       "3   4.369666e+13   43.0  4369666.0  4333795.0     S   \n",
       "4   1.964733e+13   19.0  1964733.0  1935121.0     S   \n",
       "5   1.976968e+13   19.0  1976968.0   109926.0     S   \n",
       "6   1.964733e+13   19.0  1964733.0   126615.0     S   \n",
       "13  1.965136e+13   19.0  1965136.0  1996321.0     S   \n",
       "\n",
       "                                                SName  \\\n",
       "3                                Abraham Lincoln High   \n",
       "4                         Abraham Lincoln Senior High   \n",
       "5                             Academia Avance Charter   \n",
       "6   Academies of Education and Empowerment at Cars...   \n",
       "13                             Academy of the Canyons   \n",
       "\n",
       "                            DName        CName  Enroll12  NumTstTakr  PctGE21  \n",
       "3                San Jose Unified  Santa Clara     463.0        53.0    64.15  \n",
       "4             Los Angeles Unified  Los Angeles     226.0        19.0    57.89  \n",
       "5   SBE - Academia Avance Charter  Los Angeles      65.0        33.0     9.09  \n",
       "6             Los Angeles Unified  Los Angeles     126.0        16.0    31.25  \n",
       "13     William S. Hart Union High  Los Angeles     104.0        36.0    94.44  "
      ]
     },
     "execution_count": 72,
     "metadata": {},
     "output_type": "execute_result"
    }
   ],
   "source": [
    "df.drop(columns=['AvgScrRead', 'AvgScrEng', 'AvgScrMath', \n",
    "                 'AvgScrSci', 'NumGE21', 'Year', 'Unnamed: 17'], inplace=True)\n",
    "\n",
    "df.head()"
   ]
  },
  {
   "cell_type": "code",
   "execution_count": 73,
   "metadata": {
    "ExecuteTime": {
     "end_time": "2021-03-31T01:07:40.784204Z",
     "start_time": "2021-03-31T01:07:40.760396Z"
    },
    "scrolled": true
   },
   "outputs": [
    {
     "data": {
      "text/html": [
       "<div>\n",
       "<style scoped>\n",
       "    .dataframe tbody tr th:only-of-type {\n",
       "        vertical-align: middle;\n",
       "    }\n",
       "\n",
       "    .dataframe tbody tr th {\n",
       "        vertical-align: top;\n",
       "    }\n",
       "\n",
       "    .dataframe thead th {\n",
       "        text-align: right;\n",
       "    }\n",
       "</style>\n",
       "<table border=\"1\" class=\"dataframe\">\n",
       "  <thead>\n",
       "    <tr style=\"text-align: right;\">\n",
       "      <th></th>\n",
       "      <th>CDS</th>\n",
       "      <th>CCode</th>\n",
       "      <th>CDCode</th>\n",
       "      <th>SCode</th>\n",
       "      <th>SName</th>\n",
       "      <th>DName</th>\n",
       "      <th>CName</th>\n",
       "      <th>Enroll12</th>\n",
       "      <th>NumTstTakr</th>\n",
       "      <th>PctGE21</th>\n",
       "    </tr>\n",
       "  </thead>\n",
       "  <tbody>\n",
       "    <tr>\n",
       "      <th>3</th>\n",
       "      <td>4.369666e+13</td>\n",
       "      <td>43.0</td>\n",
       "      <td>4369666.0</td>\n",
       "      <td>4333795.0</td>\n",
       "      <td>Abraham Lincoln High</td>\n",
       "      <td>San Jose Unified</td>\n",
       "      <td>Santa Clara</td>\n",
       "      <td>463.0</td>\n",
       "      <td>53.0</td>\n",
       "      <td>64.15</td>\n",
       "    </tr>\n",
       "    <tr>\n",
       "      <th>4</th>\n",
       "      <td>1.964733e+13</td>\n",
       "      <td>19.0</td>\n",
       "      <td>1964733.0</td>\n",
       "      <td>1935121.0</td>\n",
       "      <td>Abraham Lincoln Senior High</td>\n",
       "      <td>Los Angeles Unified</td>\n",
       "      <td>Los Angeles</td>\n",
       "      <td>226.0</td>\n",
       "      <td>19.0</td>\n",
       "      <td>57.89</td>\n",
       "    </tr>\n",
       "    <tr>\n",
       "      <th>5</th>\n",
       "      <td>1.976968e+13</td>\n",
       "      <td>19.0</td>\n",
       "      <td>1976968.0</td>\n",
       "      <td>109926.0</td>\n",
       "      <td>Academia Avance Charter</td>\n",
       "      <td>SBE - Academia Avance Charter</td>\n",
       "      <td>Los Angeles</td>\n",
       "      <td>65.0</td>\n",
       "      <td>33.0</td>\n",
       "      <td>9.09</td>\n",
       "    </tr>\n",
       "    <tr>\n",
       "      <th>6</th>\n",
       "      <td>1.964733e+13</td>\n",
       "      <td>19.0</td>\n",
       "      <td>1964733.0</td>\n",
       "      <td>126615.0</td>\n",
       "      <td>Academies of Education and Empowerment at Cars...</td>\n",
       "      <td>Los Angeles Unified</td>\n",
       "      <td>Los Angeles</td>\n",
       "      <td>126.0</td>\n",
       "      <td>16.0</td>\n",
       "      <td>31.25</td>\n",
       "    </tr>\n",
       "    <tr>\n",
       "      <th>13</th>\n",
       "      <td>1.965136e+13</td>\n",
       "      <td>19.0</td>\n",
       "      <td>1965136.0</td>\n",
       "      <td>1996321.0</td>\n",
       "      <td>Academy of the Canyons</td>\n",
       "      <td>William S. Hart Union High</td>\n",
       "      <td>Los Angeles</td>\n",
       "      <td>104.0</td>\n",
       "      <td>36.0</td>\n",
       "      <td>94.44</td>\n",
       "    </tr>\n",
       "  </tbody>\n",
       "</table>\n",
       "</div>"
      ],
      "text/plain": [
       "             CDS  CCode     CDCode      SCode  \\\n",
       "3   4.369666e+13   43.0  4369666.0  4333795.0   \n",
       "4   1.964733e+13   19.0  1964733.0  1935121.0   \n",
       "5   1.976968e+13   19.0  1976968.0   109926.0   \n",
       "6   1.964733e+13   19.0  1964733.0   126615.0   \n",
       "13  1.965136e+13   19.0  1965136.0  1996321.0   \n",
       "\n",
       "                                                SName  \\\n",
       "3                                Abraham Lincoln High   \n",
       "4                         Abraham Lincoln Senior High   \n",
       "5                             Academia Avance Charter   \n",
       "6   Academies of Education and Empowerment at Cars...   \n",
       "13                             Academy of the Canyons   \n",
       "\n",
       "                            DName        CName  Enroll12  NumTstTakr  PctGE21  \n",
       "3                San Jose Unified  Santa Clara     463.0        53.0    64.15  \n",
       "4             Los Angeles Unified  Los Angeles     226.0        19.0    57.89  \n",
       "5   SBE - Academia Avance Charter  Los Angeles      65.0        33.0     9.09  \n",
       "6             Los Angeles Unified  Los Angeles     126.0        16.0    31.25  \n",
       "13     William S. Hart Union High  Los Angeles     104.0        36.0    94.44  "
      ]
     },
     "execution_count": 73,
     "metadata": {},
     "output_type": "execute_result"
    }
   ],
   "source": [
    "df.drop(columns=['RType'], inplace=True)\n",
    "df.head()"
   ]
  },
  {
   "cell_type": "code",
   "execution_count": 74,
   "metadata": {
    "ExecuteTime": {
     "end_time": "2021-03-31T01:12:12.337214Z",
     "start_time": "2021-03-31T01:12:12.310928Z"
    }
   },
   "outputs": [
    {
     "data": {
      "text/html": [
       "<div>\n",
       "<style scoped>\n",
       "    .dataframe tbody tr th:only-of-type {\n",
       "        vertical-align: middle;\n",
       "    }\n",
       "\n",
       "    .dataframe tbody tr th {\n",
       "        vertical-align: top;\n",
       "    }\n",
       "\n",
       "    .dataframe thead th {\n",
       "        text-align: right;\n",
       "    }\n",
       "</style>\n",
       "<table border=\"1\" class=\"dataframe\">\n",
       "  <thead>\n",
       "    <tr style=\"text-align: right;\">\n",
       "      <th></th>\n",
       "      <th>uid_code</th>\n",
       "      <th>county_code</th>\n",
       "      <th>district_code</th>\n",
       "      <th>school_code</th>\n",
       "      <th>school_name</th>\n",
       "      <th>district_name</th>\n",
       "      <th>county_name</th>\n",
       "      <th>num_enrolled_grade_12</th>\n",
       "      <th>num_testers_grade_12</th>\n",
       "      <th>pct_above_21_comp</th>\n",
       "    </tr>\n",
       "  </thead>\n",
       "  <tbody>\n",
       "    <tr>\n",
       "      <th>3</th>\n",
       "      <td>4.369666e+13</td>\n",
       "      <td>43.0</td>\n",
       "      <td>4369666.0</td>\n",
       "      <td>4333795.0</td>\n",
       "      <td>Abraham Lincoln High</td>\n",
       "      <td>San Jose Unified</td>\n",
       "      <td>Santa Clara</td>\n",
       "      <td>463.0</td>\n",
       "      <td>53.0</td>\n",
       "      <td>64.15</td>\n",
       "    </tr>\n",
       "    <tr>\n",
       "      <th>4</th>\n",
       "      <td>1.964733e+13</td>\n",
       "      <td>19.0</td>\n",
       "      <td>1964733.0</td>\n",
       "      <td>1935121.0</td>\n",
       "      <td>Abraham Lincoln Senior High</td>\n",
       "      <td>Los Angeles Unified</td>\n",
       "      <td>Los Angeles</td>\n",
       "      <td>226.0</td>\n",
       "      <td>19.0</td>\n",
       "      <td>57.89</td>\n",
       "    </tr>\n",
       "    <tr>\n",
       "      <th>5</th>\n",
       "      <td>1.976968e+13</td>\n",
       "      <td>19.0</td>\n",
       "      <td>1976968.0</td>\n",
       "      <td>109926.0</td>\n",
       "      <td>Academia Avance Charter</td>\n",
       "      <td>SBE - Academia Avance Charter</td>\n",
       "      <td>Los Angeles</td>\n",
       "      <td>65.0</td>\n",
       "      <td>33.0</td>\n",
       "      <td>9.09</td>\n",
       "    </tr>\n",
       "    <tr>\n",
       "      <th>6</th>\n",
       "      <td>1.964733e+13</td>\n",
       "      <td>19.0</td>\n",
       "      <td>1964733.0</td>\n",
       "      <td>126615.0</td>\n",
       "      <td>Academies of Education and Empowerment at Cars...</td>\n",
       "      <td>Los Angeles Unified</td>\n",
       "      <td>Los Angeles</td>\n",
       "      <td>126.0</td>\n",
       "      <td>16.0</td>\n",
       "      <td>31.25</td>\n",
       "    </tr>\n",
       "    <tr>\n",
       "      <th>13</th>\n",
       "      <td>1.965136e+13</td>\n",
       "      <td>19.0</td>\n",
       "      <td>1965136.0</td>\n",
       "      <td>1996321.0</td>\n",
       "      <td>Academy of the Canyons</td>\n",
       "      <td>William S. Hart Union High</td>\n",
       "      <td>Los Angeles</td>\n",
       "      <td>104.0</td>\n",
       "      <td>36.0</td>\n",
       "      <td>94.44</td>\n",
       "    </tr>\n",
       "  </tbody>\n",
       "</table>\n",
       "</div>"
      ],
      "text/plain": [
       "        uid_code  county_code  district_code  school_code  \\\n",
       "3   4.369666e+13         43.0      4369666.0    4333795.0   \n",
       "4   1.964733e+13         19.0      1964733.0    1935121.0   \n",
       "5   1.976968e+13         19.0      1976968.0     109926.0   \n",
       "6   1.964733e+13         19.0      1964733.0     126615.0   \n",
       "13  1.965136e+13         19.0      1965136.0    1996321.0   \n",
       "\n",
       "                                          school_name  \\\n",
       "3                                Abraham Lincoln High   \n",
       "4                         Abraham Lincoln Senior High   \n",
       "5                             Academia Avance Charter   \n",
       "6   Academies of Education and Empowerment at Cars...   \n",
       "13                             Academy of the Canyons   \n",
       "\n",
       "                    district_name  county_name  num_enrolled_grade_12  \\\n",
       "3                San Jose Unified  Santa Clara                  463.0   \n",
       "4             Los Angeles Unified  Los Angeles                  226.0   \n",
       "5   SBE - Academia Avance Charter  Los Angeles                   65.0   \n",
       "6             Los Angeles Unified  Los Angeles                  126.0   \n",
       "13     William S. Hart Union High  Los Angeles                  104.0   \n",
       "\n",
       "    num_testers_grade_12  pct_above_21_comp  \n",
       "3                   53.0              64.15  \n",
       "4                   19.0              57.89  \n",
       "5                   33.0               9.09  \n",
       "6                   16.0              31.25  \n",
       "13                  36.0              94.44  "
      ]
     },
     "execution_count": 74,
     "metadata": {},
     "output_type": "execute_result"
    }
   ],
   "source": [
    "df.rename(columns={\n",
    "    'CDS': 'uid_code',\n",
    "    'CCode': 'county_code',\n",
    "    'CDCode': 'district_code',\n",
    "    'SCode': 'school_code',\n",
    "    'SName': 'school_name',\n",
    "    'DName': 'district_name',\n",
    "    'CName': 'county_name',\n",
    "    'Enroll12': 'num_enrolled_grade_12',\n",
    "    'NumTstTakr': 'num_testers_grade_12',\n",
    "    'PctGE21': 'pct_above_21_comp'\n",
    "}, inplace=True)\n",
    "df.head()"
   ]
  },
  {
   "cell_type": "code",
   "execution_count": 75,
   "metadata": {
    "ExecuteTime": {
     "end_time": "2021-03-31T01:12:56.930565Z",
     "start_time": "2021-03-31T01:12:56.913677Z"
    }
   },
   "outputs": [],
   "source": [
    "df.to_csv('../data/cali_act.csv', index=False)"
   ]
  },
  {
   "cell_type": "code",
   "execution_count": 9,
   "metadata": {
    "ExecuteTime": {
     "end_time": "2021-03-31T18:14:36.552855Z",
     "start_time": "2021-03-31T18:14:36.518631Z"
    }
   },
   "outputs": [
    {
     "data": {
      "text/html": [
       "<div>\n",
       "<style scoped>\n",
       "    .dataframe tbody tr th:only-of-type {\n",
       "        vertical-align: middle;\n",
       "    }\n",
       "\n",
       "    .dataframe tbody tr th {\n",
       "        vertical-align: top;\n",
       "    }\n",
       "\n",
       "    .dataframe thead th {\n",
       "        text-align: right;\n",
       "    }\n",
       "</style>\n",
       "<table border=\"1\" class=\"dataframe\">\n",
       "  <thead>\n",
       "    <tr style=\"text-align: right;\">\n",
       "      <th></th>\n",
       "      <th>uid_code</th>\n",
       "      <th>county_code</th>\n",
       "      <th>district_code</th>\n",
       "      <th>school_code</th>\n",
       "      <th>school_name</th>\n",
       "      <th>district_name</th>\n",
       "      <th>county_name</th>\n",
       "      <th>num_enrolled_grade_12</th>\n",
       "      <th>num_testers_grade_12</th>\n",
       "      <th>pct_above_21_comp</th>\n",
       "    </tr>\n",
       "  </thead>\n",
       "  <tbody>\n",
       "    <tr>\n",
       "      <th>0</th>\n",
       "      <td>4.369666e+13</td>\n",
       "      <td>43.0</td>\n",
       "      <td>4369666.0</td>\n",
       "      <td>4333795.0</td>\n",
       "      <td>Abraham Lincoln High</td>\n",
       "      <td>San Jose Unified</td>\n",
       "      <td>Santa Clara</td>\n",
       "      <td>463.0</td>\n",
       "      <td>53.0</td>\n",
       "      <td>64.15</td>\n",
       "    </tr>\n",
       "    <tr>\n",
       "      <th>1</th>\n",
       "      <td>1.964733e+13</td>\n",
       "      <td>19.0</td>\n",
       "      <td>1964733.0</td>\n",
       "      <td>1935121.0</td>\n",
       "      <td>Abraham Lincoln Senior High</td>\n",
       "      <td>Los Angeles Unified</td>\n",
       "      <td>Los Angeles</td>\n",
       "      <td>226.0</td>\n",
       "      <td>19.0</td>\n",
       "      <td>57.89</td>\n",
       "    </tr>\n",
       "    <tr>\n",
       "      <th>2</th>\n",
       "      <td>1.976968e+13</td>\n",
       "      <td>19.0</td>\n",
       "      <td>1976968.0</td>\n",
       "      <td>109926.0</td>\n",
       "      <td>Academia Avance Charter</td>\n",
       "      <td>SBE - Academia Avance Charter</td>\n",
       "      <td>Los Angeles</td>\n",
       "      <td>65.0</td>\n",
       "      <td>33.0</td>\n",
       "      <td>9.09</td>\n",
       "    </tr>\n",
       "    <tr>\n",
       "      <th>3</th>\n",
       "      <td>1.964733e+13</td>\n",
       "      <td>19.0</td>\n",
       "      <td>1964733.0</td>\n",
       "      <td>126615.0</td>\n",
       "      <td>Academies of Education and Empowerment at Cars...</td>\n",
       "      <td>Los Angeles Unified</td>\n",
       "      <td>Los Angeles</td>\n",
       "      <td>126.0</td>\n",
       "      <td>16.0</td>\n",
       "      <td>31.25</td>\n",
       "    </tr>\n",
       "    <tr>\n",
       "      <th>4</th>\n",
       "      <td>1.965136e+13</td>\n",
       "      <td>19.0</td>\n",
       "      <td>1965136.0</td>\n",
       "      <td>1996321.0</td>\n",
       "      <td>Academy of the Canyons</td>\n",
       "      <td>William S. Hart Union High</td>\n",
       "      <td>Los Angeles</td>\n",
       "      <td>104.0</td>\n",
       "      <td>36.0</td>\n",
       "      <td>94.44</td>\n",
       "    </tr>\n",
       "  </tbody>\n",
       "</table>\n",
       "</div>"
      ],
      "text/plain": [
       "       uid_code  county_code  district_code  school_code  \\\n",
       "0  4.369666e+13         43.0      4369666.0    4333795.0   \n",
       "1  1.964733e+13         19.0      1964733.0    1935121.0   \n",
       "2  1.976968e+13         19.0      1976968.0     109926.0   \n",
       "3  1.964733e+13         19.0      1964733.0     126615.0   \n",
       "4  1.965136e+13         19.0      1965136.0    1996321.0   \n",
       "\n",
       "                                         school_name  \\\n",
       "0                               Abraham Lincoln High   \n",
       "1                        Abraham Lincoln Senior High   \n",
       "2                            Academia Avance Charter   \n",
       "3  Academies of Education and Empowerment at Cars...   \n",
       "4                             Academy of the Canyons   \n",
       "\n",
       "                   district_name  county_name  num_enrolled_grade_12  \\\n",
       "0               San Jose Unified  Santa Clara                  463.0   \n",
       "1            Los Angeles Unified  Los Angeles                  226.0   \n",
       "2  SBE - Academia Avance Charter  Los Angeles                   65.0   \n",
       "3            Los Angeles Unified  Los Angeles                  126.0   \n",
       "4     William S. Hart Union High  Los Angeles                  104.0   \n",
       "\n",
       "   num_testers_grade_12  pct_above_21_comp  \n",
       "0                  53.0              64.15  \n",
       "1                  19.0              57.89  \n",
       "2                  33.0               9.09  \n",
       "3                  16.0              31.25  \n",
       "4                  36.0              94.44  "
      ]
     },
     "execution_count": 9,
     "metadata": {},
     "output_type": "execute_result"
    }
   ],
   "source": [
    "df = pd.read_csv('../data/cali_act.csv')\n",
    "df.head()"
   ]
  },
  {
   "cell_type": "markdown",
   "metadata": {},
   "source": [
    "|Feature|Type|Dataset|Description|\n",
    "|---|---|---|---|\n",
    "|**uid_code**|*float*|Cali ACT|A unique identifying code for each school, combining the county, district, and school codes.|\n",
    "|**county_code**|*float*|Cali ACT|The county identifier|\n",
    "|**district_code**|*float*|Cali ACT|The district identifier|  \n",
    "|**school_code**|*float*|Cali ACT|The school identifier|\n",
    "|**school_name**|*object*|Cali ACT|The name of the school. If the name is n/a, the record is from the district/county/state|\n",
    "|**district_name**|*object*|Cali ACT|The name of the district. If the name is n/a, the record is from the county/state|\n",
    "|**county_name**|*object*|Cali ACT|The name of the county.|\n",
    "|**num_enrolled_grade_12**|*float*|Cali ACT|Number of students enrolled in grade 12|\n",
    "|**num_testers_grade_12**|*float*|Cali ACT|Number of students in grade 12 who tested|\n",
    "|**pct_above_21_comp**|*float*|Cali ACT|Percent of students who tested who achieved higher than a 21 composite score|\n",
    "|----------------------------|------|-------|----------------|\n",
    "|**uid_code**|*float*|Cali SAT|A unique identifying code for each school, combining the county, district, and school codes.|\n",
    "|**county_code**|*float*|Cali SAT|The county identifier|\n",
    "|**district_code**|*float*|Cali SAT|The district identifier|  \n",
    "|**school_code**|*float*|Cali SAT|The school identifier|\n",
    "|**school_name**|*object*|Cali SAT|The name of the school. If the name is n/a, the record is from the district/county/state|\n",
    "|**district_name**|*object*|Cali SAT|The name of the district. If the name is n/a, the record is from the county/state|\n",
    "|**county_name**|*object*|Cali SAT|The name of the county.|\n",
    "|**enrolled_grade_12**|*float*|Cali SAT|Number of students enrolled in grade 12|\n",
    "|**num_testers_grade_12**|*float*|Cali SAT|Number of students in grade 12 who tested|\n",
    "|**pct_erw_pass_12**|*float*|Cali SAT|Percent of students in grade 12 who took the SAT and achieved higher than 480 (College Board benchmark) in Evidence-based Reading and Writing|\n",
    "|**pct_math_pass_12**|*float*|Cali SAT|Percent of students in grade 12 who took the SAT and achieved higher than 530 (College Board benchmark) in Math|\n",
    "|**enrolled_grade_11**|*float*|Cali SAT|Number of students enrolled in grade 11|\n",
    "|**num_testers_grade_11**|*float*|Cali SAT|Number of students in grade 11 who tested|\n",
    "|**pct_erw_pass_11**|*float*|Cali SAT|Percent of students in grade 11 who took the SAT and achieved higher than 460 (College Board benchmark) in Evidence-based Reading and Writing|\n",
    "|**pct_math_pass_11**|*float*|Cali SAT|Percent of students in grade 11 who took the SAT and achieved higher than 510 (College Board benchmark) in Math|\n",
    "|**pct_both_pass_12**|*float*|Cali SAT|Percent of students grade 12 who passed both benchmarks (480 in ERW, 530 in Math)|\n",
    "|**pct_both_pass_11**|*float*|Cali SAT|Percent of students grade 11 who passed both benchmarks (460 in ERW, 510 in Math)|\n",
    "\n"
   ]
  },
  {
   "cell_type": "markdown",
   "metadata": {},
   "source": [
    "### Data Dictionary\n",
    "\n",
    "Now that we've fixed our data, and given it appropriate names, let's create a [data dictionary](http://library.ucmerced.edu/node/10249). \n",
    "\n",
    "A data dictionary provides a quick overview of features/variables/columns, alongside data types and descriptions. The more descriptive you can be, the more useful this document is.\n",
    "\n",
    "Example of a Fictional Data Dictionary Entry: \n",
    "\n",
    "|Feature|Type|Dataset|Description|\n",
    "|---|---|---|---|\n",
    "|**county_pop**|*integer*|2010 census|The population of the county (units in thousands, where 2.5 represents 2500 people).| \n",
    "|**per_poverty**|*float*|2010 census|The percent of the county over the age of 18 living below the 200% of official US poverty rate (units percent to two decimal places 98.10 means 98.1%)|\n",
    "\n",
    "[Here's a quick link to a short guide for formatting markdown in Jupyter notebooks](https://jupyter-notebook.readthedocs.io/en/stable/examples/Notebook/Working%20With%20Markdown%20Cells.html).\n",
    "\n",
    "Provided is the skeleton for formatting a markdown table, with columns headers that will help you create a data dictionary to quickly summarize your data, as well as some examples. **This would be a great thing to copy and paste into your custom README for this project.**\n",
    "\n",
    "*Note*: if you are unsure of what a feature is, check the source of the data! This can be found in the README."
   ]
  },
  {
   "cell_type": "code",
   "execution_count": null,
   "metadata": {},
   "outputs": [],
   "source": []
  },
  {
   "cell_type": "code",
   "execution_count": null,
   "metadata": {},
   "outputs": [],
   "source": []
  },
  {
   "cell_type": "markdown",
   "metadata": {},
   "source": [
    "**To-Do:** *Edit the table below to create your own data dictionary for the datasets you chose.*\n",
    "\n",
    "|Feature|Type|Dataset|Description|\n",
    "|---|---|---|---|\n",
    "|column name|int/float/object|ACT/SAT|This is an example| \n"
   ]
  },
  {
   "cell_type": "markdown",
   "metadata": {},
   "source": [
    "## Exploratory Data Analysis\n",
    "\n",
    "Complete the following steps to explore your data. You are welcome to do more EDA than the steps outlined here as you feel necessary:\n",
    "1. Summary Statistics.\n",
    "2. Use a **dictionary comprehension** to apply the standard deviation function you create in part 1 to each numeric column in the dataframe.  **No loops**.\n",
    "    - Assign the output to variable `sd` as a dictionary where: \n",
    "        - Each column name is now a key \n",
    "        - That standard deviation of the column is the value \n",
    "        - *Example Output :* `{'ACT_Math': 120, 'ACT_Reading': 120, ...}`\n",
    "3. Investigate trends in the data.\n",
    "    - Using sorting and/or masking (along with the `.head()` method to avoid printing our entire dataframe), consider questions relevant to your problem statement. Some examples are provided below (but feel free to change these questions for your specific problem):\n",
    "        - Which states have the highest and lowest participation rates for the 2017, 2019, or 2019 SAT and ACT?\n",
    "        - Which states have the highest and lowest mean total/composite scores for the 2017, 2019, or 2019 SAT and ACT?\n",
    "        - Do any states with 100% participation on a given test have a rate change year-to-year?\n",
    "        - Do any states show have >50% participation on *both* tests each year?\n",
    "        - Which colleges have the highest median SAT and ACT scores for admittance?\n",
    "        - Which California school districts have the highest and lowest mean test scores?\n",
    "    - **You should comment on your findings at each step in a markdown cell below your code block**. Make sure you include at least one example of sorting your dataframe by a column, and one example of using boolean filtering (i.e., masking) to select a subset of the dataframe."
   ]
  },
  {
   "cell_type": "code",
   "execution_count": 32,
   "metadata": {
    "ExecuteTime": {
     "end_time": "2021-03-31T18:28:17.744280Z",
     "start_time": "2021-03-31T18:28:17.717000Z"
    }
   },
   "outputs": [],
   "source": [
    "df.describe().T.round(2)\n",
    "act_nums = ['num_enrolled_grade_12', 'num_testers_grade_12', 'pct_above_21_comp']"
   ]
  },
  {
   "cell_type": "code",
   "execution_count": 36,
   "metadata": {
    "ExecuteTime": {
     "end_time": "2021-03-31T18:28:54.393158Z",
     "start_time": "2021-03-31T18:28:54.074728Z"
    }
   },
   "outputs": [
    {
     "data": {
      "text/plain": [
       "{'num_enrolled_grade_12': 13574.53,\n",
       " 'num_testers_grade_12': 2310.78,\n",
       " 'pct_above_21_comp': 25.57}"
      ]
     },
     "execution_count": 36,
     "metadata": {},
     "output_type": "execute_result"
    }
   ],
   "source": [
    "sd_act = {name: round(std_dev(df[name]),2) for name in df.columns if name in act_nums}\n",
    "sd_act\n"
   ]
  },
  {
   "cell_type": "code",
   "execution_count": 37,
   "metadata": {
    "ExecuteTime": {
     "end_time": "2021-03-31T18:29:40.692661Z",
     "start_time": "2021-03-31T18:29:40.664909Z"
    }
   },
   "outputs": [
    {
     "data": {
      "text/html": [
       "<div>\n",
       "<style scoped>\n",
       "    .dataframe tbody tr th:only-of-type {\n",
       "        vertical-align: middle;\n",
       "    }\n",
       "\n",
       "    .dataframe tbody tr th {\n",
       "        vertical-align: top;\n",
       "    }\n",
       "\n",
       "    .dataframe thead th {\n",
       "        text-align: right;\n",
       "    }\n",
       "</style>\n",
       "<table border=\"1\" class=\"dataframe\">\n",
       "  <thead>\n",
       "    <tr style=\"text-align: right;\">\n",
       "      <th></th>\n",
       "      <th>uid_code</th>\n",
       "      <th>county_code</th>\n",
       "      <th>district_code</th>\n",
       "      <th>school_code</th>\n",
       "      <th>school_name</th>\n",
       "      <th>district_name</th>\n",
       "      <th>county_name</th>\n",
       "      <th>enrolled_grade_12</th>\n",
       "      <th>num_testers_grade_12</th>\n",
       "      <th>pct_erw_pass_12</th>\n",
       "      <th>pct_math_pass_12</th>\n",
       "      <th>enrolled_grade_11</th>\n",
       "      <th>num_testers_grade_11</th>\n",
       "      <th>pct_erw_pass_11</th>\n",
       "      <th>pct_math_pass_11</th>\n",
       "      <th>pct_both_pass_12</th>\n",
       "      <th>pct_both_pass_11</th>\n",
       "    </tr>\n",
       "  </thead>\n",
       "  <tbody>\n",
       "    <tr>\n",
       "      <th>0</th>\n",
       "      <td>1.964733e+13</td>\n",
       "      <td>19.0</td>\n",
       "      <td>1964733.0</td>\n",
       "      <td>1930924.0</td>\n",
       "      <td>Belmont Senior High</td>\n",
       "      <td>Los Angeles Unified</td>\n",
       "      <td>Los Angeles</td>\n",
       "      <td>206.0</td>\n",
       "      <td>102.0</td>\n",
       "      <td>30.39</td>\n",
       "      <td>13.73</td>\n",
       "      <td>219.0</td>\n",
       "      <td>174.0</td>\n",
       "      <td>24.14</td>\n",
       "      <td>6.90</td>\n",
       "      <td>13.73</td>\n",
       "      <td>6.32</td>\n",
       "    </tr>\n",
       "    <tr>\n",
       "      <th>1</th>\n",
       "      <td>1.964733e+13</td>\n",
       "      <td>19.0</td>\n",
       "      <td>1964733.0</td>\n",
       "      <td>1931476.0</td>\n",
       "      <td>Canoga Park Senior High</td>\n",
       "      <td>Los Angeles Unified</td>\n",
       "      <td>Los Angeles</td>\n",
       "      <td>227.0</td>\n",
       "      <td>113.0</td>\n",
       "      <td>47.79</td>\n",
       "      <td>15.93</td>\n",
       "      <td>333.0</td>\n",
       "      <td>275.0</td>\n",
       "      <td>35.27</td>\n",
       "      <td>13.45</td>\n",
       "      <td>15.93</td>\n",
       "      <td>12.73</td>\n",
       "    </tr>\n",
       "    <tr>\n",
       "      <th>2</th>\n",
       "      <td>1.964734e+13</td>\n",
       "      <td>19.0</td>\n",
       "      <td>1964733.0</td>\n",
       "      <td>6061451.0</td>\n",
       "      <td>Foshay Learning Center</td>\n",
       "      <td>Los Angeles Unified</td>\n",
       "      <td>Los Angeles</td>\n",
       "      <td>166.0</td>\n",
       "      <td>106.0</td>\n",
       "      <td>64.15</td>\n",
       "      <td>33.96</td>\n",
       "      <td>187.0</td>\n",
       "      <td>183.0</td>\n",
       "      <td>49.73</td>\n",
       "      <td>25.68</td>\n",
       "      <td>33.96</td>\n",
       "      <td>24.04</td>\n",
       "    </tr>\n",
       "    <tr>\n",
       "      <th>3</th>\n",
       "      <td>3.073635e+13</td>\n",
       "      <td>30.0</td>\n",
       "      <td>3073635.0</td>\n",
       "      <td>3034956.0</td>\n",
       "      <td>Mission Viejo High</td>\n",
       "      <td>Saddleback Valley Unified</td>\n",
       "      <td>Orange</td>\n",
       "      <td>562.0</td>\n",
       "      <td>190.0</td>\n",
       "      <td>84.74</td>\n",
       "      <td>72.63</td>\n",
       "      <td>503.0</td>\n",
       "      <td>223.0</td>\n",
       "      <td>92.38</td>\n",
       "      <td>78.92</td>\n",
       "      <td>69.47</td>\n",
       "      <td>77.13</td>\n",
       "    </tr>\n",
       "    <tr>\n",
       "      <th>4</th>\n",
       "      <td>1.964733e+13</td>\n",
       "      <td>19.0</td>\n",
       "      <td>1964733.0</td>\n",
       "      <td>119685.0</td>\n",
       "      <td>New Open World Academy K-12</td>\n",
       "      <td>Los Angeles Unified</td>\n",
       "      <td>Los Angeles</td>\n",
       "      <td>85.0</td>\n",
       "      <td>68.0</td>\n",
       "      <td>25.00</td>\n",
       "      <td>8.82</td>\n",
       "      <td>79.0</td>\n",
       "      <td>79.0</td>\n",
       "      <td>27.85</td>\n",
       "      <td>12.66</td>\n",
       "      <td>8.82</td>\n",
       "      <td>7.59</td>\n",
       "    </tr>\n",
       "  </tbody>\n",
       "</table>\n",
       "</div>"
      ],
      "text/plain": [
       "       uid_code  county_code  district_code  school_code  \\\n",
       "0  1.964733e+13         19.0      1964733.0    1930924.0   \n",
       "1  1.964733e+13         19.0      1964733.0    1931476.0   \n",
       "2  1.964734e+13         19.0      1964733.0    6061451.0   \n",
       "3  3.073635e+13         30.0      3073635.0    3034956.0   \n",
       "4  1.964733e+13         19.0      1964733.0     119685.0   \n",
       "\n",
       "                   school_name              district_name  county_name  \\\n",
       "0          Belmont Senior High        Los Angeles Unified  Los Angeles   \n",
       "1      Canoga Park Senior High        Los Angeles Unified  Los Angeles   \n",
       "2       Foshay Learning Center        Los Angeles Unified  Los Angeles   \n",
       "3           Mission Viejo High  Saddleback Valley Unified       Orange   \n",
       "4  New Open World Academy K-12        Los Angeles Unified  Los Angeles   \n",
       "\n",
       "   enrolled_grade_12  num_testers_grade_12  pct_erw_pass_12  pct_math_pass_12  \\\n",
       "0              206.0                 102.0            30.39             13.73   \n",
       "1              227.0                 113.0            47.79             15.93   \n",
       "2              166.0                 106.0            64.15             33.96   \n",
       "3              562.0                 190.0            84.74             72.63   \n",
       "4               85.0                  68.0            25.00              8.82   \n",
       "\n",
       "   enrolled_grade_11  num_testers_grade_11  pct_erw_pass_11  pct_math_pass_11  \\\n",
       "0              219.0                 174.0            24.14              6.90   \n",
       "1              333.0                 275.0            35.27             13.45   \n",
       "2              187.0                 183.0            49.73             25.68   \n",
       "3              503.0                 223.0            92.38             78.92   \n",
       "4               79.0                  79.0            27.85             12.66   \n",
       "\n",
       "   pct_both_pass_12  pct_both_pass_11  \n",
       "0             13.73              6.32  \n",
       "1             15.93             12.73  \n",
       "2             33.96             24.04  \n",
       "3             69.47             77.13  \n",
       "4              8.82              7.59  "
      ]
     },
     "execution_count": 37,
     "metadata": {},
     "output_type": "execute_result"
    }
   ],
   "source": [
    "df2 = pd.read_csv('../data/cali_sat.csv')\n",
    "df2.head()"
   ]
  },
  {
   "cell_type": "code",
   "execution_count": 38,
   "metadata": {
    "ExecuteTime": {
     "end_time": "2021-03-31T18:31:58.359875Z",
     "start_time": "2021-03-31T18:31:57.007778Z"
    }
   },
   "outputs": [
    {
     "data": {
      "text/plain": [
       "{'enrolled_grade_12': 12645.14,\n",
       " 'num_testers_grade_12': 4468.34,\n",
       " 'pct_erw_pass_12': 19.6,\n",
       " 'pct_math_pass_12': 22.68,\n",
       " 'enrolled_grade_11': 12265.11,\n",
       " 'num_testers_grade_11': 5505.97,\n",
       " 'pct_erw_pass_11': 20.88,\n",
       " 'pct_math_pass_11': 26.16,\n",
       " 'pct_both_pass_12': 22.72,\n",
       " 'pct_both_pass_11': 26.36}"
      ]
     },
     "execution_count": 38,
     "metadata": {},
     "output_type": "execute_result"
    }
   ],
   "source": [
    "sat_nums = [name for name in df2.columns[-10:]]\n",
    "sd_sat = {name: round(std_dev(df2[name]),2) for name in df2.columns if name in sat_nums}\n",
    "sd_sat"
   ]
  },
  {
   "cell_type": "code",
   "execution_count": null,
   "metadata": {
    "ExecuteTime": {
     "end_time": "2021-03-31T23:39:35.722276Z",
     "start_time": "2021-03-31T23:39:35.702905Z"
    }
   },
   "outputs": [],
   "source": []
  },
  {
   "cell_type": "markdown",
   "metadata": {},
   "source": [
    "## These are the top ten districts based on percentage of ACT testers achieving above a 21 composite score for 2017"
   ]
  },
  {
   "cell_type": "code",
   "execution_count": 70,
   "metadata": {
    "ExecuteTime": {
     "end_time": "2021-03-31T23:39:37.723367Z",
     "start_time": "2021-03-31T23:39:37.713942Z"
    }
   },
   "outputs": [
    {
     "data": {
      "text/plain": [
       "district_name                          county_name\n",
       "Lakeside Union Elementary              San Diego      100.000\n",
       "Los Gatos-Saratoga Joint Union High    Santa Clara     96.170\n",
       "Piedmont City Unified                  Alameda         96.065\n",
       "Santa Cruz County Office of Education  Santa Cruz      95.830\n",
       "La Canada Unified                      Los Angeles     94.200\n",
       "Oak Park Unified                       Ventura         93.855\n",
       "Davis Joint Unified                    Yolo            93.350\n",
       "Sierra Sands Unified                   Kern            93.330\n",
       "Fremont Union High                     Santa Clara     92.910\n",
       "Irvine Unified                         Orange          91.674\n",
       "Name: pct_above_21_comp, dtype: float64"
      ]
     },
     "execution_count": 70,
     "metadata": {},
     "output_type": "execute_result"
    }
   ],
   "source": [
    "top_districts_act = df.groupby(['district_name', 'county_name'])['pct_above_21_comp'].mean().sort_values(ascending=False)\n",
    "top_districts_act.head(10)\n"
   ]
  },
  {
   "cell_type": "markdown",
   "metadata": {},
   "source": [
    "## These are the worst-performing ten districts based on percentage of ACT testers achieving above a 21 composite score for 2017"
   ]
  },
  {
   "cell_type": "code",
   "execution_count": 71,
   "metadata": {
    "ExecuteTime": {
     "end_time": "2021-03-31T23:39:39.661958Z",
     "start_time": "2021-03-31T23:39:39.655014Z"
    }
   },
   "outputs": [
    {
     "data": {
      "text/plain": [
       "district_name                                                  county_name   \n",
       "Golden Plains Unified                                          Fresno            0.00000\n",
       "Reef-Sunset Unified                                            Kings             3.57000\n",
       "Tulelake Basin Joint Unified                                   Modoc             6.67000\n",
       "California School for the Deaf-Riverside (State Special Schl)  Riverside         7.69000\n",
       "Washington Unified                                             Fresno            8.26000\n",
       "Mendota Unified                                                Fresno            8.54000\n",
       "Mojave Unified                                                 Kern              8.54500\n",
       "Fontana Unified                                                San Bernardino    8.85875\n",
       "SBE - Academia Avance Charter                                  Los Angeles       9.09000\n",
       "California School for the Deaf-Fremont (State Special Schl)    Alameda           9.52000\n",
       "Name: pct_above_21_comp, dtype: float64"
      ]
     },
     "execution_count": 71,
     "metadata": {},
     "output_type": "execute_result"
    }
   ],
   "source": [
    "worst_districts_act = df.groupby(['district_name', 'county_name'])['pct_above_21_comp'].mean().sort_values(ascending=True)\n",
    "worst_districts_act.head(10)"
   ]
  },
  {
   "cell_type": "markdown",
   "metadata": {},
   "source": [
    "**To-Do:** *Edit this cell with your findings on trends in the data (step 3 above).*"
   ]
  },
  {
   "cell_type": "markdown",
   "metadata": {},
   "source": [
    "## These are the top ten *counties* based on percentage of ACT testers achieving above a 21 composite score for 2017"
   ]
  },
  {
   "cell_type": "code",
   "execution_count": 72,
   "metadata": {
    "ExecuteTime": {
     "end_time": "2021-03-31T23:39:40.493755Z",
     "start_time": "2021-03-31T23:39:40.484827Z"
    }
   },
   "outputs": [
    {
     "data": {
      "text/plain": [
       "county_name\n",
       "Calaveras      85.173333\n",
       "Mono           79.300000\n",
       "Amador         78.970000\n",
       "Tuolumne       78.260000\n",
       "Marin          76.794545\n",
       "Placer         75.232000\n",
       "Shasta         74.837500\n",
       "Nevada         74.695000\n",
       "Trinity        73.330000\n",
       "Santa Clara    70.945614\n",
       "Name: pct_above_21_comp, dtype: float64"
      ]
     },
     "execution_count": 72,
     "metadata": {},
     "output_type": "execute_result"
    }
   ],
   "source": [
    "top_counties_act = df.groupby(['county_name'])['pct_above_21_comp'].mean().sort_values(ascending=False)\n",
    "top_counties_act.head(10)"
   ]
  },
  {
   "cell_type": "markdown",
   "metadata": {},
   "source": [
    "## These are the worst-performing ten *counties* based on percentage of ACT testers achieving above a 21 composite score for 2017"
   ]
  },
  {
   "cell_type": "code",
   "execution_count": 73,
   "metadata": {
    "ExecuteTime": {
     "end_time": "2021-03-31T23:39:41.018455Z",
     "start_time": "2021-03-31T23:39:41.003079Z"
    }
   },
   "outputs": [
    {
     "data": {
      "text/plain": [
       "county_name\n",
       "Modoc       16.668000\n",
       "Merced      30.820526\n",
       "Kings       30.920000\n",
       "Tehama      31.995714\n",
       "Colusa      32.373333\n",
       "Lake        33.543333\n",
       "Glenn       34.656000\n",
       "Fresno      34.744146\n",
       "Tulare      35.955600\n",
       "Monterey    38.968182\n",
       "Name: pct_above_21_comp, dtype: float64"
      ]
     },
     "execution_count": 73,
     "metadata": {},
     "output_type": "execute_result"
    }
   ],
   "source": [
    "worst_counties_act = df.groupby(['county_name'])['pct_above_21_comp'].mean().sort_values(ascending=True)\n",
    "worst_counties_act.head(10)"
   ]
  },
  {
   "cell_type": "code",
   "execution_count": null,
   "metadata": {
    "ExecuteTime": {
     "end_time": "2021-03-31T23:40:27.615451Z",
     "start_time": "2021-03-31T23:40:27.603547Z"
    }
   },
   "outputs": [],
   "source": []
  },
  {
   "cell_type": "markdown",
   "metadata": {},
   "source": [
    "## These are the top ten districts based on percentage of SAT testers in grade 12 passing both College Board benchmarks (480 in ERW, 530 in Math)"
   ]
  },
  {
   "cell_type": "code",
   "execution_count": 75,
   "metadata": {
    "ExecuteTime": {
     "end_time": "2021-03-31T23:40:29.200728Z",
     "start_time": "2021-03-31T23:40:29.184830Z"
    }
   },
   "outputs": [
    {
     "data": {
      "text/plain": [
       "district_name                        county_name\n",
       "La Canada Unified                    Los Angeles    91.760000\n",
       "San Marino Unified                   Los Angeles    91.670000\n",
       "Los Gatos-Saratoga Joint Union High  Santa Clara    91.430000\n",
       "Palo Alto Unified                    Santa Clara    90.466667\n",
       "Oak Park Unified                     Ventura        87.965000\n",
       "Irvine Unified                       Orange         87.924000\n",
       "South Pasadena Unified               Los Angeles    87.850000\n",
       "Manhattan Beach Unified              Los Angeles    87.320000\n",
       "Fremont Union High                   Santa Clara    86.930000\n",
       "Davis Joint Unified                  Yolo           85.020000\n",
       "Name: pct_both_pass_12, dtype: float64"
      ]
     },
     "execution_count": 75,
     "metadata": {},
     "output_type": "execute_result"
    }
   ],
   "source": [
    "top_districts_sat = df2.groupby(['district_name', 'county_name'])['pct_both_pass_12'].mean().sort_values(ascending=False)\n",
    "top_districts_sat.head(10)\n"
   ]
  },
  {
   "cell_type": "markdown",
   "metadata": {},
   "source": [
    "## These are the worst-performing ten districts based on percentage of SAT testers in grade 12 passing both College Board benchmarks (480 in ERW, 530 in Math)"
   ]
  },
  {
   "cell_type": "code",
   "execution_count": 76,
   "metadata": {
    "ExecuteTime": {
     "end_time": "2021-03-31T23:40:36.890677Z",
     "start_time": "2021-03-31T23:40:36.872301Z"
    }
   },
   "outputs": [
    {
     "data": {
      "text/plain": [
       "district_name                            county_name\n",
       "Golden Plains Unified                    Fresno          0.000000\n",
       "Williams Unified                         Colusa          0.000000\n",
       "Firebaugh-Las Deltas Unified             Fresno          5.950000\n",
       "McFarland Unified                        Kern            9.090000\n",
       "Cloverdale Unified                       Sonoma          9.520000\n",
       "Washington Unified                       Fresno          9.760000\n",
       "San Pasqual Valley Unified               Imperial       10.530000\n",
       "Farmersville Unified                     Tulare         10.645000\n",
       "Paramount Unified                        Los Angeles    10.916667\n",
       "SBE - The School of Arts and Enterprise  Los Angeles    11.590000\n",
       "Name: pct_both_pass_12, dtype: float64"
      ]
     },
     "execution_count": 76,
     "metadata": {},
     "output_type": "execute_result"
    }
   ],
   "source": [
    "worst_districts_sat = df2.groupby(['district_name', 'county_name'])['pct_both_pass_12'].mean().sort_values(ascending=True)\n",
    "worst_districts_sat.head(10)\n"
   ]
  },
  {
   "cell_type": "markdown",
   "metadata": {},
   "source": [
    "## These are the top ten *counties* based on percentage of SAT testers in grade 12 passing both College Board benchmarks (480 in ERW, 530 in Math)"
   ]
  },
  {
   "cell_type": "code",
   "execution_count": 78,
   "metadata": {
    "ExecuteTime": {
     "end_time": "2021-03-31T23:43:39.427289Z",
     "start_time": "2021-03-31T23:43:39.413411Z"
    }
   },
   "outputs": [
    {
     "data": {
      "text/plain": [
       "county_name\n",
       "Nevada             74.874000\n",
       "Mariposa           72.220000\n",
       "Marin              68.747273\n",
       "Tuolumne           67.922000\n",
       "El Dorado          67.452500\n",
       "Calaveras          66.658000\n",
       "Placer             65.351364\n",
       "Plumas             64.710000\n",
       "Amador             64.583333\n",
       "San Luis Obispo    63.050714\n",
       "Name: pct_both_pass_12, dtype: float64"
      ]
     },
     "execution_count": 78,
     "metadata": {},
     "output_type": "execute_result"
    }
   ],
   "source": [
    "top_counties_sat = df2.groupby(['county_name'])['pct_both_pass_12'].mean().sort_values(ascending=False)\n",
    "top_counties_sat.head(10)"
   ]
  },
  {
   "cell_type": "markdown",
   "metadata": {},
   "source": [
    "## These are the worst-performing ten *counties* based on percentage of SAT testers in grade 12 passing both College Board benchmarks (480 in ERW, 530 in Math)"
   ]
  },
  {
   "cell_type": "code",
   "execution_count": 79,
   "metadata": {
    "ExecuteTime": {
     "end_time": "2021-03-31T23:44:28.860915Z",
     "start_time": "2021-03-31T23:44:28.854963Z"
    }
   },
   "outputs": [
    {
     "data": {
      "text/plain": [
       "county_name\n",
       "Colusa          9.500000\n",
       "Merced         25.836190\n",
       "Glenn          26.331429\n",
       "Fresno         31.194151\n",
       "Madera         31.521538\n",
       "Tulare         31.748276\n",
       "Kings          34.207500\n",
       "Imperial       34.858571\n",
       "Los Angeles    35.219398\n",
       "Monterey       35.273913\n",
       "Name: pct_both_pass_12, dtype: float64"
      ]
     },
     "execution_count": 79,
     "metadata": {},
     "output_type": "execute_result"
    }
   ],
   "source": [
    "worst_counties_sat = df2.groupby(['county_name'])['pct_both_pass_12'].mean().sort_values(ascending=True)\n",
    "worst_counties_sat.head(10)"
   ]
  },
  {
   "cell_type": "markdown",
   "metadata": {},
   "source": [
    "## Visualize the Data\n",
    "\n",
    "There's not a magic bullet recommendation for the right number of plots to understand a given dataset, but visualizing your data is *always* a good idea. Not only does it allow you to quickly convey your findings (even if you have a non-technical audience), it will often reveal trends in your data that escaped you when you were looking only at numbers. It is important to not only create visualizations, but to **interpret your visualizations** as well.\n",
    "\n",
    "**Every plot should**:\n",
    "- Have a title\n",
    "- Have axis labels\n",
    "- Have appropriate tick labels\n",
    "- Text is legible in a plot\n",
    "- Plots demonstrate meaningful and valid relationships\n",
    "- Have an interpretation to aid understanding\n",
    "\n",
    "Here is an example of what your plots should look like following the above guidelines. Note that while the content of this example is unrelated, the principles of visualization hold:\n",
    "\n",
    "![](https://snag.gy/hCBR1U.jpg)\n",
    "*Interpretation: The above image shows that as we increase our spending on advertising, our sales numbers also tend to increase. There is a positive correlation between advertising spending and sales.*\n",
    "\n",
    "---\n",
    "\n",
    "Here are some prompts to get you started with visualizations. Feel free to add additional visualizations as you see fit:\n",
    "1. Use Seaborn's heatmap with pandas `.corr()` to visualize correlations between all numeric features.\n",
    "    - Heatmaps are generally not appropriate for presentations, and should often be excluded from reports as they can be visually overwhelming. **However**, they can be extremely useful in identify relationships of potential interest (as well as identifying potential collinearity before modeling).\n",
    "    - Please take time to format your output, adding a title. Look through some of the additional arguments and options. (Axis labels aren't really necessary, as long as the title is informative).\n",
    "2. Visualize distributions using histograms. If you have a lot, consider writing a custom function and use subplots.\n",
    "    - *OPTIONAL*: Summarize the underlying distributions of your features (in words & statistics)\n",
    "         - Be thorough in your verbal description of these distributions.\n",
    "         - Be sure to back up these summaries with statistics.\n",
    "         - We generally assume that data we sample from a population will be normally distributed. Do we observe this trend? Explain your answers for each distribution and how you think this will affect estimates made from these data.\n",
    "3. Plot and interpret boxplots. \n",
    "    - Boxplots demonstrate central tendency and spread in variables. In a certain sense, these are somewhat redundant with histograms, but you may be better able to identify clear outliers or differences in IQR, etc.\n",
    "    - Multiple values can be plotted to a single boxplot as long as they are of the same relative scale (meaning they have similar min/max values).\n",
    "    - Each boxplot should:\n",
    "        - Only include variables of a similar scale\n",
    "        - Have clear labels for each variable\n",
    "        - Have appropriate titles and labels\n",
    "4. Plot and interpret scatter plots to view relationships between features. Feel free to write a custom function, and subplot if you'd like. Functions save both time and space.\n",
    "    - Your plots should have:\n",
    "        - Two clearly labeled axes\n",
    "        - A proper title\n",
    "        - Colors and symbols that are clear and unmistakable\n",
    "5. Additional plots of your choosing.\n",
    "    - Are there any additional trends or relationships you haven't explored? Was there something interesting you saw that you'd like to dive further into? It's likely that there are a few more plots you might want to generate to support your narrative and recommendations that you are building toward. **As always, make sure you're interpreting your plots as you go**."
   ]
  },
  {
   "cell_type": "code",
   "execution_count": null,
   "metadata": {},
   "outputs": [],
   "source": [
    "# Code"
   ]
  },
  {
   "cell_type": "markdown",
   "metadata": {},
   "source": [
    "## Conclusions and Recommendations"
   ]
  },
  {
   "cell_type": "markdown",
   "metadata": {},
   "source": [
    "Based on your exploration of the data, what are you key takeaways and recommendations? Make sure to answer your question of interest or address your problem statement here."
   ]
  },
  {
   "cell_type": "markdown",
   "metadata": {},
   "source": [
    "**To-Do:** *Edit this cell with your conclusions and recommendations.*"
   ]
  },
  {
   "cell_type": "markdown",
   "metadata": {},
   "source": [
    "Don't forget to create your README!\n",
    "\n",
    "**To-Do:** *If you combine your problem statement, data dictionary, brief summary of your analysis, and conclusions/recommendations, you have an amazing README.md file that quickly aligns your audience to the contents of your project.* Don't forget to cite your data sources!"
   ]
  }
 ],
 "metadata": {
  "anaconda-cloud": {},
  "kernelspec": {
   "display_name": "Python 3",
   "language": "python",
   "name": "python3"
  },
  "language_info": {
   "codemirror_mode": {
    "name": "ipython",
    "version": 3
   },
   "file_extension": ".py",
   "mimetype": "text/x-python",
   "name": "python",
   "nbconvert_exporter": "python",
   "pygments_lexer": "ipython3",
   "version": "3.8.5"
  },
  "toc": {
   "base_numbering": 1,
   "nav_menu": {},
   "number_sections": true,
   "sideBar": true,
   "skip_h1_title": false,
   "title_cell": "Table of Contents",
   "title_sidebar": "Contents",
   "toc_cell": false,
   "toc_position": {},
   "toc_section_display": true,
   "toc_window_display": false
  },
  "varInspector": {
   "cols": {
    "lenName": 16,
    "lenType": 16,
    "lenVar": 40
   },
   "kernels_config": {
    "python": {
     "delete_cmd_postfix": "",
     "delete_cmd_prefix": "del ",
     "library": "var_list.py",
     "varRefreshCmd": "print(var_dic_list())"
    },
    "r": {
     "delete_cmd_postfix": ") ",
     "delete_cmd_prefix": "rm(",
     "library": "var_list.r",
     "varRefreshCmd": "cat(var_dic_list()) "
    }
   },
   "types_to_exclude": [
    "module",
    "function",
    "builtin_function_or_method",
    "instance",
    "_Feature"
   ],
   "window_display": false
  }
 },
 "nbformat": 4,
 "nbformat_minor": 4
}
